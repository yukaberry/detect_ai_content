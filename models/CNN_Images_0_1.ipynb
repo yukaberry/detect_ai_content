{
  "nbformat": 4,
  "nbformat_minor": 0,
  "metadata": {
    "colab": {
      "provenance": [],
      "gpuType": "A100"
    },
    "kernelspec": {
      "name": "python3",
      "display_name": "Python 3"
    },
    "language_info": {
      "name": "python"
    },
    "accelerator": "GPU"
  },
  "cells": [
    {
      "cell_type": "markdown",
      "source": [
        "# **#1 Load dataset from GCP Cloud Storage**"
      ],
      "metadata": {
        "id": "y6gyNF6HjqUx"
      }
    },
    {
      "cell_type": "code",
      "source": [
        "from google.colab import auth\n",
        "auth.authenticate_user()"
      ],
      "metadata": {
        "id": "fWKQ4UqhfpMq"
      },
      "execution_count": 1,
      "outputs": []
    },
    {
      "cell_type": "code",
      "source": [
        "from google.cloud import storage"
      ],
      "metadata": {
        "id": "Q9JNRU97f6K7"
      },
      "execution_count": 2,
      "outputs": []
    },
    {
      "cell_type": "code",
      "source": [
        "project_id = \"onyx-sequencer-436913-i3\"\n",
        "client = storage.Client(project=project_id)"
      ],
      "metadata": {
        "id": "MN112bBDf7Ej"
      },
      "execution_count": 3,
      "outputs": []
    },
    {
      "cell_type": "code",
      "source": [
        "bucket_name = \"cifake\"\n",
        "file_path = \"cifake-real-and-ai-generated-synthetic-images.zip\"\n",
        "destination = \"/content/cifake-real-and-ai-generated-synthetic-images.zip\""
      ],
      "metadata": {
        "id": "xDTc31UMgF3z"
      },
      "execution_count": 4,
      "outputs": []
    },
    {
      "cell_type": "code",
      "source": [
        "bucket = client.get_bucket(bucket_name)\n",
        "blob = bucket.blob(file_path)\n",
        "blob.download_to_filename(destination)"
      ],
      "metadata": {
        "id": "KWCtF5qWiOcc"
      },
      "execution_count": 5,
      "outputs": []
    },
    {
      "cell_type": "code",
      "source": [
        "import zipfile\n",
        "\n",
        "with zipfile.ZipFile(destination, 'r') as zip_ref:\n",
        "    zip_ref.extractall(\"/content/cifake-real-and-ai-generated-synthetic-images\")"
      ],
      "metadata": {
        "id": "DddFfvACg9yI"
      },
      "execution_count": 6,
      "outputs": []
    },
    {
      "cell_type": "markdown",
      "source": [
        "# **#2 Prepare Training and Test Sets**"
      ],
      "metadata": {
        "id": "Hb5P7J53lJ75"
      }
    },
    {
      "cell_type": "code",
      "source": [
        "import numpy as np\n",
        "import tensorflow as tf\n",
        "from tensorflow.keras import layers, models, metrics, callbacks, optimizers\n",
        "from tensorflow.keras.models import Sequential"
      ],
      "metadata": {
        "id": "n0Qs8H08lUkw"
      },
      "execution_count": 7,
      "outputs": []
    },
    {
      "cell_type": "code",
      "source": [
        "train_data = '/content/cifake-real-and-ai-generated-synthetic-images/train'\n",
        "train_ds = tf.keras.utils.image_dataset_from_directory(\n",
        "  train_data,\n",
        "  labels='inferred',\n",
        "  validation_split=0.7,\n",
        "  subset=\"training\",\n",
        "  seed=123,\n",
        "  image_size=(180, 180),\n",
        "  batch_size=64)"
      ],
      "metadata": {
        "colab": {
          "base_uri": "https://localhost:8080/"
        },
        "id": "1IuIwGS0mNw_",
        "outputId": "32314a6a-96fa-497d-f777-40f30174895c"
      },
      "execution_count": 8,
      "outputs": [
        {
          "output_type": "stream",
          "name": "stdout",
          "text": [
            "Found 100000 files belonging to 2 classes.\n",
            "Using 30000 files for training.\n"
          ]
        }
      ]
    },
    {
      "cell_type": "code",
      "source": [
        "train_ds.class_names"
      ],
      "metadata": {
        "colab": {
          "base_uri": "https://localhost:8080/"
        },
        "id": "O0ZU2ibAmrvy",
        "outputId": "632a32c3-0535-4b4a-ed12-38d575d6fdd7"
      },
      "execution_count": 9,
      "outputs": [
        {
          "output_type": "execute_result",
          "data": {
            "text/plain": [
              "['FAKE', 'REAL']"
            ]
          },
          "metadata": {},
          "execution_count": 9
        }
      ]
    },
    {
      "cell_type": "code",
      "source": [
        "test_data = '/content/cifake-real-and-ai-generated-synthetic-images/test'\n",
        "test_ds = tf.keras.utils.image_dataset_from_directory(\n",
        "  test_data,\n",
        "  labels='inferred',\n",
        "  validation_split=0.3,\n",
        "  subset=\"validation\",\n",
        "  seed=123,\n",
        "  image_size=(180, 180),\n",
        "  batch_size=64)"
      ],
      "metadata": {
        "colab": {
          "base_uri": "https://localhost:8080/"
        },
        "id": "wPbrm2qfqtWK",
        "outputId": "3c8ae109-6d52-4899-ef13-76b09fd07a08"
      },
      "execution_count": 10,
      "outputs": [
        {
          "output_type": "stream",
          "name": "stdout",
          "text": [
            "Found 20000 files belonging to 2 classes.\n",
            "Using 6000 files for validation.\n"
          ]
        }
      ]
    },
    {
      "cell_type": "code",
      "source": [
        "test_ds.class_names"
      ],
      "metadata": {
        "colab": {
          "base_uri": "https://localhost:8080/"
        },
        "id": "SqNpQTE_rhA_",
        "outputId": "652ceb34-75e3-4603-c5a0-993820f76af4"
      },
      "execution_count": 11,
      "outputs": [
        {
          "output_type": "execute_result",
          "data": {
            "text/plain": [
              "['FAKE', 'REAL']"
            ]
          },
          "metadata": {},
          "execution_count": 11
        }
      ]
    },
    {
      "cell_type": "code",
      "source": [
        "X_train = []\n",
        "y_train = []\n",
        "\n",
        "for images, labels in train_ds:\n",
        "    X_train.append(images.numpy())\n",
        "    y_train.append(labels.numpy())\n",
        "\n",
        "X_train = np.concatenate(X_train, axis=0)\n",
        "y_train = np.concatenate(y_train)"
      ],
      "metadata": {
        "id": "Q5GJkOVjsJ7S"
      },
      "execution_count": 12,
      "outputs": []
    },
    {
      "cell_type": "code",
      "source": [
        "X_test = []\n",
        "y_test = []\n",
        "\n",
        "for images, labels in test_ds:\n",
        "    X_test.append(images.numpy())\n",
        "    y_test.append(labels.numpy())\n",
        "\n",
        "X_test = np.concatenate(X_test, axis=0)\n",
        "y_test = np.concatenate(y_test)"
      ],
      "metadata": {
        "id": "WajKBcC8sbWq"
      },
      "execution_count": 13,
      "outputs": []
    },
    {
      "cell_type": "code",
      "source": [
        "X_train.shape"
      ],
      "metadata": {
        "colab": {
          "base_uri": "https://localhost:8080/"
        },
        "id": "z1GddQZwvLDQ",
        "outputId": "cb9638e0-ec2f-44b6-a1d5-85fe9ceb53e1"
      },
      "execution_count": 14,
      "outputs": [
        {
          "output_type": "execute_result",
          "data": {
            "text/plain": [
              "(30000, 180, 180, 3)"
            ]
          },
          "metadata": {},
          "execution_count": 14
        }
      ]
    },
    {
      "cell_type": "code",
      "source": [
        "y_train.shape"
      ],
      "metadata": {
        "colab": {
          "base_uri": "https://localhost:8080/"
        },
        "id": "-uCslQPQvM0v",
        "outputId": "3fdc9f9d-59bb-4939-8d6e-064d7e7b1fd7"
      },
      "execution_count": 15,
      "outputs": [
        {
          "output_type": "execute_result",
          "data": {
            "text/plain": [
              "(30000,)"
            ]
          },
          "metadata": {},
          "execution_count": 15
        }
      ]
    },
    {
      "cell_type": "code",
      "source": [
        "X_test.shape"
      ],
      "metadata": {
        "colab": {
          "base_uri": "https://localhost:8080/"
        },
        "id": "7x2uxy3zvQFr",
        "outputId": "a50d115a-ae8b-44bc-854e-f9952a6c3c47"
      },
      "execution_count": 16,
      "outputs": [
        {
          "output_type": "execute_result",
          "data": {
            "text/plain": [
              "(6000, 180, 180, 3)"
            ]
          },
          "metadata": {},
          "execution_count": 16
        }
      ]
    },
    {
      "cell_type": "code",
      "source": [
        "y_test.shape"
      ],
      "metadata": {
        "colab": {
          "base_uri": "https://localhost:8080/"
        },
        "id": "6ONoaUGKvTJ1",
        "outputId": "ca3d93b2-b78d-4e7f-e261-4f2cd3a95558"
      },
      "execution_count": 17,
      "outputs": [
        {
          "output_type": "execute_result",
          "data": {
            "text/plain": [
              "(6000,)"
            ]
          },
          "metadata": {},
          "execution_count": 17
        }
      ]
    },
    {
      "cell_type": "code",
      "source": [
        "np.unique(y_train)\n",
        "np.unique(y_test)"
      ],
      "metadata": {
        "colab": {
          "base_uri": "https://localhost:8080/"
        },
        "id": "-yk8f-n1vUt1",
        "outputId": "c5be133b-ede3-4642-f156-970fd05db7f0"
      },
      "execution_count": 18,
      "outputs": [
        {
          "output_type": "execute_result",
          "data": {
            "text/plain": [
              "array([0, 1], dtype=int32)"
            ]
          },
          "metadata": {},
          "execution_count": 18
        }
      ]
    },
    {
      "cell_type": "markdown",
      "source": [
        "# **#3 Normalise X_train and X_test**"
      ],
      "metadata": {
        "id": "Qdj-iU6mvwPV"
      }
    },
    {
      "cell_type": "code",
      "source": [
        "X_train = X_train/255\n",
        "X_test = X_test/255"
      ],
      "metadata": {
        "id": "ix3wix0vv49T"
      },
      "execution_count": 19,
      "outputs": []
    },
    {
      "cell_type": "code",
      "source": [
        "X_train"
      ],
      "metadata": {
        "colab": {
          "base_uri": "https://localhost:8080/"
        },
        "id": "3OxlhxJDv9dv",
        "outputId": "585929e5-a22c-465f-ed58-875212b43da6"
      },
      "execution_count": 20,
      "outputs": [
        {
          "output_type": "execute_result",
          "data": {
            "text/plain": [
              "array([[[[0.42745098, 0.59607846, 0.72156864],\n",
              "         [0.42745098, 0.59607846, 0.72156864],\n",
              "         [0.42745098, 0.59607846, 0.72156864],\n",
              "         ...,\n",
              "         [0.48235294, 0.6156863 , 0.7254902 ],\n",
              "         [0.48235294, 0.6156863 , 0.7254902 ],\n",
              "         [0.48235294, 0.6156863 , 0.7254902 ]],\n",
              "\n",
              "        [[0.42745098, 0.59607846, 0.72156864],\n",
              "         [0.42745098, 0.59607846, 0.72156864],\n",
              "         [0.42745098, 0.59607846, 0.72156864],\n",
              "         ...,\n",
              "         [0.48235294, 0.6156863 , 0.7254902 ],\n",
              "         [0.48235294, 0.6156863 , 0.7254902 ],\n",
              "         [0.48235294, 0.6156863 , 0.7254902 ]],\n",
              "\n",
              "        [[0.42745098, 0.59607846, 0.72156864],\n",
              "         [0.42745098, 0.59607846, 0.72156864],\n",
              "         [0.42745098, 0.59607846, 0.72156864],\n",
              "         ...,\n",
              "         [0.48235294, 0.6156863 , 0.7254902 ],\n",
              "         [0.48235294, 0.6156863 , 0.7254902 ],\n",
              "         [0.48235294, 0.6156863 , 0.7254902 ]],\n",
              "\n",
              "        ...,\n",
              "\n",
              "        [[0.54901963, 0.5411765 , 0.48235294],\n",
              "         [0.54901963, 0.5411765 , 0.48235294],\n",
              "         [0.54901963, 0.5411765 , 0.48235294],\n",
              "         ...,\n",
              "         [0.5647059 , 0.5647059 , 0.53333336],\n",
              "         [0.5647059 , 0.5647059 , 0.53333336],\n",
              "         [0.5647059 , 0.5647059 , 0.53333336]],\n",
              "\n",
              "        [[0.54901963, 0.5411765 , 0.48235294],\n",
              "         [0.54901963, 0.5411765 , 0.48235294],\n",
              "         [0.54901963, 0.5411765 , 0.48235294],\n",
              "         ...,\n",
              "         [0.5647059 , 0.5647059 , 0.53333336],\n",
              "         [0.5647059 , 0.5647059 , 0.53333336],\n",
              "         [0.5647059 , 0.5647059 , 0.53333336]],\n",
              "\n",
              "        [[0.54901963, 0.5411765 , 0.48235294],\n",
              "         [0.54901963, 0.5411765 , 0.48235294],\n",
              "         [0.54901963, 0.5411765 , 0.48235294],\n",
              "         ...,\n",
              "         [0.5647059 , 0.5647059 , 0.53333336],\n",
              "         [0.5647059 , 0.5647059 , 0.53333336],\n",
              "         [0.5647059 , 0.5647059 , 0.53333336]]],\n",
              "\n",
              "\n",
              "       [[[0.04705882, 0.05098039, 0.01960784],\n",
              "         [0.04705882, 0.05098039, 0.01960784],\n",
              "         [0.04705882, 0.05098039, 0.01960784],\n",
              "         ...,\n",
              "         [0.07843138, 0.05098039, 0.01176471],\n",
              "         [0.07843138, 0.05098039, 0.01176471],\n",
              "         [0.07843138, 0.05098039, 0.01176471]],\n",
              "\n",
              "        [[0.04705882, 0.05098039, 0.01960784],\n",
              "         [0.04705882, 0.05098039, 0.01960784],\n",
              "         [0.04705882, 0.05098039, 0.01960784],\n",
              "         ...,\n",
              "         [0.07843138, 0.05098039, 0.01176471],\n",
              "         [0.07843138, 0.05098039, 0.01176471],\n",
              "         [0.07843138, 0.05098039, 0.01176471]],\n",
              "\n",
              "        [[0.04705882, 0.05098039, 0.01960784],\n",
              "         [0.04705882, 0.05098039, 0.01960784],\n",
              "         [0.04705882, 0.05098039, 0.01960784],\n",
              "         ...,\n",
              "         [0.07843138, 0.05098039, 0.01176471],\n",
              "         [0.07843138, 0.05098039, 0.01176471],\n",
              "         [0.07843138, 0.05098039, 0.01176471]],\n",
              "\n",
              "        ...,\n",
              "\n",
              "        [[0.36078432, 0.2784314 , 0.26666668],\n",
              "         [0.36078432, 0.2784314 , 0.26666668],\n",
              "         [0.36078432, 0.2784314 , 0.26666668],\n",
              "         ...,\n",
              "         [0.22352941, 0.2       , 0.2       ],\n",
              "         [0.22352941, 0.2       , 0.2       ],\n",
              "         [0.22352941, 0.2       , 0.2       ]],\n",
              "\n",
              "        [[0.36078432, 0.2784314 , 0.26666668],\n",
              "         [0.36078432, 0.2784314 , 0.26666668],\n",
              "         [0.36078432, 0.2784314 , 0.26666668],\n",
              "         ...,\n",
              "         [0.22352941, 0.2       , 0.2       ],\n",
              "         [0.22352941, 0.2       , 0.2       ],\n",
              "         [0.22352941, 0.2       , 0.2       ]],\n",
              "\n",
              "        [[0.36078432, 0.2784314 , 0.26666668],\n",
              "         [0.36078432, 0.2784314 , 0.26666668],\n",
              "         [0.36078432, 0.2784314 , 0.26666668],\n",
              "         ...,\n",
              "         [0.22352941, 0.2       , 0.2       ],\n",
              "         [0.22352941, 0.2       , 0.2       ],\n",
              "         [0.22352941, 0.2       , 0.2       ]]],\n",
              "\n",
              "\n",
              "       [[[0.30980393, 0.38039216, 0.21568628],\n",
              "         [0.30980393, 0.38039216, 0.21568628],\n",
              "         [0.30980393, 0.38039216, 0.21568628],\n",
              "         ...,\n",
              "         [0.44313726, 0.6745098 , 0.        ],\n",
              "         [0.44313726, 0.6745098 , 0.        ],\n",
              "         [0.44313726, 0.6745098 , 0.        ]],\n",
              "\n",
              "        [[0.30980393, 0.38039216, 0.21568628],\n",
              "         [0.30980393, 0.38039216, 0.21568628],\n",
              "         [0.30980393, 0.38039216, 0.21568628],\n",
              "         ...,\n",
              "         [0.44313726, 0.6745098 , 0.        ],\n",
              "         [0.44313726, 0.6745098 , 0.        ],\n",
              "         [0.44313726, 0.6745098 , 0.        ]],\n",
              "\n",
              "        [[0.30980393, 0.38039216, 0.21568628],\n",
              "         [0.30980393, 0.38039216, 0.21568628],\n",
              "         [0.30980393, 0.38039216, 0.21568628],\n",
              "         ...,\n",
              "         [0.44313726, 0.6745098 , 0.        ],\n",
              "         [0.44313726, 0.6745098 , 0.        ],\n",
              "         [0.44313726, 0.6745098 , 0.        ]],\n",
              "\n",
              "        ...,\n",
              "\n",
              "        [[0.22352941, 0.44705883, 0.        ],\n",
              "         [0.22352941, 0.44705883, 0.        ],\n",
              "         [0.22352941, 0.44705883, 0.        ],\n",
              "         ...,\n",
              "         [0.27058825, 0.43137255, 0.        ],\n",
              "         [0.27058825, 0.43137255, 0.        ],\n",
              "         [0.27058825, 0.43137255, 0.        ]],\n",
              "\n",
              "        [[0.22352941, 0.44705883, 0.        ],\n",
              "         [0.22352941, 0.44705883, 0.        ],\n",
              "         [0.22352941, 0.44705883, 0.        ],\n",
              "         ...,\n",
              "         [0.27058825, 0.43137255, 0.        ],\n",
              "         [0.27058825, 0.43137255, 0.        ],\n",
              "         [0.27058825, 0.43137255, 0.        ]],\n",
              "\n",
              "        [[0.22352941, 0.44705883, 0.        ],\n",
              "         [0.22352941, 0.44705883, 0.        ],\n",
              "         [0.22352941, 0.44705883, 0.        ],\n",
              "         ...,\n",
              "         [0.27058825, 0.43137255, 0.        ],\n",
              "         [0.27058825, 0.43137255, 0.        ],\n",
              "         [0.27058825, 0.43137255, 0.        ]]],\n",
              "\n",
              "\n",
              "       ...,\n",
              "\n",
              "\n",
              "       [[[0.41568628, 0.5058824 , 0.5686275 ],\n",
              "         [0.41568628, 0.5058824 , 0.5686275 ],\n",
              "         [0.41568628, 0.5058824 , 0.5686275 ],\n",
              "         ...,\n",
              "         [0.37254903, 0.5058824 , 0.5529412 ],\n",
              "         [0.37254903, 0.5058824 , 0.5529412 ],\n",
              "         [0.37254903, 0.5058824 , 0.5529412 ]],\n",
              "\n",
              "        [[0.41568628, 0.5058824 , 0.5686275 ],\n",
              "         [0.41568628, 0.5058824 , 0.5686275 ],\n",
              "         [0.41568628, 0.5058824 , 0.5686275 ],\n",
              "         ...,\n",
              "         [0.37254903, 0.5058824 , 0.5529412 ],\n",
              "         [0.37254903, 0.5058824 , 0.5529412 ],\n",
              "         [0.37254903, 0.5058824 , 0.5529412 ]],\n",
              "\n",
              "        [[0.41568628, 0.5058824 , 0.5686275 ],\n",
              "         [0.41568628, 0.5058824 , 0.5686275 ],\n",
              "         [0.41568628, 0.5058824 , 0.5686275 ],\n",
              "         ...,\n",
              "         [0.37254903, 0.5058824 , 0.5529412 ],\n",
              "         [0.37254903, 0.5058824 , 0.5529412 ],\n",
              "         [0.37254903, 0.5058824 , 0.5529412 ]],\n",
              "\n",
              "        ...,\n",
              "\n",
              "        [[0.33333334, 0.3372549 , 0.21176471],\n",
              "         [0.33333334, 0.3372549 , 0.21176471],\n",
              "         [0.33333334, 0.3372549 , 0.21176471],\n",
              "         ...,\n",
              "         [0.2784314 , 0.30588236, 0.17254902],\n",
              "         [0.2784314 , 0.30588236, 0.17254902],\n",
              "         [0.2784314 , 0.30588236, 0.17254902]],\n",
              "\n",
              "        [[0.33333334, 0.3372549 , 0.21176471],\n",
              "         [0.33333334, 0.3372549 , 0.21176471],\n",
              "         [0.33333334, 0.3372549 , 0.21176471],\n",
              "         ...,\n",
              "         [0.2784314 , 0.30588236, 0.17254902],\n",
              "         [0.2784314 , 0.30588236, 0.17254902],\n",
              "         [0.2784314 , 0.30588236, 0.17254902]],\n",
              "\n",
              "        [[0.33333334, 0.3372549 , 0.21176471],\n",
              "         [0.33333334, 0.3372549 , 0.21176471],\n",
              "         [0.33333334, 0.3372549 , 0.21176471],\n",
              "         ...,\n",
              "         [0.2784314 , 0.30588236, 0.17254902],\n",
              "         [0.2784314 , 0.30588236, 0.17254902],\n",
              "         [0.2784314 , 0.30588236, 0.17254902]]],\n",
              "\n",
              "\n",
              "       [[[0.3764706 , 0.3137255 , 0.11372549],\n",
              "         [0.3764706 , 0.3137255 , 0.11372549],\n",
              "         [0.3764706 , 0.3137255 , 0.11372549],\n",
              "         ...,\n",
              "         [0.19607843, 0.11372549, 0.        ],\n",
              "         [0.19607843, 0.11372549, 0.        ],\n",
              "         [0.19607843, 0.11372549, 0.        ]],\n",
              "\n",
              "        [[0.3764706 , 0.3137255 , 0.11372549],\n",
              "         [0.3764706 , 0.3137255 , 0.11372549],\n",
              "         [0.3764706 , 0.3137255 , 0.11372549],\n",
              "         ...,\n",
              "         [0.19607843, 0.11372549, 0.        ],\n",
              "         [0.19607843, 0.11372549, 0.        ],\n",
              "         [0.19607843, 0.11372549, 0.        ]],\n",
              "\n",
              "        [[0.3764706 , 0.3137255 , 0.11372549],\n",
              "         [0.3764706 , 0.3137255 , 0.11372549],\n",
              "         [0.3764706 , 0.3137255 , 0.11372549],\n",
              "         ...,\n",
              "         [0.19607843, 0.11372549, 0.        ],\n",
              "         [0.19607843, 0.11372549, 0.        ],\n",
              "         [0.19607843, 0.11372549, 0.        ]],\n",
              "\n",
              "        ...,\n",
              "\n",
              "        [[0.57254905, 0.47843137, 0.38431373],\n",
              "         [0.57254905, 0.47843137, 0.38431373],\n",
              "         [0.57254905, 0.47843137, 0.38431373],\n",
              "         ...,\n",
              "         [0.5529412 , 0.46666667, 0.3764706 ],\n",
              "         [0.5529412 , 0.46666667, 0.3764706 ],\n",
              "         [0.5529412 , 0.46666667, 0.3764706 ]],\n",
              "\n",
              "        [[0.57254905, 0.47843137, 0.38431373],\n",
              "         [0.57254905, 0.47843137, 0.38431373],\n",
              "         [0.57254905, 0.47843137, 0.38431373],\n",
              "         ...,\n",
              "         [0.5529412 , 0.46666667, 0.3764706 ],\n",
              "         [0.5529412 , 0.46666667, 0.3764706 ],\n",
              "         [0.5529412 , 0.46666667, 0.3764706 ]],\n",
              "\n",
              "        [[0.57254905, 0.47843137, 0.38431373],\n",
              "         [0.57254905, 0.47843137, 0.38431373],\n",
              "         [0.57254905, 0.47843137, 0.38431373],\n",
              "         ...,\n",
              "         [0.5529412 , 0.46666667, 0.3764706 ],\n",
              "         [0.5529412 , 0.46666667, 0.3764706 ],\n",
              "         [0.5529412 , 0.46666667, 0.3764706 ]]],\n",
              "\n",
              "\n",
              "       [[[0.4       , 0.14509805, 0.06666667],\n",
              "         [0.4       , 0.14509805, 0.06666667],\n",
              "         [0.4       , 0.14509805, 0.06666667],\n",
              "         ...,\n",
              "         [0.37254903, 0.28235295, 0.34509805],\n",
              "         [0.37254903, 0.28235295, 0.34509805],\n",
              "         [0.37254903, 0.28235295, 0.34509805]],\n",
              "\n",
              "        [[0.4       , 0.14509805, 0.06666667],\n",
              "         [0.4       , 0.14509805, 0.06666667],\n",
              "         [0.4       , 0.14509805, 0.06666667],\n",
              "         ...,\n",
              "         [0.37254903, 0.28235295, 0.34509805],\n",
              "         [0.37254903, 0.28235295, 0.34509805],\n",
              "         [0.37254903, 0.28235295, 0.34509805]],\n",
              "\n",
              "        [[0.4       , 0.14509805, 0.06666667],\n",
              "         [0.4       , 0.14509805, 0.06666667],\n",
              "         [0.4       , 0.14509805, 0.06666667],\n",
              "         ...,\n",
              "         [0.37254903, 0.28235295, 0.34509805],\n",
              "         [0.37254903, 0.28235295, 0.34509805],\n",
              "         [0.37254903, 0.28235295, 0.34509805]],\n",
              "\n",
              "        ...,\n",
              "\n",
              "        [[0.4392157 , 0.42352942, 0.48235294],\n",
              "         [0.4392157 , 0.42352942, 0.48235294],\n",
              "         [0.4392157 , 0.42352942, 0.48235294],\n",
              "         ...,\n",
              "         [0.37254903, 0.45882353, 0.5019608 ],\n",
              "         [0.37254903, 0.45882353, 0.5019608 ],\n",
              "         [0.37254903, 0.45882353, 0.5019608 ]],\n",
              "\n",
              "        [[0.4392157 , 0.42352942, 0.48235294],\n",
              "         [0.4392157 , 0.42352942, 0.48235294],\n",
              "         [0.4392157 , 0.42352942, 0.48235294],\n",
              "         ...,\n",
              "         [0.37254903, 0.45882353, 0.5019608 ],\n",
              "         [0.37254903, 0.45882353, 0.5019608 ],\n",
              "         [0.37254903, 0.45882353, 0.5019608 ]],\n",
              "\n",
              "        [[0.4392157 , 0.42352942, 0.48235294],\n",
              "         [0.4392157 , 0.42352942, 0.48235294],\n",
              "         [0.4392157 , 0.42352942, 0.48235294],\n",
              "         ...,\n",
              "         [0.37254903, 0.45882353, 0.5019608 ],\n",
              "         [0.37254903, 0.45882353, 0.5019608 ],\n",
              "         [0.37254903, 0.45882353, 0.5019608 ]]]], dtype=float32)"
            ]
          },
          "metadata": {},
          "execution_count": 20
        }
      ]
    },
    {
      "cell_type": "markdown",
      "source": [
        "# **#4 CNN Baseline Model**"
      ],
      "metadata": {
        "id": "JmkJuQzXwKFt"
      }
    },
    {
      "cell_type": "code",
      "source": [
        "model = Sequential()\n",
        "\n",
        "model.add(layers.Conv2D(16, kernel_size=(3, 3), activation='relu', padding='valid', input_shape=(180, 180, 3)))\n",
        "model.add(layers.MaxPool2D(pool_size=(2,2)))\n",
        "\n",
        "model.add(layers.Conv2D(16, kernel_size=(3,3), padding='valid', activation='relu'))\n",
        "model.add(layers.MaxPool2D(pool_size=(2,2)))\n",
        "\n",
        "model.add(layers.Flatten())\n",
        "\n",
        "model.add(layers.Dense(2, activation='relu'))\n",
        "model.add(layers.Dense(1, activation='sigmoid'))\n",
        "\n",
        "model.summary()"
      ],
      "metadata": {
        "colab": {
          "base_uri": "https://localhost:8080/",
          "height": 364
        },
        "id": "T2shXyHgwO1g",
        "outputId": "5ae92420-72a0-4f57-8fac-e5dc2a1516ed"
      },
      "execution_count": 24,
      "outputs": [
        {
          "output_type": "display_data",
          "data": {
            "text/plain": [
              "\u001b[1mModel: \"sequential_1\"\u001b[0m\n"
            ],
            "text/html": [
              "<pre style=\"white-space:pre;overflow-x:auto;line-height:normal;font-family:Menlo,'DejaVu Sans Mono',consolas,'Courier New',monospace\"><span style=\"font-weight: bold\">Model: \"sequential_1\"</span>\n",
              "</pre>\n"
            ]
          },
          "metadata": {}
        },
        {
          "output_type": "display_data",
          "data": {
            "text/plain": [
              "┏━━━━━━━━━━━━━━━━━━━━━━━━━━━━━━━━━━━━━━┳━━━━━━━━━━━━━━━━━━━━━━━━━━━━━┳━━━━━━━━━━━━━━━━━┓\n",
              "┃\u001b[1m \u001b[0m\u001b[1mLayer (type)                        \u001b[0m\u001b[1m \u001b[0m┃\u001b[1m \u001b[0m\u001b[1mOutput Shape               \u001b[0m\u001b[1m \u001b[0m┃\u001b[1m \u001b[0m\u001b[1m        Param #\u001b[0m\u001b[1m \u001b[0m┃\n",
              "┡━━━━━━━━━━━━━━━━━━━━━━━━━━━━━━━━━━━━━━╇━━━━━━━━━━━━━━━━━━━━━━━━━━━━━╇━━━━━━━━━━━━━━━━━┩\n",
              "│ conv2d_2 (\u001b[38;5;33mConv2D\u001b[0m)                    │ (\u001b[38;5;45mNone\u001b[0m, \u001b[38;5;34m178\u001b[0m, \u001b[38;5;34m178\u001b[0m, \u001b[38;5;34m16\u001b[0m)        │             \u001b[38;5;34m448\u001b[0m │\n",
              "├──────────────────────────────────────┼─────────────────────────────┼─────────────────┤\n",
              "│ max_pooling2d_2 (\u001b[38;5;33mMaxPooling2D\u001b[0m)       │ (\u001b[38;5;45mNone\u001b[0m, \u001b[38;5;34m89\u001b[0m, \u001b[38;5;34m89\u001b[0m, \u001b[38;5;34m16\u001b[0m)          │               \u001b[38;5;34m0\u001b[0m │\n",
              "├──────────────────────────────────────┼─────────────────────────────┼─────────────────┤\n",
              "│ conv2d_3 (\u001b[38;5;33mConv2D\u001b[0m)                    │ (\u001b[38;5;45mNone\u001b[0m, \u001b[38;5;34m87\u001b[0m, \u001b[38;5;34m87\u001b[0m, \u001b[38;5;34m16\u001b[0m)          │           \u001b[38;5;34m2,320\u001b[0m │\n",
              "├──────────────────────────────────────┼─────────────────────────────┼─────────────────┤\n",
              "│ max_pooling2d_3 (\u001b[38;5;33mMaxPooling2D\u001b[0m)       │ (\u001b[38;5;45mNone\u001b[0m, \u001b[38;5;34m43\u001b[0m, \u001b[38;5;34m43\u001b[0m, \u001b[38;5;34m16\u001b[0m)          │               \u001b[38;5;34m0\u001b[0m │\n",
              "├──────────────────────────────────────┼─────────────────────────────┼─────────────────┤\n",
              "│ flatten_1 (\u001b[38;5;33mFlatten\u001b[0m)                  │ (\u001b[38;5;45mNone\u001b[0m, \u001b[38;5;34m29584\u001b[0m)               │               \u001b[38;5;34m0\u001b[0m │\n",
              "├──────────────────────────────────────┼─────────────────────────────┼─────────────────┤\n",
              "│ dense_2 (\u001b[38;5;33mDense\u001b[0m)                      │ (\u001b[38;5;45mNone\u001b[0m, \u001b[38;5;34m2\u001b[0m)                   │          \u001b[38;5;34m59,170\u001b[0m │\n",
              "├──────────────────────────────────────┼─────────────────────────────┼─────────────────┤\n",
              "│ dense_3 (\u001b[38;5;33mDense\u001b[0m)                      │ (\u001b[38;5;45mNone\u001b[0m, \u001b[38;5;34m1\u001b[0m)                   │               \u001b[38;5;34m3\u001b[0m │\n",
              "└──────────────────────────────────────┴─────────────────────────────┴─────────────────┘\n"
            ],
            "text/html": [
              "<pre style=\"white-space:pre;overflow-x:auto;line-height:normal;font-family:Menlo,'DejaVu Sans Mono',consolas,'Courier New',monospace\">┏━━━━━━━━━━━━━━━━━━━━━━━━━━━━━━━━━━━━━━┳━━━━━━━━━━━━━━━━━━━━━━━━━━━━━┳━━━━━━━━━━━━━━━━━┓\n",
              "┃<span style=\"font-weight: bold\"> Layer (type)                         </span>┃<span style=\"font-weight: bold\"> Output Shape                </span>┃<span style=\"font-weight: bold\">         Param # </span>┃\n",
              "┡━━━━━━━━━━━━━━━━━━━━━━━━━━━━━━━━━━━━━━╇━━━━━━━━━━━━━━━━━━━━━━━━━━━━━╇━━━━━━━━━━━━━━━━━┩\n",
              "│ conv2d_2 (<span style=\"color: #0087ff; text-decoration-color: #0087ff\">Conv2D</span>)                    │ (<span style=\"color: #00d7ff; text-decoration-color: #00d7ff\">None</span>, <span style=\"color: #00af00; text-decoration-color: #00af00\">178</span>, <span style=\"color: #00af00; text-decoration-color: #00af00\">178</span>, <span style=\"color: #00af00; text-decoration-color: #00af00\">16</span>)        │             <span style=\"color: #00af00; text-decoration-color: #00af00\">448</span> │\n",
              "├──────────────────────────────────────┼─────────────────────────────┼─────────────────┤\n",
              "│ max_pooling2d_2 (<span style=\"color: #0087ff; text-decoration-color: #0087ff\">MaxPooling2D</span>)       │ (<span style=\"color: #00d7ff; text-decoration-color: #00d7ff\">None</span>, <span style=\"color: #00af00; text-decoration-color: #00af00\">89</span>, <span style=\"color: #00af00; text-decoration-color: #00af00\">89</span>, <span style=\"color: #00af00; text-decoration-color: #00af00\">16</span>)          │               <span style=\"color: #00af00; text-decoration-color: #00af00\">0</span> │\n",
              "├──────────────────────────────────────┼─────────────────────────────┼─────────────────┤\n",
              "│ conv2d_3 (<span style=\"color: #0087ff; text-decoration-color: #0087ff\">Conv2D</span>)                    │ (<span style=\"color: #00d7ff; text-decoration-color: #00d7ff\">None</span>, <span style=\"color: #00af00; text-decoration-color: #00af00\">87</span>, <span style=\"color: #00af00; text-decoration-color: #00af00\">87</span>, <span style=\"color: #00af00; text-decoration-color: #00af00\">16</span>)          │           <span style=\"color: #00af00; text-decoration-color: #00af00\">2,320</span> │\n",
              "├──────────────────────────────────────┼─────────────────────────────┼─────────────────┤\n",
              "│ max_pooling2d_3 (<span style=\"color: #0087ff; text-decoration-color: #0087ff\">MaxPooling2D</span>)       │ (<span style=\"color: #00d7ff; text-decoration-color: #00d7ff\">None</span>, <span style=\"color: #00af00; text-decoration-color: #00af00\">43</span>, <span style=\"color: #00af00; text-decoration-color: #00af00\">43</span>, <span style=\"color: #00af00; text-decoration-color: #00af00\">16</span>)          │               <span style=\"color: #00af00; text-decoration-color: #00af00\">0</span> │\n",
              "├──────────────────────────────────────┼─────────────────────────────┼─────────────────┤\n",
              "│ flatten_1 (<span style=\"color: #0087ff; text-decoration-color: #0087ff\">Flatten</span>)                  │ (<span style=\"color: #00d7ff; text-decoration-color: #00d7ff\">None</span>, <span style=\"color: #00af00; text-decoration-color: #00af00\">29584</span>)               │               <span style=\"color: #00af00; text-decoration-color: #00af00\">0</span> │\n",
              "├──────────────────────────────────────┼─────────────────────────────┼─────────────────┤\n",
              "│ dense_2 (<span style=\"color: #0087ff; text-decoration-color: #0087ff\">Dense</span>)                      │ (<span style=\"color: #00d7ff; text-decoration-color: #00d7ff\">None</span>, <span style=\"color: #00af00; text-decoration-color: #00af00\">2</span>)                   │          <span style=\"color: #00af00; text-decoration-color: #00af00\">59,170</span> │\n",
              "├──────────────────────────────────────┼─────────────────────────────┼─────────────────┤\n",
              "│ dense_3 (<span style=\"color: #0087ff; text-decoration-color: #0087ff\">Dense</span>)                      │ (<span style=\"color: #00d7ff; text-decoration-color: #00d7ff\">None</span>, <span style=\"color: #00af00; text-decoration-color: #00af00\">1</span>)                   │               <span style=\"color: #00af00; text-decoration-color: #00af00\">3</span> │\n",
              "└──────────────────────────────────────┴─────────────────────────────┴─────────────────┘\n",
              "</pre>\n"
            ]
          },
          "metadata": {}
        },
        {
          "output_type": "display_data",
          "data": {
            "text/plain": [
              "\u001b[1m Total params: \u001b[0m\u001b[38;5;34m61,941\u001b[0m (241.96 KB)\n"
            ],
            "text/html": [
              "<pre style=\"white-space:pre;overflow-x:auto;line-height:normal;font-family:Menlo,'DejaVu Sans Mono',consolas,'Courier New',monospace\"><span style=\"font-weight: bold\"> Total params: </span><span style=\"color: #00af00; text-decoration-color: #00af00\">61,941</span> (241.96 KB)\n",
              "</pre>\n"
            ]
          },
          "metadata": {}
        },
        {
          "output_type": "display_data",
          "data": {
            "text/plain": [
              "\u001b[1m Trainable params: \u001b[0m\u001b[38;5;34m61,941\u001b[0m (241.96 KB)\n"
            ],
            "text/html": [
              "<pre style=\"white-space:pre;overflow-x:auto;line-height:normal;font-family:Menlo,'DejaVu Sans Mono',consolas,'Courier New',monospace\"><span style=\"font-weight: bold\"> Trainable params: </span><span style=\"color: #00af00; text-decoration-color: #00af00\">61,941</span> (241.96 KB)\n",
              "</pre>\n"
            ]
          },
          "metadata": {}
        },
        {
          "output_type": "display_data",
          "data": {
            "text/plain": [
              "\u001b[1m Non-trainable params: \u001b[0m\u001b[38;5;34m0\u001b[0m (0.00 B)\n"
            ],
            "text/html": [
              "<pre style=\"white-space:pre;overflow-x:auto;line-height:normal;font-family:Menlo,'DejaVu Sans Mono',consolas,'Courier New',monospace\"><span style=\"font-weight: bold\"> Non-trainable params: </span><span style=\"color: #00af00; text-decoration-color: #00af00\">0</span> (0.00 B)\n",
              "</pre>\n"
            ]
          },
          "metadata": {}
        }
      ]
    },
    {
      "cell_type": "code",
      "source": [
        "model.compile(loss='binary_crossentropy',\n",
        "              optimizer='adam',\n",
        "              metrics=['accuracy'])"
      ],
      "metadata": {
        "id": "n0KZeU42wSfn"
      },
      "execution_count": 25,
      "outputs": []
    },
    {
      "cell_type": "code",
      "source": [
        "model.fit(X_train, y_train, epochs=30, batch_size=64)"
      ],
      "metadata": {
        "colab": {
          "base_uri": "https://localhost:8080/"
        },
        "id": "DfX5b8JYwqI4",
        "outputId": "c87fa0e4-9134-4029-861b-6a5724b932c7"
      },
      "execution_count": 27,
      "outputs": [
        {
          "output_type": "stream",
          "name": "stdout",
          "text": [
            "Epoch 1/30\n",
            "\u001b[1m469/469\u001b[0m \u001b[32m━━━━━━━━━━━━━━━━━━━━\u001b[0m\u001b[37m\u001b[0m \u001b[1m5s\u001b[0m 11ms/step - accuracy: 0.8655 - loss: 0.3396\n",
            "Epoch 2/30\n",
            "\u001b[1m469/469\u001b[0m \u001b[32m━━━━━━━━━━━━━━━━━━━━\u001b[0m\u001b[37m\u001b[0m \u001b[1m5s\u001b[0m 11ms/step - accuracy: 0.8743 - loss: 0.3218\n",
            "Epoch 3/30\n",
            "\u001b[1m469/469\u001b[0m \u001b[32m━━━━━━━━━━━━━━━━━━━━\u001b[0m\u001b[37m\u001b[0m \u001b[1m5s\u001b[0m 10ms/step - accuracy: 0.8777 - loss: 0.3088\n",
            "Epoch 4/30\n",
            "\u001b[1m469/469\u001b[0m \u001b[32m━━━━━━━━━━━━━━━━━━━━\u001b[0m\u001b[37m\u001b[0m \u001b[1m5s\u001b[0m 11ms/step - accuracy: 0.8875 - loss: 0.2891\n",
            "Epoch 5/30\n",
            "\u001b[1m469/469\u001b[0m \u001b[32m━━━━━━━━━━━━━━━━━━━━\u001b[0m\u001b[37m\u001b[0m \u001b[1m5s\u001b[0m 10ms/step - accuracy: 0.8881 - loss: 0.2827\n",
            "Epoch 6/30\n",
            "\u001b[1m469/469\u001b[0m \u001b[32m━━━━━━━━━━━━━━━━━━━━\u001b[0m\u001b[37m\u001b[0m \u001b[1m5s\u001b[0m 10ms/step - accuracy: 0.9002 - loss: 0.2609\n",
            "Epoch 7/30\n",
            "\u001b[1m469/469\u001b[0m \u001b[32m━━━━━━━━━━━━━━━━━━━━\u001b[0m\u001b[37m\u001b[0m \u001b[1m5s\u001b[0m 11ms/step - accuracy: 0.9056 - loss: 0.2498\n",
            "Epoch 8/30\n",
            "\u001b[1m469/469\u001b[0m \u001b[32m━━━━━━━━━━━━━━━━━━━━\u001b[0m\u001b[37m\u001b[0m \u001b[1m5s\u001b[0m 10ms/step - accuracy: 0.9069 - loss: 0.2401\n",
            "Epoch 9/30\n",
            "\u001b[1m469/469\u001b[0m \u001b[32m━━━━━━━━━━━━━━━━━━━━\u001b[0m\u001b[37m\u001b[0m \u001b[1m5s\u001b[0m 11ms/step - accuracy: 0.9145 - loss: 0.2291\n",
            "Epoch 10/30\n",
            "\u001b[1m469/469\u001b[0m \u001b[32m━━━━━━━━━━━━━━━━━━━━\u001b[0m\u001b[37m\u001b[0m \u001b[1m5s\u001b[0m 10ms/step - accuracy: 0.9081 - loss: 0.2286\n",
            "Epoch 11/30\n",
            "\u001b[1m469/469\u001b[0m \u001b[32m━━━━━━━━━━━━━━━━━━━━\u001b[0m\u001b[37m\u001b[0m \u001b[1m5s\u001b[0m 10ms/step - accuracy: 0.9185 - loss: 0.2144\n",
            "Epoch 12/30\n",
            "\u001b[1m469/469\u001b[0m \u001b[32m━━━━━━━━━━━━━━━━━━━━\u001b[0m\u001b[37m\u001b[0m \u001b[1m5s\u001b[0m 10ms/step - accuracy: 0.9221 - loss: 0.2047\n",
            "Epoch 13/30\n",
            "\u001b[1m469/469\u001b[0m \u001b[32m━━━━━━━━━━━━━━━━━━━━\u001b[0m\u001b[37m\u001b[0m \u001b[1m5s\u001b[0m 10ms/step - accuracy: 0.9247 - loss: 0.2031\n",
            "Epoch 14/30\n",
            "\u001b[1m469/469\u001b[0m \u001b[32m━━━━━━━━━━━━━━━━━━━━\u001b[0m\u001b[37m\u001b[0m \u001b[1m5s\u001b[0m 11ms/step - accuracy: 0.9282 - loss: 0.1896\n",
            "Epoch 15/30\n",
            "\u001b[1m469/469\u001b[0m \u001b[32m━━━━━━━━━━━━━━━━━━━━\u001b[0m\u001b[37m\u001b[0m \u001b[1m5s\u001b[0m 11ms/step - accuracy: 0.9332 - loss: 0.1792\n",
            "Epoch 16/30\n",
            "\u001b[1m469/469\u001b[0m \u001b[32m━━━━━━━━━━━━━━━━━━━━\u001b[0m\u001b[37m\u001b[0m \u001b[1m5s\u001b[0m 10ms/step - accuracy: 0.9361 - loss: 0.1709\n",
            "Epoch 17/30\n",
            "\u001b[1m469/469\u001b[0m \u001b[32m━━━━━━━━━━━━━━━━━━━━\u001b[0m\u001b[37m\u001b[0m \u001b[1m5s\u001b[0m 10ms/step - accuracy: 0.9403 - loss: 0.1641\n",
            "Epoch 18/30\n",
            "\u001b[1m469/469\u001b[0m \u001b[32m━━━━━━━━━━━━━━━━━━━━\u001b[0m\u001b[37m\u001b[0m \u001b[1m5s\u001b[0m 10ms/step - accuracy: 0.9377 - loss: 0.1683\n",
            "Epoch 19/30\n",
            "\u001b[1m469/469\u001b[0m \u001b[32m━━━━━━━━━━━━━━━━━━━━\u001b[0m\u001b[37m\u001b[0m \u001b[1m5s\u001b[0m 10ms/step - accuracy: 0.9381 - loss: 0.1612\n",
            "Epoch 20/30\n",
            "\u001b[1m469/469\u001b[0m \u001b[32m━━━━━━━━━━━━━━━━━━━━\u001b[0m\u001b[37m\u001b[0m \u001b[1m5s\u001b[0m 10ms/step - accuracy: 0.9421 - loss: 0.1588\n",
            "Epoch 21/30\n",
            "\u001b[1m469/469\u001b[0m \u001b[32m━━━━━━━━━━━━━━━━━━━━\u001b[0m\u001b[37m\u001b[0m \u001b[1m5s\u001b[0m 11ms/step - accuracy: 0.9451 - loss: 0.1499\n",
            "Epoch 22/30\n",
            "\u001b[1m469/469\u001b[0m \u001b[32m━━━━━━━━━━━━━━━━━━━━\u001b[0m\u001b[37m\u001b[0m \u001b[1m5s\u001b[0m 10ms/step - accuracy: 0.9475 - loss: 0.1445\n",
            "Epoch 23/30\n",
            "\u001b[1m469/469\u001b[0m \u001b[32m━━━━━━━━━━━━━━━━━━━━\u001b[0m\u001b[37m\u001b[0m \u001b[1m5s\u001b[0m 10ms/step - accuracy: 0.9488 - loss: 0.1381\n",
            "Epoch 24/30\n",
            "\u001b[1m469/469\u001b[0m \u001b[32m━━━━━━━━━━━━━━━━━━━━\u001b[0m\u001b[37m\u001b[0m \u001b[1m5s\u001b[0m 11ms/step - accuracy: 0.9490 - loss: 0.1371\n",
            "Epoch 25/30\n",
            "\u001b[1m469/469\u001b[0m \u001b[32m━━━━━━━━━━━━━━━━━━━━\u001b[0m\u001b[37m\u001b[0m \u001b[1m5s\u001b[0m 11ms/step - accuracy: 0.9548 - loss: 0.1286\n",
            "Epoch 26/30\n",
            "\u001b[1m469/469\u001b[0m \u001b[32m━━━━━━━━━━━━━━━━━━━━\u001b[0m\u001b[37m\u001b[0m \u001b[1m5s\u001b[0m 10ms/step - accuracy: 0.9551 - loss: 0.1283\n",
            "Epoch 27/30\n",
            "\u001b[1m469/469\u001b[0m \u001b[32m━━━━━━━━━━━━━━━━━━━━\u001b[0m\u001b[37m\u001b[0m \u001b[1m5s\u001b[0m 10ms/step - accuracy: 0.9591 - loss: 0.1168\n",
            "Epoch 28/30\n",
            "\u001b[1m469/469\u001b[0m \u001b[32m━━━━━━━━━━━━━━━━━━━━\u001b[0m\u001b[37m\u001b[0m \u001b[1m5s\u001b[0m 11ms/step - accuracy: 0.9551 - loss: 0.1242\n",
            "Epoch 29/30\n",
            "\u001b[1m469/469\u001b[0m \u001b[32m━━━━━━━━━━━━━━━━━━━━\u001b[0m\u001b[37m\u001b[0m \u001b[1m5s\u001b[0m 10ms/step - accuracy: 0.9633 - loss: 0.1090\n",
            "Epoch 30/30\n",
            "\u001b[1m469/469\u001b[0m \u001b[32m━━━━━━━━━━━━━━━━━━━━\u001b[0m\u001b[37m\u001b[0m \u001b[1m5s\u001b[0m 10ms/step - accuracy: 0.9582 - loss: 0.1169\n"
          ]
        },
        {
          "output_type": "execute_result",
          "data": {
            "text/plain": [
              "<keras.src.callbacks.history.History at 0x7e1833f45270>"
            ]
          },
          "metadata": {},
          "execution_count": 27
        }
      ]
    },
    {
      "cell_type": "code",
      "source": [
        "model.evaluate(X_test, y_test,verbose=0)"
      ],
      "metadata": {
        "colab": {
          "base_uri": "https://localhost:8080/"
        },
        "id": "cLouQ2XDwuOn",
        "outputId": "1403a416-0202-48ae-9ec9-5090c09fb13a"
      },
      "execution_count": 28,
      "outputs": [
        {
          "output_type": "execute_result",
          "data": {
            "text/plain": [
              "[0.42769983410835266, 0.8665000200271606]"
            ]
          },
          "metadata": {},
          "execution_count": 28
        }
      ]
    }
  ]
}