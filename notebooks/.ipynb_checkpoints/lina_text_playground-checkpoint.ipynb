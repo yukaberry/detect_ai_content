{
 "cells": [
  {
   "cell_type": "code",
   "execution_count": 6,
   "id": "a97c0ad3-2cf1-4c31-b0f6-533a62925c06",
   "metadata": {},
   "outputs": [],
   "source": [
    "import matplotlib.pyplot as plt\n",
    "import numpy as np\n",
    "import pandas as pd\n",
    "import seaborn as sns\n",
    "from pathlib import Path\n",
    "import pickle\n",
    "\n",
    "from sklearn.compose import ColumnTransformer, make_column_transformer\n",
    "from sklearn.pipeline import make_pipeline\n",
    "from sklearn.preprocessing import FunctionTransformer, OneHotEncoder\n",
    "from sklearn.model_selection import cross_validate, train_test_split\n",
    "from sklearn.metrics import ConfusionMatrixDisplay, accuracy_score\n",
    "from sklearn.feature_extraction.text import TfidfVectorizer\n",
    "from sklearn.svm import SVC  # Importing the SVM classifier\n",
    "\n",
    "# Setting display for visualizations\n",
    "from sklearn import set_config; set_config(display='diagram')"
   ]
  },
  {
   "cell_type": "code",
   "execution_count": null,
   "id": "22a6772e-a017-4ed0-82d0-2ce6c94c0c6d",
   "metadata": {
    "scrolled": true
   },
   "outputs": [],
   "source": [
    "from pathlib import Path\n",
    "import pandas as pd\n",
    "\n",
    "# Define the correct path based on your project structure\n",
    "train_essays_path = Path(\"../raw_data/train_essays.csv\")\n",
    "\n",
    "# Check if the path exists\n",
    "print(train_essays_path.exists())  # This should print True if the file is accessible\n",
    "\n",
    "# Load the dataset\n",
    "official_texts_df = pd.read_csv(train_essays_path)\n",
    "\n",
    "# Display the first few rows\n",
    "official_texts_df.head()"
   ]
  },
  {
   "cell_type": "code",
   "execution_count": 8,
   "id": "9b090e04-4fe3-4f80-bdf7-18dab6dbba75",
   "metadata": {},
   "outputs": [
    {
     "name": "stdout",
     "output_type": "stream",
     "text": [
      "generated\n",
      "0    1375\n",
      "1       3\n",
      "Name: count, dtype: int64\n",
      "generated\n",
      "0    99.782293\n",
      "1     0.217707\n",
      "Name: proportion, dtype: float64\n"
     ]
    }
   ],
   "source": [
    "class_counts = official_texts_df['generated'].value_counts()\n",
    "\n",
    "# Print the class counts\n",
    "print(class_counts)\n",
    "\n",
    "# Calculate the percentage of each class\n",
    "class_percentage = official_texts_df['generated'].value_counts(normalize=True) * 100\n",
    "\n",
    "# Print the percentage distribution\n",
    "print(class_percentage)\n"
   ]
  },
  {
   "cell_type": "code",
   "execution_count": null,
   "id": "fd91cbb7-3e98-4af3-a127-d69ea980f46d",
   "metadata": {},
   "outputs": [],
   "source": []
  }
 ],
 "metadata": {
  "kernelspec": {
   "display_name": "Python 3 (ipykernel)",
   "language": "python",
   "name": "python3"
  },
  "language_info": {
   "codemirror_mode": {
    "name": "ipython",
    "version": 3
   },
   "file_extension": ".py",
   "mimetype": "text/x-python",
   "name": "python",
   "nbconvert_exporter": "python",
   "pygments_lexer": "ipython3",
   "version": "3.10.6"
  }
 },
 "nbformat": 4,
 "nbformat_minor": 5
}
