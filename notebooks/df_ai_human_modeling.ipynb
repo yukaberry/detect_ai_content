{
 "cells": [
  {
   "cell_type": "markdown",
   "id": "c3834a8c-47a4-4ae2-ae17-c0b2f6e6dad5",
   "metadata": {},
   "source": [
    "###  Linas bla bla bla"
   ]
  },
  {
   "cell_type": "code",
   "execution_count": 1,
   "id": "ace07449-1486-4856-9da5-274540c8a2ba",
   "metadata": {},
   "outputs": [],
   "source": [
    "# Import necessary libraries\n",
    "from pathlib import Path\n",
    "import pandas as pd\n",
    "from sklearn.model_selection import train_test_split\n",
    "from sklearn.feature_extraction.text import TfidfVectorizer\n",
    "from sklearn.naive_bayes import MultinomialNB\n",
    "from sklearn.svm import SVC\n",
    "from sklearn import metrics"
   ]
  },
  {
   "cell_type": "code",
   "execution_count": 2,
   "id": "6fa1c697-5436-4bf8-a835-447c0af85bd2",
   "metadata": {},
   "outputs": [],
   "source": [
    "# Define the base path relative to the project root\n",
    "base_path = Path('/Users/lina/code/yukaberry/detect_ai_content/raw_data/new_datasets')\n",
    "df_ai_human = pd.read_csv(base_path / 'AI_Human.csv')"
   ]
  },
  {
   "cell_type": "markdown",
   "id": "9b18a426-02e0-43b6-a9e5-b8f0cc9d6ae0",
   "metadata": {},
   "source": [
    "###  Model 1: MultinomialNB"
   ]
  },
  {
   "cell_type": "code",
   "execution_count": 3,
   "id": "f6883e40-eddb-4756-83ea-4e9ee2ed2e27",
   "metadata": {},
   "outputs": [
    {
     "name": "stdout",
     "output_type": "stream",
     "text": [
      "Model: Multinomial Naive Bayes\n",
      "Accuracy: 0.9492852524962287\n",
      "Classification Report:\n",
      "               precision    recall  f1-score   support\n",
      "\n",
      "         0.0       0.93      0.99      0.96     61112\n",
      "         1.0       0.98      0.88      0.93     36335\n",
      "\n",
      "    accuracy                           0.95     97447\n",
      "   macro avg       0.96      0.94      0.94     97447\n",
      "weighted avg       0.95      0.95      0.95     97447\n",
      "\n",
      "Confusion Matrix:\n",
      " [[60484   628]\n",
      " [ 4314 32021]]\n"
     ]
    }
   ],
   "source": [
    "# Feature Extraction and Label Preparation\n",
    "vectorizer = TfidfVectorizer()\n",
    "X = vectorizer.fit_transform(df_ai_human['text'])  # Transform text to TF-IDF features\n",
    "y = df_ai_human['generated']  # Target labels\n",
    "\n",
    "# Train-Test Split\n",
    "X_train, X_test, y_train, y_test = train_test_split(X, y, test_size=0.2, random_state=42)\n",
    "\n",
    "# Train and Evaluate Model - Multinomial Naive Bayes\n",
    "model = MultinomialNB()\n",
    "model.fit(X_train, y_train)  # Train the model\n",
    "\n",
    "# Predict on test set\n",
    "y_pred = model.predict(X_test)\n",
    "\n",
    "# Evaluate Model\n",
    "accuracy = metrics.accuracy_score(y_test, y_pred)\n",
    "classification_report = metrics.classification_report(y_test, y_pred)\n",
    "confusion_matrix = metrics.confusion_matrix(y_test, y_pred)\n",
    "\n",
    "print(\"Model: Multinomial Naive Bayes\")\n",
    "print(f\"Accuracy: {accuracy}\")\n",
    "print(\"Classification Report:\\n\", classification_report)\n",
    "print(\"Confusion Matrix:\\n\", confusion_matrix)"
   ]
  },
  {
   "cell_type": "markdown",
   "id": "0f780a75-02b9-41d8-9886-a66421895ffe",
   "metadata": {},
   "source": [
    "### Model 2: TfidfVectorizer + Support Vector Machine (SVM)"
   ]
  },
  {
   "cell_type": "code",
   "execution_count": 5,
   "id": "88b44450-a6a4-4ce9-a647-a7ff32e4562d",
   "metadata": {},
   "outputs": [
    {
     "name": "stdout",
     "output_type": "stream",
     "text": [
      "Model: LinearSVC with Sampled Data\n",
      "Accuracy: 0.9936377629553618\n",
      "Classification Report:\n",
      "               precision    recall  f1-score   support\n",
      "\n",
      "         0.0       0.99      1.00      0.99      6144\n",
      "         1.0       0.99      0.99      0.99      3601\n",
      "\n",
      "    accuracy                           0.99      9745\n",
      "   macro avg       0.99      0.99      0.99      9745\n",
      "weighted avg       0.99      0.99      0.99      9745\n",
      "\n",
      "Confusion Matrix:\n",
      " [[6118   26]\n",
      " [  36 3565]]\n"
     ]
    }
   ],
   "source": [
    "\n",
    "from sklearn.svm import LinearSVC\n",
    "from sklearn.feature_extraction.text import TfidfVectorizer\n",
    "\n",
    "# I ran the classic SVM, dummy me, it too heavy for my machine so i decide to subset (e.g., 10%) the data for faster experimentation\n",
    "\n",
    "df_sample = df_ai_human.sample(frac=0.1, random_state=42)\n",
    "\n",
    "# Feature Extraction and Label Preparation\n",
    "vectorizer = TfidfVectorizer()\n",
    "X = vectorizer.fit_transform(df_sample['text'])\n",
    "y = df_sample['generated']\n",
    "\n",
    "# Train-Test Split\n",
    "X_train, X_test, y_train, y_test = train_test_split(X, y, test_size=0.2, random_state=42)\n",
    "\n",
    "# Train and Evaluate Model - Linear SVC\n",
    "model = LinearSVC()\n",
    "model.fit(X_train, y_train)\n",
    "\n",
    "# Predict on test set\n",
    "y_pred = model.predict(X_test)\n",
    "\n",
    "# Evaluate Model\n",
    "accuracy = metrics.accuracy_score(y_test, y_pred)\n",
    "classification_report = metrics.classification_report(y_test, y_pred)\n",
    "confusion_matrix = metrics.confusion_matrix(y_test, y_pred)\n",
    "\n",
    "print(\"Model: LinearSVC with Sampled Data\")\n",
    "print(f\"Accuracy: {accuracy}\")\n",
    "print(\"Classification Report:\\n\", classification_report)\n",
    "print(\"Confusion Matrix:\\n\", confusion_matrix)"
   ]
  },
  {
   "cell_type": "markdown",
   "id": "207d509d-8188-485a-bfa6-27206e177ef6",
   "metadata": {},
   "source": [
    "### Model 3: XGBoost Setup for Gradient Boosting"
   ]
  },
  {
   "cell_type": "code",
   "execution_count": 9,
   "id": "c568c57c-5119-4ab7-85ea-4147fdef7763",
   "metadata": {},
   "outputs": [
    {
     "name": "stdout",
     "output_type": "stream",
     "text": [
      "Collecting xgboost\n",
      "  Downloading xgboost-2.1.2-py3-none-macosx_12_0_arm64.whl.metadata (2.1 kB)\n",
      "Requirement already satisfied: numpy in /Users/lina/.pyenv/versions/3.10.6/envs/detect_ai_content/lib/python3.10/site-packages (from xgboost) (2.1.2)\n",
      "Requirement already satisfied: scipy in /Users/lina/.pyenv/versions/3.10.6/envs/detect_ai_content/lib/python3.10/site-packages (from xgboost) (1.14.1)\n",
      "Downloading xgboost-2.1.2-py3-none-macosx_12_0_arm64.whl (1.9 MB)\n",
      "\u001b[2K   \u001b[90m━━━━━━━━━━━━━━━━━━━━━━━━━━━━━━━━━━━━━━━━\u001b[0m \u001b[32m1.9/1.9 MB\u001b[0m \u001b[31m10.3 MB/s\u001b[0m eta \u001b[36m0:00:00\u001b[0ma \u001b[36m0:00:01\u001b[0m\n",
      "\u001b[?25hInstalling collected packages: xgboost\n",
      "Successfully installed xgboost-2.1.2\n"
     ]
    }
   ],
   "source": [
    "!pip install xgboost"
   ]
  },
  {
   "cell_type": "code",
   "execution_count": 12,
   "id": "f8e6bbbf-deac-44a1-8f2e-eff570b9f551",
   "metadata": {},
   "outputs": [
    {
     "name": "stdout",
     "output_type": "stream",
     "text": [
      "              precision    recall  f1-score   support\n",
      "\n",
      "         0.0       0.94      0.98      0.96     61112\n",
      "         1.0       0.96      0.90      0.93     36335\n",
      "\n",
      "    accuracy                           0.95     97447\n",
      "   macro avg       0.95      0.94      0.95     97447\n",
      "weighted avg       0.95      0.95      0.95     97447\n",
      "\n"
     ]
    }
   ],
   "source": [
    "'''For an efficient implementation of Gradient Boosting with your large dataset, \n",
    "we’ll use to XGBoost, optimized for handling large datasets and high-dimensional data \n",
    "as the TF-IDF text vectors.\n",
    "'''\n",
    "\n",
    "from xgboost import XGBClassifier\n",
    "from sklearn.metrics import classification_report\n",
    "\n",
    "\n",
    "# Feature Extraction with TF-IDF\n",
    "vectorizer = TfidfVectorizer()\n",
    "X_tfidf = vectorizer.fit_transform(df_ai_human['text'])  # Transform text to TF-IDF features\n",
    "y = df_ai_human['generated']  # Target labels\n",
    "\n",
    "# Train-Test Split\n",
    "X_train, X_test, y_train, y_test = train_test_split(X_tfidf, y, test_size=0.2, random_state=42)\n",
    "\n",
    "# Define XGBoost classifier with balanced parameters\n",
    "xgb_model = XGBClassifier(\n",
    "    n_estimators=50,         # Start with a lower number of trees\n",
    "    max_depth=3,             # Small tree depth for speed\n",
    "    learning_rate=0.1,       # Default rate, can be adjust it\n",
    "    eval_metric='logloss'    # Standard metric for binary classification\n",
    ")\n",
    "\n",
    "# Train the model\n",
    "xgb_model.fit(X_train, y_train)\n",
    "\n",
    "# Predict and evaluate\n",
    "y_pred = xgb_model.predict(X_test)\n",
    "print(classification_report(y_test, y_pred))"
   ]
  },
  {
   "cell_type": "markdown",
   "id": "9c703f51-dfbf-4352-b54d-c66d306a3d1c",
   "metadata": {},
   "source": [
    "### Model 5: Random Forest"
   ]
  },
  {
   "cell_type": "code",
   "execution_count": 18,
   "id": "e94d0faf-a798-47d4-85a6-b5e3b94fb19c",
   "metadata": {},
   "outputs": [],
   "source": [
    "from sklearn.ensemble import RandomForestClassifier\n",
    "from sklearn.ensemble import RandomForestClassifier\n",
    "from sklearn.metrics import classification_report, confusion_matrix"
   ]
  },
  {
   "cell_type": "code",
   "execution_count": 19,
   "id": "1278d074-295a-4f3d-83ad-392764daec89",
   "metadata": {},
   "outputs": [
    {
     "name": "stdout",
     "output_type": "stream",
     "text": [
      "Model: Random Forest\n",
      "Accuracy: 0.9512247683356081\n",
      "Classification Report:\n",
      "               precision    recall  f1-score   support\n",
      "\n",
      "         0.0       0.94      0.98      0.96     61112\n",
      "         1.0       0.96      0.90      0.93     36335\n",
      "\n",
      "    accuracy                           0.95     97447\n",
      "   macro avg       0.95      0.94      0.95     97447\n",
      "weighted avg       0.95      0.95      0.95     97447\n",
      "\n",
      "Confusion Matrix:\n",
      " [[59907  1205]\n",
      " [ 3548 32787]]\n"
     ]
    }
   ],
   "source": [
    "# Adjust data and model parameters (make sure X and y are defined correctly)\n",
    "X_train, X_test, y_train, y_test = train_test_split(X_tfidf, y, test_size=0.2, random_state=42)\n",
    "\n",
    "# Define Random Forest classifier with balanced parameters\n",
    "rf_model = RandomForestClassifier(\n",
    "    n_estimators=100,\n",
    "    max_depth=10,\n",
    "    random_state=42,\n",
    "    class_weight='balanced'\n",
    ")\n",
    "\n",
    "# Train the model\n",
    "rf_model.fit(X_train, y_train)\n",
    "\n",
    "# Predict on test set\n",
    "y_pred = rf_model.predict(X_test)\n",
    "\n",
    "# Evaluate the model\n",
    "accuracy = rf_model.score(X_test, y_test)\n",
    "classification_report_rf = classification_report(y_test, y_pred)\n",
    "confusion_matrix_rf = confusion_matrix(y_test, y_pred)\n",
    "\n",
    "# Print the results\n",
    "print(\"Model: Random Forest\")\n",
    "print(f\"Accuracy: {accuracy}\")\n",
    "print(\"Classification Report:\\n\", classification_report_rf)\n",
    "print(\"Confusion Matrix:\\n\", confusion_matrix_rf)"
   ]
  },
  {
   "cell_type": "code",
   "execution_count": null,
   "id": "72c34667-5875-4940-989c-3a69813d9497",
   "metadata": {},
   "outputs": [],
   "source": []
  }
 ],
 "metadata": {
  "kernelspec": {
   "display_name": "Python 3 (ipykernel)",
   "language": "python",
   "name": "python3"
  },
  "language_info": {
   "codemirror_mode": {
    "name": "ipython",
    "version": 3
   },
   "file_extension": ".py",
   "mimetype": "text/x-python",
   "name": "python",
   "nbconvert_exporter": "python",
   "pygments_lexer": "ipython3",
   "version": "3.10.6"
  }
 },
 "nbformat": 4,
 "nbformat_minor": 5
}
