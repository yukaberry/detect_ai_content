{
  "nbformat": 4,
  "nbformat_minor": 0,
  "metadata": {
    "colab": {
      "provenance": [],
      "gpuType": "A100"
    },
    "kernelspec": {
      "name": "python3",
      "display_name": "Python 3"
    },
    "language_info": {
      "name": "python"
    },
    "accelerator": "GPU"
  },
  "cells": [
    {
      "cell_type": "markdown",
      "source": [
        "# **#1 Load dataset from GCP Cloud Storage**"
      ],
      "metadata": {
        "id": "y6gyNF6HjqUx"
      }
    },
    {
      "cell_type": "code",
      "source": [
        "from google.colab import auth\n",
        "auth.authenticate_user()"
      ],
      "metadata": {
        "id": "fWKQ4UqhfpMq"
      },
      "execution_count": 2,
      "outputs": []
    },
    {
      "cell_type": "code",
      "source": [
        "from google.cloud import storage"
      ],
      "metadata": {
        "id": "Q9JNRU97f6K7"
      },
      "execution_count": 3,
      "outputs": []
    },
    {
      "cell_type": "code",
      "source": [
        "project_id = \"onyx-sequencer-436913-i3\"\n",
        "client = storage.Client(project=project_id)"
      ],
      "metadata": {
        "id": "MN112bBDf7Ej"
      },
      "execution_count": 4,
      "outputs": []
    },
    {
      "cell_type": "code",
      "source": [
        "bucket_name = \"cifake\"\n",
        "file_path = \"cifake-real-and-ai-generated-synthetic-images.zip\"\n",
        "destination = \"/content/cifake-real-and-ai-generated-synthetic-images.zip\""
      ],
      "metadata": {
        "id": "xDTc31UMgF3z"
      },
      "execution_count": 5,
      "outputs": []
    },
    {
      "cell_type": "code",
      "source": [
        "bucket = client.get_bucket(bucket_name)\n",
        "blob = bucket.blob(file_path)\n",
        "blob.download_to_filename(destination)"
      ],
      "metadata": {
        "id": "KWCtF5qWiOcc"
      },
      "execution_count": 6,
      "outputs": []
    },
    {
      "cell_type": "code",
      "source": [
        "import zipfile\n",
        "\n",
        "with zipfile.ZipFile(destination, 'r') as zip_ref:\n",
        "    zip_ref.extractall(\"/content/cifake-real-and-ai-generated-synthetic-images\")"
      ],
      "metadata": {
        "id": "DddFfvACg9yI"
      },
      "execution_count": 7,
      "outputs": []
    },
    {
      "cell_type": "markdown",
      "source": [
        "# **#2 Prepare Training and Test Sets**"
      ],
      "metadata": {
        "id": "Hb5P7J53lJ75"
      }
    },
    {
      "cell_type": "code",
      "source": [
        "import numpy as np\n",
        "import tensorflow as tf\n",
        "from tensorflow.keras import layers, models, metrics, callbacks, optimizers\n",
        "from tensorflow.keras.models import Sequential\n",
        "from tensorflow.keras.metrics import Precision, Recall, AUC"
      ],
      "metadata": {
        "id": "n0Qs8H08lUkw"
      },
      "execution_count": 8,
      "outputs": []
    },
    {
      "cell_type": "code",
      "source": [
        "train_data = '/content/cifake-real-and-ai-generated-synthetic-images/train'\n",
        "train_ds = tf.keras.utils.image_dataset_from_directory(\n",
        "  train_data,\n",
        "  labels='inferred',\n",
        "  validation_split=0.7,\n",
        "  subset=\"training\",\n",
        "  seed=123,\n",
        "  image_size=(180, 180),\n",
        "  batch_size=64)"
      ],
      "metadata": {
        "colab": {
          "base_uri": "https://localhost:8080/"
        },
        "id": "1IuIwGS0mNw_",
        "outputId": "dd7ebcc7-9470-40a3-a1fb-fe645b63f541"
      },
      "execution_count": 9,
      "outputs": [
        {
          "output_type": "stream",
          "name": "stdout",
          "text": [
            "Found 100000 files belonging to 2 classes.\n",
            "Using 30000 files for training.\n"
          ]
        }
      ]
    },
    {
      "cell_type": "code",
      "source": [
        "train_ds.class_names"
      ],
      "metadata": {
        "colab": {
          "base_uri": "https://localhost:8080/"
        },
        "id": "O0ZU2ibAmrvy",
        "outputId": "43d6f51d-d927-4d38-f5cc-e2fabe785a7b"
      },
      "execution_count": 10,
      "outputs": [
        {
          "output_type": "execute_result",
          "data": {
            "text/plain": [
              "['FAKE', 'REAL']"
            ]
          },
          "metadata": {},
          "execution_count": 10
        }
      ]
    },
    {
      "cell_type": "code",
      "source": [
        "test_data = '/content/cifake-real-and-ai-generated-synthetic-images/test'\n",
        "test_ds = tf.keras.utils.image_dataset_from_directory(\n",
        "  test_data,\n",
        "  labels='inferred',\n",
        "  validation_split=0.2,\n",
        "  subset=\"validation\",\n",
        "  seed=123,\n",
        "  image_size=(180, 180),\n",
        "  batch_size=64)"
      ],
      "metadata": {
        "colab": {
          "base_uri": "https://localhost:8080/"
        },
        "id": "wPbrm2qfqtWK",
        "outputId": "a19787de-cd5f-4362-a96d-e4026d50a8f9"
      },
      "execution_count": 11,
      "outputs": [
        {
          "output_type": "stream",
          "name": "stdout",
          "text": [
            "Found 20000 files belonging to 2 classes.\n",
            "Using 4000 files for validation.\n"
          ]
        }
      ]
    },
    {
      "cell_type": "code",
      "source": [
        "test_ds.class_names"
      ],
      "metadata": {
        "colab": {
          "base_uri": "https://localhost:8080/"
        },
        "id": "SqNpQTE_rhA_",
        "outputId": "a1118ae8-d464-418c-c5f8-2f0c83f4a885"
      },
      "execution_count": 12,
      "outputs": [
        {
          "output_type": "execute_result",
          "data": {
            "text/plain": [
              "['FAKE', 'REAL']"
            ]
          },
          "metadata": {},
          "execution_count": 12
        }
      ]
    },
    {
      "cell_type": "code",
      "source": [
        "X_train = []\n",
        "y_train = []\n",
        "\n",
        "for images, labels in train_ds:\n",
        "    X_train.append(images.numpy())\n",
        "    y_train.append(labels.numpy())\n",
        "\n",
        "X_train = np.concatenate(X_train, axis=0)\n",
        "y_train = np.concatenate(y_train)"
      ],
      "metadata": {
        "id": "Q5GJkOVjsJ7S"
      },
      "execution_count": 13,
      "outputs": []
    },
    {
      "cell_type": "code",
      "source": [
        "X_test = []\n",
        "y_test = []\n",
        "\n",
        "for images, labels in test_ds:\n",
        "    X_test.append(images.numpy())\n",
        "    y_test.append(labels.numpy())\n",
        "\n",
        "X_test = np.concatenate(X_test, axis=0)\n",
        "y_test = np.concatenate(y_test)"
      ],
      "metadata": {
        "id": "WajKBcC8sbWq"
      },
      "execution_count": 14,
      "outputs": []
    },
    {
      "cell_type": "code",
      "source": [
        "X_train.shape"
      ],
      "metadata": {
        "id": "z1GddQZwvLDQ",
        "colab": {
          "base_uri": "https://localhost:8080/"
        },
        "outputId": "d8dc04fc-eca7-4e61-89bc-935884c45b61"
      },
      "execution_count": 15,
      "outputs": [
        {
          "output_type": "execute_result",
          "data": {
            "text/plain": [
              "(30000, 180, 180, 3)"
            ]
          },
          "metadata": {},
          "execution_count": 15
        }
      ]
    },
    {
      "cell_type": "code",
      "source": [
        "y_train.shape"
      ],
      "metadata": {
        "id": "-uCslQPQvM0v",
        "colab": {
          "base_uri": "https://localhost:8080/"
        },
        "outputId": "debf8307-2da0-4376-bda9-014c660588f3"
      },
      "execution_count": 16,
      "outputs": [
        {
          "output_type": "execute_result",
          "data": {
            "text/plain": [
              "(30000,)"
            ]
          },
          "metadata": {},
          "execution_count": 16
        }
      ]
    },
    {
      "cell_type": "code",
      "source": [
        "X_test.shape"
      ],
      "metadata": {
        "id": "7x2uxy3zvQFr",
        "colab": {
          "base_uri": "https://localhost:8080/"
        },
        "outputId": "bf5f5a85-48a0-4a9a-abc4-3fc5ad10dd61"
      },
      "execution_count": 17,
      "outputs": [
        {
          "output_type": "execute_result",
          "data": {
            "text/plain": [
              "(4000, 180, 180, 3)"
            ]
          },
          "metadata": {},
          "execution_count": 17
        }
      ]
    },
    {
      "cell_type": "code",
      "source": [
        "y_test.shape"
      ],
      "metadata": {
        "id": "6ONoaUGKvTJ1",
        "colab": {
          "base_uri": "https://localhost:8080/"
        },
        "outputId": "31756c4f-31c1-4e70-df43-4ecfc74ccc20"
      },
      "execution_count": 18,
      "outputs": [
        {
          "output_type": "execute_result",
          "data": {
            "text/plain": [
              "(4000,)"
            ]
          },
          "metadata": {},
          "execution_count": 18
        }
      ]
    },
    {
      "cell_type": "code",
      "source": [
        "np.unique(y_train)\n",
        "np.unique(y_test)"
      ],
      "metadata": {
        "id": "-yk8f-n1vUt1",
        "colab": {
          "base_uri": "https://localhost:8080/"
        },
        "outputId": "31adaa38-f86f-44ad-d67d-edd0bddcda07"
      },
      "execution_count": 19,
      "outputs": [
        {
          "output_type": "execute_result",
          "data": {
            "text/plain": [
              "array([0, 1], dtype=int32)"
            ]
          },
          "metadata": {},
          "execution_count": 19
        }
      ]
    },
    {
      "cell_type": "markdown",
      "source": [
        "# **#3 Normalise X_train and X_test**"
      ],
      "metadata": {
        "id": "Qdj-iU6mvwPV"
      }
    },
    {
      "cell_type": "code",
      "source": [
        "X_train = X_train/255\n",
        "X_test = X_test/255"
      ],
      "metadata": {
        "id": "ix3wix0vv49T"
      },
      "execution_count": 20,
      "outputs": []
    },
    {
      "cell_type": "code",
      "source": [
        "X_train"
      ],
      "metadata": {
        "id": "3OxlhxJDv9dv",
        "colab": {
          "base_uri": "https://localhost:8080/"
        },
        "outputId": "e48fdf05-0b4a-4903-bfda-cf99850d7376"
      },
      "execution_count": 21,
      "outputs": [
        {
          "output_type": "execute_result",
          "data": {
            "text/plain": [
              "array([[[[0.42745098, 0.59607846, 0.72156864],\n",
              "         [0.42745098, 0.59607846, 0.72156864],\n",
              "         [0.42745098, 0.59607846, 0.72156864],\n",
              "         ...,\n",
              "         [0.48235294, 0.6156863 , 0.7254902 ],\n",
              "         [0.48235294, 0.6156863 , 0.7254902 ],\n",
              "         [0.48235294, 0.6156863 , 0.7254902 ]],\n",
              "\n",
              "        [[0.42745098, 0.59607846, 0.72156864],\n",
              "         [0.42745098, 0.59607846, 0.72156864],\n",
              "         [0.42745098, 0.59607846, 0.72156864],\n",
              "         ...,\n",
              "         [0.48235294, 0.6156863 , 0.7254902 ],\n",
              "         [0.48235294, 0.6156863 , 0.7254902 ],\n",
              "         [0.48235294, 0.6156863 , 0.7254902 ]],\n",
              "\n",
              "        [[0.42745098, 0.59607846, 0.72156864],\n",
              "         [0.42745098, 0.59607846, 0.72156864],\n",
              "         [0.42745098, 0.59607846, 0.72156864],\n",
              "         ...,\n",
              "         [0.48235294, 0.6156863 , 0.7254902 ],\n",
              "         [0.48235294, 0.6156863 , 0.7254902 ],\n",
              "         [0.48235294, 0.6156863 , 0.7254902 ]],\n",
              "\n",
              "        ...,\n",
              "\n",
              "        [[0.54901963, 0.5411765 , 0.48235294],\n",
              "         [0.54901963, 0.5411765 , 0.48235294],\n",
              "         [0.54901963, 0.5411765 , 0.48235294],\n",
              "         ...,\n",
              "         [0.5647059 , 0.5647059 , 0.53333336],\n",
              "         [0.5647059 , 0.5647059 , 0.53333336],\n",
              "         [0.5647059 , 0.5647059 , 0.53333336]],\n",
              "\n",
              "        [[0.54901963, 0.5411765 , 0.48235294],\n",
              "         [0.54901963, 0.5411765 , 0.48235294],\n",
              "         [0.54901963, 0.5411765 , 0.48235294],\n",
              "         ...,\n",
              "         [0.5647059 , 0.5647059 , 0.53333336],\n",
              "         [0.5647059 , 0.5647059 , 0.53333336],\n",
              "         [0.5647059 , 0.5647059 , 0.53333336]],\n",
              "\n",
              "        [[0.54901963, 0.5411765 , 0.48235294],\n",
              "         [0.54901963, 0.5411765 , 0.48235294],\n",
              "         [0.54901963, 0.5411765 , 0.48235294],\n",
              "         ...,\n",
              "         [0.5647059 , 0.5647059 , 0.53333336],\n",
              "         [0.5647059 , 0.5647059 , 0.53333336],\n",
              "         [0.5647059 , 0.5647059 , 0.53333336]]],\n",
              "\n",
              "\n",
              "       [[[0.04705882, 0.05098039, 0.01960784],\n",
              "         [0.04705882, 0.05098039, 0.01960784],\n",
              "         [0.04705882, 0.05098039, 0.01960784],\n",
              "         ...,\n",
              "         [0.07843138, 0.05098039, 0.01176471],\n",
              "         [0.07843138, 0.05098039, 0.01176471],\n",
              "         [0.07843138, 0.05098039, 0.01176471]],\n",
              "\n",
              "        [[0.04705882, 0.05098039, 0.01960784],\n",
              "         [0.04705882, 0.05098039, 0.01960784],\n",
              "         [0.04705882, 0.05098039, 0.01960784],\n",
              "         ...,\n",
              "         [0.07843138, 0.05098039, 0.01176471],\n",
              "         [0.07843138, 0.05098039, 0.01176471],\n",
              "         [0.07843138, 0.05098039, 0.01176471]],\n",
              "\n",
              "        [[0.04705882, 0.05098039, 0.01960784],\n",
              "         [0.04705882, 0.05098039, 0.01960784],\n",
              "         [0.04705882, 0.05098039, 0.01960784],\n",
              "         ...,\n",
              "         [0.07843138, 0.05098039, 0.01176471],\n",
              "         [0.07843138, 0.05098039, 0.01176471],\n",
              "         [0.07843138, 0.05098039, 0.01176471]],\n",
              "\n",
              "        ...,\n",
              "\n",
              "        [[0.36078432, 0.2784314 , 0.26666668],\n",
              "         [0.36078432, 0.2784314 , 0.26666668],\n",
              "         [0.36078432, 0.2784314 , 0.26666668],\n",
              "         ...,\n",
              "         [0.22352941, 0.2       , 0.2       ],\n",
              "         [0.22352941, 0.2       , 0.2       ],\n",
              "         [0.22352941, 0.2       , 0.2       ]],\n",
              "\n",
              "        [[0.36078432, 0.2784314 , 0.26666668],\n",
              "         [0.36078432, 0.2784314 , 0.26666668],\n",
              "         [0.36078432, 0.2784314 , 0.26666668],\n",
              "         ...,\n",
              "         [0.22352941, 0.2       , 0.2       ],\n",
              "         [0.22352941, 0.2       , 0.2       ],\n",
              "         [0.22352941, 0.2       , 0.2       ]],\n",
              "\n",
              "        [[0.36078432, 0.2784314 , 0.26666668],\n",
              "         [0.36078432, 0.2784314 , 0.26666668],\n",
              "         [0.36078432, 0.2784314 , 0.26666668],\n",
              "         ...,\n",
              "         [0.22352941, 0.2       , 0.2       ],\n",
              "         [0.22352941, 0.2       , 0.2       ],\n",
              "         [0.22352941, 0.2       , 0.2       ]]],\n",
              "\n",
              "\n",
              "       [[[0.30980393, 0.38039216, 0.21568628],\n",
              "         [0.30980393, 0.38039216, 0.21568628],\n",
              "         [0.30980393, 0.38039216, 0.21568628],\n",
              "         ...,\n",
              "         [0.44313726, 0.6745098 , 0.        ],\n",
              "         [0.44313726, 0.6745098 , 0.        ],\n",
              "         [0.44313726, 0.6745098 , 0.        ]],\n",
              "\n",
              "        [[0.30980393, 0.38039216, 0.21568628],\n",
              "         [0.30980393, 0.38039216, 0.21568628],\n",
              "         [0.30980393, 0.38039216, 0.21568628],\n",
              "         ...,\n",
              "         [0.44313726, 0.6745098 , 0.        ],\n",
              "         [0.44313726, 0.6745098 , 0.        ],\n",
              "         [0.44313726, 0.6745098 , 0.        ]],\n",
              "\n",
              "        [[0.30980393, 0.38039216, 0.21568628],\n",
              "         [0.30980393, 0.38039216, 0.21568628],\n",
              "         [0.30980393, 0.38039216, 0.21568628],\n",
              "         ...,\n",
              "         [0.44313726, 0.6745098 , 0.        ],\n",
              "         [0.44313726, 0.6745098 , 0.        ],\n",
              "         [0.44313726, 0.6745098 , 0.        ]],\n",
              "\n",
              "        ...,\n",
              "\n",
              "        [[0.22352941, 0.44705883, 0.        ],\n",
              "         [0.22352941, 0.44705883, 0.        ],\n",
              "         [0.22352941, 0.44705883, 0.        ],\n",
              "         ...,\n",
              "         [0.27058825, 0.43137255, 0.        ],\n",
              "         [0.27058825, 0.43137255, 0.        ],\n",
              "         [0.27058825, 0.43137255, 0.        ]],\n",
              "\n",
              "        [[0.22352941, 0.44705883, 0.        ],\n",
              "         [0.22352941, 0.44705883, 0.        ],\n",
              "         [0.22352941, 0.44705883, 0.        ],\n",
              "         ...,\n",
              "         [0.27058825, 0.43137255, 0.        ],\n",
              "         [0.27058825, 0.43137255, 0.        ],\n",
              "         [0.27058825, 0.43137255, 0.        ]],\n",
              "\n",
              "        [[0.22352941, 0.44705883, 0.        ],\n",
              "         [0.22352941, 0.44705883, 0.        ],\n",
              "         [0.22352941, 0.44705883, 0.        ],\n",
              "         ...,\n",
              "         [0.27058825, 0.43137255, 0.        ],\n",
              "         [0.27058825, 0.43137255, 0.        ],\n",
              "         [0.27058825, 0.43137255, 0.        ]]],\n",
              "\n",
              "\n",
              "       ...,\n",
              "\n",
              "\n",
              "       [[[0.41568628, 0.5058824 , 0.5686275 ],\n",
              "         [0.41568628, 0.5058824 , 0.5686275 ],\n",
              "         [0.41568628, 0.5058824 , 0.5686275 ],\n",
              "         ...,\n",
              "         [0.37254903, 0.5058824 , 0.5529412 ],\n",
              "         [0.37254903, 0.5058824 , 0.5529412 ],\n",
              "         [0.37254903, 0.5058824 , 0.5529412 ]],\n",
              "\n",
              "        [[0.41568628, 0.5058824 , 0.5686275 ],\n",
              "         [0.41568628, 0.5058824 , 0.5686275 ],\n",
              "         [0.41568628, 0.5058824 , 0.5686275 ],\n",
              "         ...,\n",
              "         [0.37254903, 0.5058824 , 0.5529412 ],\n",
              "         [0.37254903, 0.5058824 , 0.5529412 ],\n",
              "         [0.37254903, 0.5058824 , 0.5529412 ]],\n",
              "\n",
              "        [[0.41568628, 0.5058824 , 0.5686275 ],\n",
              "         [0.41568628, 0.5058824 , 0.5686275 ],\n",
              "         [0.41568628, 0.5058824 , 0.5686275 ],\n",
              "         ...,\n",
              "         [0.37254903, 0.5058824 , 0.5529412 ],\n",
              "         [0.37254903, 0.5058824 , 0.5529412 ],\n",
              "         [0.37254903, 0.5058824 , 0.5529412 ]],\n",
              "\n",
              "        ...,\n",
              "\n",
              "        [[0.33333334, 0.3372549 , 0.21176471],\n",
              "         [0.33333334, 0.3372549 , 0.21176471],\n",
              "         [0.33333334, 0.3372549 , 0.21176471],\n",
              "         ...,\n",
              "         [0.2784314 , 0.30588236, 0.17254902],\n",
              "         [0.2784314 , 0.30588236, 0.17254902],\n",
              "         [0.2784314 , 0.30588236, 0.17254902]],\n",
              "\n",
              "        [[0.33333334, 0.3372549 , 0.21176471],\n",
              "         [0.33333334, 0.3372549 , 0.21176471],\n",
              "         [0.33333334, 0.3372549 , 0.21176471],\n",
              "         ...,\n",
              "         [0.2784314 , 0.30588236, 0.17254902],\n",
              "         [0.2784314 , 0.30588236, 0.17254902],\n",
              "         [0.2784314 , 0.30588236, 0.17254902]],\n",
              "\n",
              "        [[0.33333334, 0.3372549 , 0.21176471],\n",
              "         [0.33333334, 0.3372549 , 0.21176471],\n",
              "         [0.33333334, 0.3372549 , 0.21176471],\n",
              "         ...,\n",
              "         [0.2784314 , 0.30588236, 0.17254902],\n",
              "         [0.2784314 , 0.30588236, 0.17254902],\n",
              "         [0.2784314 , 0.30588236, 0.17254902]]],\n",
              "\n",
              "\n",
              "       [[[0.3764706 , 0.3137255 , 0.11372549],\n",
              "         [0.3764706 , 0.3137255 , 0.11372549],\n",
              "         [0.3764706 , 0.3137255 , 0.11372549],\n",
              "         ...,\n",
              "         [0.19607843, 0.11372549, 0.        ],\n",
              "         [0.19607843, 0.11372549, 0.        ],\n",
              "         [0.19607843, 0.11372549, 0.        ]],\n",
              "\n",
              "        [[0.3764706 , 0.3137255 , 0.11372549],\n",
              "         [0.3764706 , 0.3137255 , 0.11372549],\n",
              "         [0.3764706 , 0.3137255 , 0.11372549],\n",
              "         ...,\n",
              "         [0.19607843, 0.11372549, 0.        ],\n",
              "         [0.19607843, 0.11372549, 0.        ],\n",
              "         [0.19607843, 0.11372549, 0.        ]],\n",
              "\n",
              "        [[0.3764706 , 0.3137255 , 0.11372549],\n",
              "         [0.3764706 , 0.3137255 , 0.11372549],\n",
              "         [0.3764706 , 0.3137255 , 0.11372549],\n",
              "         ...,\n",
              "         [0.19607843, 0.11372549, 0.        ],\n",
              "         [0.19607843, 0.11372549, 0.        ],\n",
              "         [0.19607843, 0.11372549, 0.        ]],\n",
              "\n",
              "        ...,\n",
              "\n",
              "        [[0.57254905, 0.47843137, 0.38431373],\n",
              "         [0.57254905, 0.47843137, 0.38431373],\n",
              "         [0.57254905, 0.47843137, 0.38431373],\n",
              "         ...,\n",
              "         [0.5529412 , 0.46666667, 0.3764706 ],\n",
              "         [0.5529412 , 0.46666667, 0.3764706 ],\n",
              "         [0.5529412 , 0.46666667, 0.3764706 ]],\n",
              "\n",
              "        [[0.57254905, 0.47843137, 0.38431373],\n",
              "         [0.57254905, 0.47843137, 0.38431373],\n",
              "         [0.57254905, 0.47843137, 0.38431373],\n",
              "         ...,\n",
              "         [0.5529412 , 0.46666667, 0.3764706 ],\n",
              "         [0.5529412 , 0.46666667, 0.3764706 ],\n",
              "         [0.5529412 , 0.46666667, 0.3764706 ]],\n",
              "\n",
              "        [[0.57254905, 0.47843137, 0.38431373],\n",
              "         [0.57254905, 0.47843137, 0.38431373],\n",
              "         [0.57254905, 0.47843137, 0.38431373],\n",
              "         ...,\n",
              "         [0.5529412 , 0.46666667, 0.3764706 ],\n",
              "         [0.5529412 , 0.46666667, 0.3764706 ],\n",
              "         [0.5529412 , 0.46666667, 0.3764706 ]]],\n",
              "\n",
              "\n",
              "       [[[0.4       , 0.14509805, 0.06666667],\n",
              "         [0.4       , 0.14509805, 0.06666667],\n",
              "         [0.4       , 0.14509805, 0.06666667],\n",
              "         ...,\n",
              "         [0.37254903, 0.28235295, 0.34509805],\n",
              "         [0.37254903, 0.28235295, 0.34509805],\n",
              "         [0.37254903, 0.28235295, 0.34509805]],\n",
              "\n",
              "        [[0.4       , 0.14509805, 0.06666667],\n",
              "         [0.4       , 0.14509805, 0.06666667],\n",
              "         [0.4       , 0.14509805, 0.06666667],\n",
              "         ...,\n",
              "         [0.37254903, 0.28235295, 0.34509805],\n",
              "         [0.37254903, 0.28235295, 0.34509805],\n",
              "         [0.37254903, 0.28235295, 0.34509805]],\n",
              "\n",
              "        [[0.4       , 0.14509805, 0.06666667],\n",
              "         [0.4       , 0.14509805, 0.06666667],\n",
              "         [0.4       , 0.14509805, 0.06666667],\n",
              "         ...,\n",
              "         [0.37254903, 0.28235295, 0.34509805],\n",
              "         [0.37254903, 0.28235295, 0.34509805],\n",
              "         [0.37254903, 0.28235295, 0.34509805]],\n",
              "\n",
              "        ...,\n",
              "\n",
              "        [[0.4392157 , 0.42352942, 0.48235294],\n",
              "         [0.4392157 , 0.42352942, 0.48235294],\n",
              "         [0.4392157 , 0.42352942, 0.48235294],\n",
              "         ...,\n",
              "         [0.37254903, 0.45882353, 0.5019608 ],\n",
              "         [0.37254903, 0.45882353, 0.5019608 ],\n",
              "         [0.37254903, 0.45882353, 0.5019608 ]],\n",
              "\n",
              "        [[0.4392157 , 0.42352942, 0.48235294],\n",
              "         [0.4392157 , 0.42352942, 0.48235294],\n",
              "         [0.4392157 , 0.42352942, 0.48235294],\n",
              "         ...,\n",
              "         [0.37254903, 0.45882353, 0.5019608 ],\n",
              "         [0.37254903, 0.45882353, 0.5019608 ],\n",
              "         [0.37254903, 0.45882353, 0.5019608 ]],\n",
              "\n",
              "        [[0.4392157 , 0.42352942, 0.48235294],\n",
              "         [0.4392157 , 0.42352942, 0.48235294],\n",
              "         [0.4392157 , 0.42352942, 0.48235294],\n",
              "         ...,\n",
              "         [0.37254903, 0.45882353, 0.5019608 ],\n",
              "         [0.37254903, 0.45882353, 0.5019608 ],\n",
              "         [0.37254903, 0.45882353, 0.5019608 ]]]], dtype=float32)"
            ]
          },
          "metadata": {},
          "execution_count": 21
        }
      ]
    },
    {
      "cell_type": "markdown",
      "source": [
        "# **#4 CNN Baseline Model**"
      ],
      "metadata": {
        "id": "JmkJuQzXwKFt"
      }
    },
    {
      "cell_type": "code",
      "source": [
        "model = Sequential()\n",
        "\n",
        "model.add(layers.Conv2D(16, kernel_size=(3, 3), activation='relu', padding='valid', input_shape=(180, 180, 3)))\n",
        "model.add(layers.MaxPool2D(pool_size=(2,2)))\n",
        "\n",
        "model.add(layers.Conv2D(32, kernel_size=(3,3), padding='valid', activation='relu'))\n",
        "model.add(layers.MaxPool2D(pool_size=(2,2)))\n",
        "\n",
        "model.add(layers.Flatten())\n",
        "\n",
        "model.add(layers.Dense(2, activation='relu'))\n",
        "model.add(layers.Dense(1, activation='sigmoid'))\n",
        "\n",
        "model.summary()"
      ],
      "metadata": {
        "id": "T2shXyHgwO1g",
        "colab": {
          "base_uri": "https://localhost:8080/",
          "height": 364
        },
        "outputId": "76ade1c5-5e66-489b-f2b5-788e6a07c0e2"
      },
      "execution_count": 30,
      "outputs": [
        {
          "output_type": "display_data",
          "data": {
            "text/plain": [
              "\u001b[1mModel: \"sequential_2\"\u001b[0m\n"
            ],
            "text/html": [
              "<pre style=\"white-space:pre;overflow-x:auto;line-height:normal;font-family:Menlo,'DejaVu Sans Mono',consolas,'Courier New',monospace\"><span style=\"font-weight: bold\">Model: \"sequential_2\"</span>\n",
              "</pre>\n"
            ]
          },
          "metadata": {}
        },
        {
          "output_type": "display_data",
          "data": {
            "text/plain": [
              "┏━━━━━━━━━━━━━━━━━━━━━━━━━━━━━━━━━━━━━━┳━━━━━━━━━━━━━━━━━━━━━━━━━━━━━┳━━━━━━━━━━━━━━━━━┓\n",
              "┃\u001b[1m \u001b[0m\u001b[1mLayer (type)                        \u001b[0m\u001b[1m \u001b[0m┃\u001b[1m \u001b[0m\u001b[1mOutput Shape               \u001b[0m\u001b[1m \u001b[0m┃\u001b[1m \u001b[0m\u001b[1m        Param #\u001b[0m\u001b[1m \u001b[0m┃\n",
              "┡━━━━━━━━━━━━━━━━━━━━━━━━━━━━━━━━━━━━━━╇━━━━━━━━━━━━━━━━━━━━━━━━━━━━━╇━━━━━━━━━━━━━━━━━┩\n",
              "│ conv2d_4 (\u001b[38;5;33mConv2D\u001b[0m)                    │ (\u001b[38;5;45mNone\u001b[0m, \u001b[38;5;34m178\u001b[0m, \u001b[38;5;34m178\u001b[0m, \u001b[38;5;34m16\u001b[0m)        │             \u001b[38;5;34m448\u001b[0m │\n",
              "├──────────────────────────────────────┼─────────────────────────────┼─────────────────┤\n",
              "│ max_pooling2d_4 (\u001b[38;5;33mMaxPooling2D\u001b[0m)       │ (\u001b[38;5;45mNone\u001b[0m, \u001b[38;5;34m89\u001b[0m, \u001b[38;5;34m89\u001b[0m, \u001b[38;5;34m16\u001b[0m)          │               \u001b[38;5;34m0\u001b[0m │\n",
              "├──────────────────────────────────────┼─────────────────────────────┼─────────────────┤\n",
              "│ conv2d_5 (\u001b[38;5;33mConv2D\u001b[0m)                    │ (\u001b[38;5;45mNone\u001b[0m, \u001b[38;5;34m87\u001b[0m, \u001b[38;5;34m87\u001b[0m, \u001b[38;5;34m32\u001b[0m)          │           \u001b[38;5;34m4,640\u001b[0m │\n",
              "├──────────────────────────────────────┼─────────────────────────────┼─────────────────┤\n",
              "│ max_pooling2d_5 (\u001b[38;5;33mMaxPooling2D\u001b[0m)       │ (\u001b[38;5;45mNone\u001b[0m, \u001b[38;5;34m43\u001b[0m, \u001b[38;5;34m43\u001b[0m, \u001b[38;5;34m32\u001b[0m)          │               \u001b[38;5;34m0\u001b[0m │\n",
              "├──────────────────────────────────────┼─────────────────────────────┼─────────────────┤\n",
              "│ flatten_2 (\u001b[38;5;33mFlatten\u001b[0m)                  │ (\u001b[38;5;45mNone\u001b[0m, \u001b[38;5;34m59168\u001b[0m)               │               \u001b[38;5;34m0\u001b[0m │\n",
              "├──────────────────────────────────────┼─────────────────────────────┼─────────────────┤\n",
              "│ dense_4 (\u001b[38;5;33mDense\u001b[0m)                      │ (\u001b[38;5;45mNone\u001b[0m, \u001b[38;5;34m2\u001b[0m)                   │         \u001b[38;5;34m118,338\u001b[0m │\n",
              "├──────────────────────────────────────┼─────────────────────────────┼─────────────────┤\n",
              "│ dense_5 (\u001b[38;5;33mDense\u001b[0m)                      │ (\u001b[38;5;45mNone\u001b[0m, \u001b[38;5;34m1\u001b[0m)                   │               \u001b[38;5;34m3\u001b[0m │\n",
              "└──────────────────────────────────────┴─────────────────────────────┴─────────────────┘\n"
            ],
            "text/html": [
              "<pre style=\"white-space:pre;overflow-x:auto;line-height:normal;font-family:Menlo,'DejaVu Sans Mono',consolas,'Courier New',monospace\">┏━━━━━━━━━━━━━━━━━━━━━━━━━━━━━━━━━━━━━━┳━━━━━━━━━━━━━━━━━━━━━━━━━━━━━┳━━━━━━━━━━━━━━━━━┓\n",
              "┃<span style=\"font-weight: bold\"> Layer (type)                         </span>┃<span style=\"font-weight: bold\"> Output Shape                </span>┃<span style=\"font-weight: bold\">         Param # </span>┃\n",
              "┡━━━━━━━━━━━━━━━━━━━━━━━━━━━━━━━━━━━━━━╇━━━━━━━━━━━━━━━━━━━━━━━━━━━━━╇━━━━━━━━━━━━━━━━━┩\n",
              "│ conv2d_4 (<span style=\"color: #0087ff; text-decoration-color: #0087ff\">Conv2D</span>)                    │ (<span style=\"color: #00d7ff; text-decoration-color: #00d7ff\">None</span>, <span style=\"color: #00af00; text-decoration-color: #00af00\">178</span>, <span style=\"color: #00af00; text-decoration-color: #00af00\">178</span>, <span style=\"color: #00af00; text-decoration-color: #00af00\">16</span>)        │             <span style=\"color: #00af00; text-decoration-color: #00af00\">448</span> │\n",
              "├──────────────────────────────────────┼─────────────────────────────┼─────────────────┤\n",
              "│ max_pooling2d_4 (<span style=\"color: #0087ff; text-decoration-color: #0087ff\">MaxPooling2D</span>)       │ (<span style=\"color: #00d7ff; text-decoration-color: #00d7ff\">None</span>, <span style=\"color: #00af00; text-decoration-color: #00af00\">89</span>, <span style=\"color: #00af00; text-decoration-color: #00af00\">89</span>, <span style=\"color: #00af00; text-decoration-color: #00af00\">16</span>)          │               <span style=\"color: #00af00; text-decoration-color: #00af00\">0</span> │\n",
              "├──────────────────────────────────────┼─────────────────────────────┼─────────────────┤\n",
              "│ conv2d_5 (<span style=\"color: #0087ff; text-decoration-color: #0087ff\">Conv2D</span>)                    │ (<span style=\"color: #00d7ff; text-decoration-color: #00d7ff\">None</span>, <span style=\"color: #00af00; text-decoration-color: #00af00\">87</span>, <span style=\"color: #00af00; text-decoration-color: #00af00\">87</span>, <span style=\"color: #00af00; text-decoration-color: #00af00\">32</span>)          │           <span style=\"color: #00af00; text-decoration-color: #00af00\">4,640</span> │\n",
              "├──────────────────────────────────────┼─────────────────────────────┼─────────────────┤\n",
              "│ max_pooling2d_5 (<span style=\"color: #0087ff; text-decoration-color: #0087ff\">MaxPooling2D</span>)       │ (<span style=\"color: #00d7ff; text-decoration-color: #00d7ff\">None</span>, <span style=\"color: #00af00; text-decoration-color: #00af00\">43</span>, <span style=\"color: #00af00; text-decoration-color: #00af00\">43</span>, <span style=\"color: #00af00; text-decoration-color: #00af00\">32</span>)          │               <span style=\"color: #00af00; text-decoration-color: #00af00\">0</span> │\n",
              "├──────────────────────────────────────┼─────────────────────────────┼─────────────────┤\n",
              "│ flatten_2 (<span style=\"color: #0087ff; text-decoration-color: #0087ff\">Flatten</span>)                  │ (<span style=\"color: #00d7ff; text-decoration-color: #00d7ff\">None</span>, <span style=\"color: #00af00; text-decoration-color: #00af00\">59168</span>)               │               <span style=\"color: #00af00; text-decoration-color: #00af00\">0</span> │\n",
              "├──────────────────────────────────────┼─────────────────────────────┼─────────────────┤\n",
              "│ dense_4 (<span style=\"color: #0087ff; text-decoration-color: #0087ff\">Dense</span>)                      │ (<span style=\"color: #00d7ff; text-decoration-color: #00d7ff\">None</span>, <span style=\"color: #00af00; text-decoration-color: #00af00\">2</span>)                   │         <span style=\"color: #00af00; text-decoration-color: #00af00\">118,338</span> │\n",
              "├──────────────────────────────────────┼─────────────────────────────┼─────────────────┤\n",
              "│ dense_5 (<span style=\"color: #0087ff; text-decoration-color: #0087ff\">Dense</span>)                      │ (<span style=\"color: #00d7ff; text-decoration-color: #00d7ff\">None</span>, <span style=\"color: #00af00; text-decoration-color: #00af00\">1</span>)                   │               <span style=\"color: #00af00; text-decoration-color: #00af00\">3</span> │\n",
              "└──────────────────────────────────────┴─────────────────────────────┴─────────────────┘\n",
              "</pre>\n"
            ]
          },
          "metadata": {}
        },
        {
          "output_type": "display_data",
          "data": {
            "text/plain": [
              "\u001b[1m Total params: \u001b[0m\u001b[38;5;34m123,429\u001b[0m (482.14 KB)\n"
            ],
            "text/html": [
              "<pre style=\"white-space:pre;overflow-x:auto;line-height:normal;font-family:Menlo,'DejaVu Sans Mono',consolas,'Courier New',monospace\"><span style=\"font-weight: bold\"> Total params: </span><span style=\"color: #00af00; text-decoration-color: #00af00\">123,429</span> (482.14 KB)\n",
              "</pre>\n"
            ]
          },
          "metadata": {}
        },
        {
          "output_type": "display_data",
          "data": {
            "text/plain": [
              "\u001b[1m Trainable params: \u001b[0m\u001b[38;5;34m123,429\u001b[0m (482.14 KB)\n"
            ],
            "text/html": [
              "<pre style=\"white-space:pre;overflow-x:auto;line-height:normal;font-family:Menlo,'DejaVu Sans Mono',consolas,'Courier New',monospace\"><span style=\"font-weight: bold\"> Trainable params: </span><span style=\"color: #00af00; text-decoration-color: #00af00\">123,429</span> (482.14 KB)\n",
              "</pre>\n"
            ]
          },
          "metadata": {}
        },
        {
          "output_type": "display_data",
          "data": {
            "text/plain": [
              "\u001b[1m Non-trainable params: \u001b[0m\u001b[38;5;34m0\u001b[0m (0.00 B)\n"
            ],
            "text/html": [
              "<pre style=\"white-space:pre;overflow-x:auto;line-height:normal;font-family:Menlo,'DejaVu Sans Mono',consolas,'Courier New',monospace\"><span style=\"font-weight: bold\"> Non-trainable params: </span><span style=\"color: #00af00; text-decoration-color: #00af00\">0</span> (0.00 B)\n",
              "</pre>\n"
            ]
          },
          "metadata": {}
        }
      ]
    },
    {
      "cell_type": "code",
      "source": [
        "model.compile(loss='binary_crossentropy',\n",
        "              optimizer='adam',\n",
        "              metrics=['accuracy', Precision()])"
      ],
      "metadata": {
        "id": "n0KZeU42wSfn"
      },
      "execution_count": 31,
      "outputs": []
    },
    {
      "cell_type": "code",
      "source": [
        "model.fit(X_train, y_train, epochs=10, batch_size=16)"
      ],
      "metadata": {
        "id": "DfX5b8JYwqI4",
        "colab": {
          "base_uri": "https://localhost:8080/"
        },
        "outputId": "e89e3990-d9b4-4c8e-81d6-4f99a065e84e"
      },
      "execution_count": 32,
      "outputs": [
        {
          "output_type": "stream",
          "name": "stdout",
          "text": [
            "Epoch 1/10\n",
            "\u001b[1m1875/1875\u001b[0m \u001b[32m━━━━━━━━━━━━━━━━━━━━\u001b[0m\u001b[37m\u001b[0m \u001b[1m11s\u001b[0m 4ms/step - accuracy: 0.4998 - loss: 0.6990 - precision_2: 0.4910\n",
            "Epoch 2/10\n",
            "\u001b[1m1875/1875\u001b[0m \u001b[32m━━━━━━━━━━━━━━━━━━━━\u001b[0m\u001b[37m\u001b[0m \u001b[1m8s\u001b[0m 4ms/step - accuracy: 0.5068 - loss: 0.6931 - precision_2: 0.1076\n",
            "Epoch 3/10\n",
            "\u001b[1m1875/1875\u001b[0m \u001b[32m━━━━━━━━━━━━━━━━━━━━\u001b[0m\u001b[37m\u001b[0m \u001b[1m8s\u001b[0m 4ms/step - accuracy: 0.5026 - loss: 0.6931 - precision_2: 0.3194\n",
            "Epoch 4/10\n",
            "\u001b[1m1875/1875\u001b[0m \u001b[32m━━━━━━━━━━━━━━━━━━━━\u001b[0m\u001b[37m\u001b[0m \u001b[1m8s\u001b[0m 4ms/step - accuracy: 0.5097 - loss: 0.6930 - precision_2: 0.0037\n",
            "Epoch 5/10\n",
            "\u001b[1m1875/1875\u001b[0m \u001b[32m━━━━━━━━━━━━━━━━━━━━\u001b[0m\u001b[37m\u001b[0m \u001b[1m8s\u001b[0m 4ms/step - accuracy: 0.5055 - loss: 0.6931 - precision_2: 0.4993\n",
            "Epoch 6/10\n",
            "\u001b[1m1875/1875\u001b[0m \u001b[32m━━━━━━━━━━━━━━━━━━━━\u001b[0m\u001b[37m\u001b[0m \u001b[1m8s\u001b[0m 4ms/step - accuracy: 0.4989 - loss: 0.6932 - precision_2: 0.3352\n",
            "Epoch 7/10\n",
            "\u001b[1m1875/1875\u001b[0m \u001b[32m━━━━━━━━━━━━━━━━━━━━\u001b[0m\u001b[37m\u001b[0m \u001b[1m8s\u001b[0m 4ms/step - accuracy: 0.5014 - loss: 0.6932 - precision_2: 0.2737\n",
            "Epoch 8/10\n",
            "\u001b[1m1875/1875\u001b[0m \u001b[32m━━━━━━━━━━━━━━━━━━━━\u001b[0m\u001b[37m\u001b[0m \u001b[1m8s\u001b[0m 4ms/step - accuracy: 0.5001 - loss: 0.6932 - precision_2: 0.2957\n",
            "Epoch 9/10\n",
            "\u001b[1m1875/1875\u001b[0m \u001b[32m━━━━━━━━━━━━━━━━━━━━\u001b[0m\u001b[37m\u001b[0m \u001b[1m8s\u001b[0m 4ms/step - accuracy: 0.5016 - loss: 0.6931 - precision_2: 0.3738\n",
            "Epoch 10/10\n",
            "\u001b[1m1875/1875\u001b[0m \u001b[32m━━━━━━━━━━━━━━━━━━━━\u001b[0m\u001b[37m\u001b[0m \u001b[1m8s\u001b[0m 4ms/step - accuracy: 0.5028 - loss: 0.6932 - precision_2: 0.0000e+00\n"
          ]
        },
        {
          "output_type": "execute_result",
          "data": {
            "text/plain": [
              "<keras.src.callbacks.history.History at 0x7fadd4245d50>"
            ]
          },
          "metadata": {},
          "execution_count": 32
        }
      ]
    },
    {
      "cell_type": "code",
      "source": [
        "model.evaluate(X_test, y_test,verbose=0)"
      ],
      "metadata": {
        "id": "cLouQ2XDwuOn",
        "colab": {
          "base_uri": "https://localhost:8080/"
        },
        "outputId": "fda26cb8-f69c-4e96-8028-a0dba30ad36a"
      },
      "execution_count": 33,
      "outputs": [
        {
          "output_type": "execute_result",
          "data": {
            "text/plain": [
              "[0.6935043931007385, 0.49149999022483826, 0.0]"
            ]
          },
          "metadata": {},
          "execution_count": 33
        }
      ]
    },
    {
      "cell_type": "code",
      "source": [
        "model.save('cnn_model.h5')"
      ],
      "metadata": {
        "colab": {
          "base_uri": "https://localhost:8080/"
        },
        "id": "O7lhyaHkcCFm",
        "outputId": "fb9c4958-0b17-4155-8999-179905c1e1be"
      },
      "execution_count": 34,
      "outputs": [
        {
          "output_type": "stream",
          "name": "stderr",
          "text": [
            "WARNING:absl:You are saving your model as an HDF5 file via `model.save()` or `keras.saving.save_model(model)`. This file format is considered legacy. We recommend using instead the native Keras format, e.g. `model.save('my_model.keras')` or `keras.saving.save_model(model, 'my_model.keras')`. \n"
          ]
        }
      ]
    }
  ]
}