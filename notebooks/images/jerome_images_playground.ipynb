{
 "cells": [
  {
   "cell_type": "code",
   "execution_count": 7,
   "metadata": {},
   "outputs": [],
   "source": [
    "import urllib\n",
    "import matplotlib.pyplot as plt\n",
    "import numpy as np\n",
    "import pandas as pd\n",
    "import seaborn as sns\n",
    "import PIL\n",
    "from PIL.ExifTags import TAGS\n",
    "from PIL import Image\n",
    "import os\n",
    "from pathlib import Path\n",
    "\n",
    "from sklearn.compose import ColumnTransformer, make_column_transformer\n",
    "from sklearn.pipeline import make_pipeline\n",
    "from sklearn.preprocessing import FunctionTransformer, OneHotEncoder\n",
    "\n",
    "from sklearn import set_config; set_config(display='diagram')\n"
   ]
  },
  {
   "cell_type": "code",
   "execution_count": 13,
   "metadata": {},
   "outputs": [],
   "source": [
    "def extract_basic_informations(image_path):\n",
    "    # read the image data using PIL\n",
    "    image = Image.open(image_path)\n",
    "\n",
    "    # extract other basic metadata\n",
    "    info_dict = {\n",
    "    \"filename\": image.filename,\n",
    "    \"size\": image.size,\n",
    "    \"height\": image.height,\n",
    "    \"width\": image.width,\n",
    "    \"format\": image.format,\n",
    "    \"mode\": image.mode,\n",
    "    \"is_animated\": getattr(image, \"is_animated\", False),\n",
    "    \"n_frames\": getattr(image, \"n_frames\", 1)\n",
    "    }\n",
    "    return info_dict\n",
    "\n",
    "def extract_hexif_informations(image_path):\n",
    "    # read the image data using PIL\n",
    "    image = Image.open(image_path)\n",
    "    # extract EXIF data\n",
    "    exifdata = image.getexif()\n",
    "\n",
    "    # iterating over all EXIF data fields\n",
    "    info_dict = {}\n",
    "    for tag_id in exifdata:\n",
    "        # get the tag name, instead of human unreadable tag id\n",
    "        tag = TAGS.get(tag_id, tag_id)\n",
    "        data = exifdata.get(tag_id)\n",
    "        # decode bytes\n",
    "        if isinstance(data, bytes):\n",
    "            data = data.decode()\n",
    "        print(f\"{tag:25}: {data}\")\n",
    "        info_dict[tag] = data\n",
    "    return info_dict"
   ]
  },
  {
   "cell_type": "code",
   "execution_count": 5,
   "metadata": {},
   "outputs": [],
   "source": [
    "fake_image_path = \"../../raw_data/kaggle-cifake-real-and-ai-generated-synthetic-images/train/FAKE/1000 (2).jpg\"\n",
    "real_image_path = \"../../raw_data/kaggle-cifake-real-and-ai-generated-synthetic-images/train/REAL/1000 (2).jpg\""
   ]
  },
  {
   "cell_type": "code",
   "execution_count": 22,
   "metadata": {},
   "outputs": [
    {
     "data": {
      "text/plain": [
       "{}"
      ]
     },
     "execution_count": 22,
     "metadata": {},
     "output_type": "execute_result"
    }
   ],
   "source": [
    "extract_hexif_informations(\"/Users/jeromemorissard/Downloads/v0nl8u5mkjxb1.png\")"
   ]
  },
  {
   "cell_type": "code",
   "execution_count": null,
   "metadata": {},
   "outputs": [],
   "source": []
  }
 ],
 "metadata": {
  "kernelspec": {
   "display_name": "detect_ai_content",
   "language": "python",
   "name": "python3"
  },
  "language_info": {
   "codemirror_mode": {
    "name": "ipython",
    "version": 3
   },
   "file_extension": ".py",
   "mimetype": "text/x-python",
   "name": "python",
   "nbconvert_exporter": "python",
   "pygments_lexer": "ipython3",
   "version": "3.10.6"
  }
 },
 "nbformat": 4,
 "nbformat_minor": 2
}
