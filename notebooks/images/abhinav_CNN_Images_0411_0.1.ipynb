{
  "nbformat": 4,
  "nbformat_minor": 0,
  "metadata": {
    "colab": {
      "provenance": []
    },
    "kernelspec": {
      "name": "python3",
      "display_name": "Python 3"
    },
    "language_info": {
      "name": "python"
    }
  },
  "cells": [
    {
      "cell_type": "markdown",
      "source": [
        "# **#1 Load dataset from GCP Cloud Storage**"
      ],
      "metadata": {
        "id": "y6gyNF6HjqUx"
      }
    },
    {
      "cell_type": "code",
      "source": [
        "from google.colab import auth\n",
        "auth.authenticate_user()"
      ],
      "metadata": {
        "id": "fWKQ4UqhfpMq"
      },
      "execution_count": 3,
      "outputs": []
    },
    {
      "cell_type": "code",
      "source": [
        "from google.cloud import storage"
      ],
      "metadata": {
        "id": "Q9JNRU97f6K7"
      },
      "execution_count": 4,
      "outputs": []
    },
    {
      "cell_type": "code",
      "source": [
        "project_id = \"onyx-sequencer-436913-i3\"\n",
        "client = storage.Client(project=project_id)"
      ],
      "metadata": {
        "id": "MN112bBDf7Ej"
      },
      "execution_count": 5,
      "outputs": []
    },
    {
      "cell_type": "code",
      "source": [
        "bucket_name = \"cifake\"\n",
        "file_path = \"cifake-real-and-ai-generated-synthetic-images.zip\"\n",
        "destination = \"/content/cifake-real-and-ai-generated-synthetic-images.zip\""
      ],
      "metadata": {
        "id": "xDTc31UMgF3z"
      },
      "execution_count": 6,
      "outputs": []
    },
    {
      "cell_type": "code",
      "source": [
        "bucket = client.get_bucket(bucket_name)\n",
        "blob = bucket.blob(file_path)\n",
        "blob.download_to_filename(destination)"
      ],
      "metadata": {
        "id": "KWCtF5qWiOcc"
      },
      "execution_count": 7,
      "outputs": []
    },
    {
      "cell_type": "code",
      "source": [
        "import zipfile\n",
        "\n",
        "with zipfile.ZipFile(destination, 'r') as zip_ref:\n",
        "    zip_ref.extractall(\"/content/cifake-real-and-ai-generated-synthetic-images\")"
      ],
      "metadata": {
        "id": "DddFfvACg9yI"
      },
      "execution_count": 8,
      "outputs": []
    },
    {
      "cell_type": "markdown",
      "source": [
        "# **#2 Prepare Training and Test Sets**"
      ],
      "metadata": {
        "id": "Hb5P7J53lJ75"
      }
    },
    {
      "cell_type": "code",
      "source": [
        "import numpy as np\n",
        "import tensorflow as tf\n",
        "from tensorflow.keras import layers, models, metrics, callbacks, optimizers\n",
        "from tensorflow.keras.models import Sequential\n",
        "from tensorflow.keras.metrics import Precision, Recall, AUC"
      ],
      "metadata": {
        "id": "n0Qs8H08lUkw"
      },
      "execution_count": 9,
      "outputs": []
    },
    {
      "cell_type": "code",
      "source": [
        "train_data = '/content/cifake-real-and-ai-generated-synthetic-images/train'\n",
        "train_ds = tf.keras.utils.image_dataset_from_directory(\n",
        "  train_data,\n",
        "  labels='inferred',\n",
        "  validation_split=0.1,\n",
        "  subset=\"training\",\n",
        "  seed=123,\n",
        "  image_size=(120, 120),\n",
        "  batch_size=1024)"
      ],
      "metadata": {
        "colab": {
          "base_uri": "https://localhost:8080/"
        },
        "id": "1IuIwGS0mNw_",
        "outputId": "b563123f-3d42-4bd2-ac1e-697f88c744b8"
      },
      "execution_count": 10,
      "outputs": [
        {
          "output_type": "stream",
          "name": "stdout",
          "text": [
            "Found 100000 files belonging to 2 classes.\n",
            "Using 90000 files for training.\n"
          ]
        }
      ]
    },
    {
      "cell_type": "code",
      "source": [
        "train_ds.class_names"
      ],
      "metadata": {
        "colab": {
          "base_uri": "https://localhost:8080/"
        },
        "id": "O0ZU2ibAmrvy",
        "outputId": "f6004295-d402-4930-821a-ae7fbaaadadd"
      },
      "execution_count": 11,
      "outputs": [
        {
          "output_type": "execute_result",
          "data": {
            "text/plain": [
              "['FAKE', 'REAL']"
            ]
          },
          "metadata": {},
          "execution_count": 11
        }
      ]
    },
    {
      "cell_type": "code",
      "source": [
        "test_data = '/content/cifake-real-and-ai-generated-synthetic-images/test'\n",
        "test_ds = tf.keras.utils.image_dataset_from_directory(\n",
        "  test_data,\n",
        "  labels='inferred',\n",
        "  validation_split=0.1,\n",
        "  subset=\"validation\",\n",
        "  seed=123,\n",
        "  image_size=(120, 120),\n",
        "  batch_size=1024)"
      ],
      "metadata": {
        "colab": {
          "base_uri": "https://localhost:8080/"
        },
        "id": "wPbrm2qfqtWK",
        "outputId": "ee154bb0-45a8-446e-c865-68c4bbcaa4ca"
      },
      "execution_count": 12,
      "outputs": [
        {
          "output_type": "stream",
          "name": "stdout",
          "text": [
            "Found 20000 files belonging to 2 classes.\n",
            "Using 2000 files for validation.\n"
          ]
        }
      ]
    },
    {
      "cell_type": "code",
      "source": [
        "test_ds.class_names"
      ],
      "metadata": {
        "colab": {
          "base_uri": "https://localhost:8080/"
        },
        "id": "SqNpQTE_rhA_",
        "outputId": "b71496d2-258c-48cf-e501-742009fbe204"
      },
      "execution_count": 13,
      "outputs": [
        {
          "output_type": "execute_result",
          "data": {
            "text/plain": [
              "['FAKE', 'REAL']"
            ]
          },
          "metadata": {},
          "execution_count": 13
        }
      ]
    },
    {
      "cell_type": "code",
      "source": [
        "X_train = []\n",
        "y_train = []\n",
        "\n",
        "for images, labels in train_ds:\n",
        "    X_train.append(images.numpy())\n",
        "    y_train.append(labels.numpy())\n",
        "\n",
        "X_train = np.concatenate(X_train, axis=0)\n",
        "y_train = np.concatenate(y_train)"
      ],
      "metadata": {
        "id": "Q5GJkOVjsJ7S"
      },
      "execution_count": 14,
      "outputs": []
    },
    {
      "cell_type": "code",
      "source": [
        "X_test = []\n",
        "y_test = []\n",
        "\n",
        "for images, labels in test_ds:\n",
        "    X_test.append(images.numpy())\n",
        "    y_test.append(labels.numpy())\n",
        "\n",
        "X_test = np.concatenate(X_test, axis=0)\n",
        "y_test = np.concatenate(y_test)"
      ],
      "metadata": {
        "id": "WajKBcC8sbWq"
      },
      "execution_count": 15,
      "outputs": []
    },
    {
      "cell_type": "code",
      "source": [
        "X_train.shape"
      ],
      "metadata": {
        "id": "z1GddQZwvLDQ",
        "colab": {
          "base_uri": "https://localhost:8080/"
        },
        "outputId": "ba1edb20-0a5d-4aa1-a8d5-b44e6ea0fbf1"
      },
      "execution_count": 16,
      "outputs": [
        {
          "output_type": "execute_result",
          "data": {
            "text/plain": [
              "(90000, 120, 120, 3)"
            ]
          },
          "metadata": {},
          "execution_count": 16
        }
      ]
    },
    {
      "cell_type": "code",
      "source": [
        "y_train.shape"
      ],
      "metadata": {
        "id": "-uCslQPQvM0v",
        "colab": {
          "base_uri": "https://localhost:8080/"
        },
        "outputId": "b887012f-0aa3-4a1f-8822-38870be7ba49"
      },
      "execution_count": 17,
      "outputs": [
        {
          "output_type": "execute_result",
          "data": {
            "text/plain": [
              "(90000,)"
            ]
          },
          "metadata": {},
          "execution_count": 17
        }
      ]
    },
    {
      "cell_type": "code",
      "source": [
        "X_test.shape"
      ],
      "metadata": {
        "id": "7x2uxy3zvQFr",
        "colab": {
          "base_uri": "https://localhost:8080/"
        },
        "outputId": "f336de2f-b9ba-4023-ffa1-cdad5b5a33e3"
      },
      "execution_count": 18,
      "outputs": [
        {
          "output_type": "execute_result",
          "data": {
            "text/plain": [
              "(2000, 120, 120, 3)"
            ]
          },
          "metadata": {},
          "execution_count": 18
        }
      ]
    },
    {
      "cell_type": "code",
      "source": [
        "y_test.shape"
      ],
      "metadata": {
        "id": "6ONoaUGKvTJ1",
        "colab": {
          "base_uri": "https://localhost:8080/"
        },
        "outputId": "9dc30646-7237-4cef-b773-6c311a56cfd9"
      },
      "execution_count": 19,
      "outputs": [
        {
          "output_type": "execute_result",
          "data": {
            "text/plain": [
              "(2000,)"
            ]
          },
          "metadata": {},
          "execution_count": 19
        }
      ]
    },
    {
      "cell_type": "code",
      "source": [
        "np.unique(y_train)\n",
        "np.unique(y_test)"
      ],
      "metadata": {
        "id": "-yk8f-n1vUt1",
        "colab": {
          "base_uri": "https://localhost:8080/"
        },
        "outputId": "ddf95e73-ab18-4304-8a03-87e265ee8751"
      },
      "execution_count": 20,
      "outputs": [
        {
          "output_type": "execute_result",
          "data": {
            "text/plain": [
              "array([0, 1], dtype=int32)"
            ]
          },
          "metadata": {},
          "execution_count": 20
        }
      ]
    },
    {
      "cell_type": "markdown",
      "source": [
        "# **#3 Normalise X_train and X_test**"
      ],
      "metadata": {
        "id": "Qdj-iU6mvwPV"
      }
    },
    {
      "cell_type": "code",
      "source": [
        "X_train = X_train/255\n",
        "X_test = X_test/255"
      ],
      "metadata": {
        "id": "ix3wix0vv49T"
      },
      "execution_count": 21,
      "outputs": []
    },
    {
      "cell_type": "code",
      "source": [
        "X_train"
      ],
      "metadata": {
        "id": "3OxlhxJDv9dv",
        "colab": {
          "base_uri": "https://localhost:8080/"
        },
        "outputId": "4645b10e-55d9-40b4-f5de-f09088a67415"
      },
      "execution_count": 22,
      "outputs": [
        {
          "output_type": "execute_result",
          "data": {
            "text/plain": [
              "array([[[[1.56862754e-02, 0.00000000e+00, 0.00000000e+00],\n",
              "         [1.56862754e-02, 0.00000000e+00, 0.00000000e+00],\n",
              "         [1.63398683e-02, 0.00000000e+00, 6.53594849e-04],\n",
              "         ...,\n",
              "         [3.52941789e-02, 2.74510402e-02, 3.13726105e-02],\n",
              "         [3.92156877e-02, 3.13725509e-02, 3.52941193e-02],\n",
              "         [3.92156877e-02, 3.13725509e-02, 3.52941193e-02]],\n",
              "\n",
              "        [[1.56862754e-02, 0.00000000e+00, 0.00000000e+00],\n",
              "         [1.56862754e-02, 0.00000000e+00, 0.00000000e+00],\n",
              "         [1.63398683e-02, 0.00000000e+00, 6.53594849e-04],\n",
              "         ...,\n",
              "         [3.52941789e-02, 2.74510402e-02, 3.13726105e-02],\n",
              "         [3.92156877e-02, 3.13725509e-02, 3.52941193e-02],\n",
              "         [3.92156877e-02, 3.13725509e-02, 3.52941193e-02]],\n",
              "\n",
              "        [[1.56862754e-02, 0.00000000e+00, 0.00000000e+00],\n",
              "         [1.56862754e-02, 0.00000000e+00, 0.00000000e+00],\n",
              "         [1.63398683e-02, 0.00000000e+00, 6.53594849e-04],\n",
              "         ...,\n",
              "         [4.05229256e-02, 3.13725993e-02, 3.52941677e-02],\n",
              "         [4.37908508e-02, 3.46405208e-02, 3.85620892e-02],\n",
              "         [4.37908508e-02, 3.46405208e-02, 3.85620892e-02]],\n",
              "\n",
              "        ...,\n",
              "\n",
              "        [[7.38561600e-02, 3.20260748e-02, 9.15024709e-03],\n",
              "         [7.38561600e-02, 3.20260748e-02, 9.15024709e-03],\n",
              "         [7.49454945e-02, 3.57297920e-02, 1.16557069e-02],\n",
              "         ...,\n",
              "         [9.22657624e-02, 6.12200610e-02, 8.98692757e-02],\n",
              "         [9.34640020e-02, 6.40522689e-02, 9.21568349e-02],\n",
              "         [9.34640020e-02, 6.40522689e-02, 9.21568349e-02]],\n",
              "\n",
              "        [[7.05882385e-02, 2.74509806e-02, 3.92156886e-03],\n",
              "         [7.05882385e-02, 2.74509806e-02, 3.92156886e-03],\n",
              "         [7.25490227e-02, 3.20261456e-02, 7.18954299e-03],\n",
              "         ...,\n",
              "         [8.88889059e-02, 5.94771728e-02, 8.75817388e-02],\n",
              "         [9.01960805e-02, 6.27451017e-02, 9.01960805e-02],\n",
              "         [9.01960805e-02, 6.27451017e-02, 9.01960805e-02]],\n",
              "\n",
              "        [[7.05882385e-02, 2.74509806e-02, 3.92156886e-03],\n",
              "         [7.05882385e-02, 2.74509806e-02, 3.92156886e-03],\n",
              "         [7.25490227e-02, 3.20261456e-02, 7.18954299e-03],\n",
              "         ...,\n",
              "         [8.88889059e-02, 5.94771728e-02, 8.75817388e-02],\n",
              "         [9.01960805e-02, 6.27451017e-02, 9.01960805e-02],\n",
              "         [9.01960805e-02, 6.27451017e-02, 9.01960805e-02]]],\n",
              "\n",
              "\n",
              "       [[[4.70588244e-02, 5.09803928e-02, 1.96078438e-02],\n",
              "         [4.70588244e-02, 5.09803928e-02, 1.96078438e-02],\n",
              "         [4.31372561e-02, 4.70588244e-02, 1.63398683e-02],\n",
              "         ...,\n",
              "         [7.84313753e-02, 5.09803928e-02, 1.17647061e-02],\n",
              "         [7.84313753e-02, 5.09803928e-02, 1.17647061e-02],\n",
              "         [7.84313753e-02, 5.09803928e-02, 1.17647061e-02]],\n",
              "\n",
              "        [[4.70588244e-02, 5.09803928e-02, 1.96078438e-02],\n",
              "         [4.70588244e-02, 5.09803928e-02, 1.96078438e-02],\n",
              "         [4.31372561e-02, 4.70588244e-02, 1.63398683e-02],\n",
              "         ...,\n",
              "         [7.84313753e-02, 5.09803928e-02, 1.17647061e-02],\n",
              "         [7.84313753e-02, 5.09803928e-02, 1.17647061e-02],\n",
              "         [7.84313753e-02, 5.09803928e-02, 1.17647061e-02]],\n",
              "\n",
              "        [[4.96732034e-02, 5.29411770e-02, 2.02614367e-02],\n",
              "         [4.96732034e-02, 5.29411770e-02, 2.02614367e-02],\n",
              "         [4.58605662e-02, 4.91285399e-02, 1.69934630e-02],\n",
              "         ...,\n",
              "         [8.70370343e-02, 5.82788661e-02, 1.97167750e-02],\n",
              "         [8.69281068e-02, 5.81699386e-02, 1.96078438e-02],\n",
              "         [8.69281068e-02, 5.81699386e-02, 1.96078438e-02]],\n",
              "\n",
              "        ...,\n",
              "\n",
              "        [[3.56209219e-01, 2.73856282e-01, 2.62091577e-01],\n",
              "         [3.56209219e-01, 2.73856282e-01, 2.62091577e-01],\n",
              "         [3.56862813e-01, 2.74727732e-01, 2.62854099e-01],\n",
              "         ...,\n",
              "         [2.24945515e-01, 1.99455351e-01, 2.00108930e-01],\n",
              "         [2.22875834e-01, 1.99346408e-01, 1.99346408e-01],\n",
              "         [2.22875834e-01, 1.99346408e-01, 1.99346408e-01]],\n",
              "\n",
              "        [[3.60784322e-01, 2.78431386e-01, 2.66666681e-01],\n",
              "         [3.60784322e-01, 2.78431386e-01, 2.66666681e-01],\n",
              "         [3.61437887e-01, 2.79084951e-01, 2.67320246e-01],\n",
              "         ...,\n",
              "         [2.25490168e-01, 2.00000003e-01, 2.00653583e-01],\n",
              "         [2.23529413e-01, 2.00000003e-01, 2.00000003e-01],\n",
              "         [2.23529413e-01, 2.00000003e-01, 2.00000003e-01]],\n",
              "\n",
              "        [[3.60784322e-01, 2.78431386e-01, 2.66666681e-01],\n",
              "         [3.60784322e-01, 2.78431386e-01, 2.66666681e-01],\n",
              "         [3.61437887e-01, 2.79084951e-01, 2.67320246e-01],\n",
              "         ...,\n",
              "         [2.25490168e-01, 2.00000003e-01, 2.00653583e-01],\n",
              "         [2.23529413e-01, 2.00000003e-01, 2.00000003e-01],\n",
              "         [2.23529413e-01, 2.00000003e-01, 2.00000003e-01]]],\n",
              "\n",
              "\n",
              "       [[[7.84313738e-01, 7.60784328e-01, 6.66666687e-01],\n",
              "         [7.84313738e-01, 7.60784328e-01, 6.66666687e-01],\n",
              "         [7.66666651e-01, 7.43137240e-01, 6.49019599e-01],\n",
              "         ...,\n",
              "         [8.01961005e-01, 8.25490415e-01, 7.15686500e-01],\n",
              "         [8.15686285e-01, 8.39215696e-01, 7.29411781e-01],\n",
              "         [8.15686285e-01, 8.39215696e-01, 7.29411781e-01]],\n",
              "\n",
              "        [[7.84313738e-01, 7.60784328e-01, 6.66666687e-01],\n",
              "         [7.84313738e-01, 7.60784328e-01, 6.66666687e-01],\n",
              "         [7.66666651e-01, 7.43137240e-01, 6.49019599e-01],\n",
              "         ...,\n",
              "         [8.01961005e-01, 8.25490415e-01, 7.15686500e-01],\n",
              "         [8.15686285e-01, 8.39215696e-01, 7.29411781e-01],\n",
              "         [8.15686285e-01, 8.39215696e-01, 7.29411781e-01]],\n",
              "\n",
              "        [[7.85620868e-01, 7.62091458e-01, 6.67973816e-01],\n",
              "         [7.85620868e-01, 7.62091458e-01, 6.67973816e-01],\n",
              "         [7.70152509e-01, 7.46623099e-01, 6.52505457e-01],\n",
              "         ...,\n",
              "         [7.86601543e-01, 8.10130954e-01, 7.00327039e-01],\n",
              "         [7.98692822e-01, 8.22222233e-01, 7.12418318e-01],\n",
              "         [7.98692822e-01, 8.22222233e-01, 7.12418318e-01]],\n",
              "\n",
              "        ...,\n",
              "\n",
              "        [[6.00000024e-01, 5.94771266e-01, 5.23529410e-01],\n",
              "         [6.00000024e-01, 5.94771266e-01, 5.23529410e-01],\n",
              "         [6.08714640e-01, 6.04575157e-01, 5.33333361e-01],\n",
              "         ...,\n",
              "         [6.21132553e-01, 6.32788241e-01, 5.50435305e-01],\n",
              "         [6.15032375e-01, 6.26797080e-01, 5.44444144e-01],\n",
              "         [6.15032375e-01, 6.26797080e-01, 5.44444144e-01]],\n",
              "\n",
              "        [[6.00000024e-01, 5.96078455e-01, 5.25490224e-01],\n",
              "         [6.00000024e-01, 5.96078455e-01, 5.25490224e-01],\n",
              "         [6.09803915e-01, 6.07189536e-01, 5.36601305e-01],\n",
              "         ...,\n",
              "         [6.01307094e-01, 6.13071799e-01, 5.30718863e-01],\n",
              "         [5.96078455e-01, 6.07843161e-01, 5.25490224e-01],\n",
              "         [5.96078455e-01, 6.07843161e-01, 5.25490224e-01]],\n",
              "\n",
              "        [[6.00000024e-01, 5.96078455e-01, 5.25490224e-01],\n",
              "         [6.00000024e-01, 5.96078455e-01, 5.25490224e-01],\n",
              "         [6.09803915e-01, 6.07189536e-01, 5.36601305e-01],\n",
              "         ...,\n",
              "         [6.01307094e-01, 6.13071799e-01, 5.30718863e-01],\n",
              "         [5.96078455e-01, 6.07843161e-01, 5.25490224e-01],\n",
              "         [5.96078455e-01, 6.07843161e-01, 5.25490224e-01]]],\n",
              "\n",
              "\n",
              "       ...,\n",
              "\n",
              "\n",
              "       [[[2.19607845e-01, 2.43137255e-01, 2.43137255e-01],\n",
              "         [2.19607845e-01, 2.43137255e-01, 2.43137255e-01],\n",
              "         [2.20915034e-01, 2.43137255e-01, 2.43790850e-01],\n",
              "         ...,\n",
              "         [3.88235301e-01, 3.05882365e-01, 2.32679725e-01],\n",
              "         [3.88235301e-01, 3.05882365e-01, 2.31372550e-01],\n",
              "         [3.88235301e-01, 3.05882365e-01, 2.31372550e-01]],\n",
              "\n",
              "        [[2.19607845e-01, 2.43137255e-01, 2.43137255e-01],\n",
              "         [2.19607845e-01, 2.43137255e-01, 2.43137255e-01],\n",
              "         [2.20915034e-01, 2.43137255e-01, 2.43790850e-01],\n",
              "         ...,\n",
              "         [3.88235301e-01, 3.05882365e-01, 2.32679725e-01],\n",
              "         [3.88235301e-01, 3.05882365e-01, 2.31372550e-01],\n",
              "         [3.88235301e-01, 3.05882365e-01, 2.31372550e-01]],\n",
              "\n",
              "        [[2.29411766e-01, 2.55555540e-01, 2.54901975e-01],\n",
              "         [2.29411766e-01, 2.55555540e-01, 2.54901975e-01],\n",
              "         [2.30718955e-01, 2.55664468e-01, 2.55337715e-01],\n",
              "         ...,\n",
              "         [4.00762528e-01, 3.27559918e-01, 2.55010873e-01],\n",
              "         [4.00653571e-01, 3.27450991e-01, 2.53594756e-01],\n",
              "         [4.00653571e-01, 3.27450991e-01, 2.53594756e-01]],\n",
              "\n",
              "        ...,\n",
              "\n",
              "        [[3.59477013e-01, 2.64705807e-01, 2.27450863e-01],\n",
              "         [3.59477013e-01, 2.64705807e-01, 2.27450863e-01],\n",
              "         [3.59912753e-01, 2.63289660e-01, 2.25272208e-01],\n",
              "         ...,\n",
              "         [4.15794969e-01, 2.38670796e-01, 1.55010685e-01],\n",
              "         [4.16339606e-01, 2.39215448e-01, 1.55555338e-01],\n",
              "         [4.16339606e-01, 2.39215448e-01, 1.55555338e-01]],\n",
              "\n",
              "        [[3.52941185e-01, 2.58823544e-01, 2.19607845e-01],\n",
              "         [3.52941185e-01, 2.58823544e-01, 2.19607845e-01],\n",
              "         [3.53594750e-01, 2.57516325e-01, 2.17647061e-01],\n",
              "         ...,\n",
              "         [3.99346411e-01, 2.22875834e-01, 1.40522882e-01],\n",
              "         [4.00000006e-01, 2.23529413e-01, 1.41176477e-01],\n",
              "         [4.00000006e-01, 2.23529413e-01, 1.41176477e-01]],\n",
              "\n",
              "        [[3.52941185e-01, 2.58823544e-01, 2.19607845e-01],\n",
              "         [3.52941185e-01, 2.58823544e-01, 2.19607845e-01],\n",
              "         [3.53594750e-01, 2.57516325e-01, 2.17647061e-01],\n",
              "         ...,\n",
              "         [3.99346411e-01, 2.22875834e-01, 1.40522882e-01],\n",
              "         [4.00000006e-01, 2.23529413e-01, 1.41176477e-01],\n",
              "         [4.00000006e-01, 2.23529413e-01, 1.41176477e-01]]],\n",
              "\n",
              "\n",
              "       [[[3.05882365e-01, 4.15686280e-01, 6.00000024e-01],\n",
              "         [3.05882365e-01, 4.15686280e-01, 6.00000024e-01],\n",
              "         [3.01960796e-01, 4.12418276e-01, 5.92156887e-01],\n",
              "         ...,\n",
              "         [5.26143849e-01, 5.73202670e-01, 3.78431469e-01],\n",
              "         [5.33333361e-01, 5.80392182e-01, 3.84313732e-01],\n",
              "         [5.33333361e-01, 5.80392182e-01, 3.84313732e-01]],\n",
              "\n",
              "        [[3.05882365e-01, 4.15686280e-01, 6.00000024e-01],\n",
              "         [3.05882365e-01, 4.15686280e-01, 6.00000024e-01],\n",
              "         [3.01960796e-01, 4.12418276e-01, 5.92156887e-01],\n",
              "         ...,\n",
              "         [5.26143849e-01, 5.73202670e-01, 3.78431469e-01],\n",
              "         [5.33333361e-01, 5.80392182e-01, 3.84313732e-01],\n",
              "         [5.33333361e-01, 5.80392182e-01, 3.84313732e-01]],\n",
              "\n",
              "        [[3.09150338e-01, 4.20261443e-01, 5.97385585e-01],\n",
              "         [3.09150338e-01, 4.20261443e-01, 5.97385585e-01],\n",
              "         [3.05555552e-01, 4.17320251e-01, 5.90087116e-01],\n",
              "         ...,\n",
              "         [5.15577435e-01, 5.62636256e-01, 3.69172186e-01],\n",
              "         [5.21568656e-01, 5.68627477e-01, 3.73856217e-01],\n",
              "         [5.21568656e-01, 5.68627477e-01, 3.73856217e-01]],\n",
              "\n",
              "        ...,\n",
              "\n",
              "        [[4.77124333e-01, 5.32679915e-01, 5.73202789e-01],\n",
              "         [4.77124333e-01, 5.32679915e-01, 5.73202789e-01],\n",
              "         [4.67756152e-01, 5.23202777e-01, 5.58714807e-01],\n",
              "         ...,\n",
              "         [4.12528008e-01, 4.85839576e-01, 2.73965865e-01],\n",
              "         [4.39216167e-01, 5.13072431e-01, 2.99346864e-01],\n",
              "         [4.39216167e-01, 5.13072431e-01, 2.99346864e-01]],\n",
              "\n",
              "        [[4.86274511e-01, 5.41176498e-01, 5.84313750e-01],\n",
              "         [4.86274511e-01, 5.41176498e-01, 5.84313750e-01],\n",
              "         [4.77777779e-01, 5.32679737e-01, 5.70588231e-01],\n",
              "         ...,\n",
              "         [4.37255412e-01, 5.11111617e-01, 2.97386110e-01],\n",
              "         [4.70588237e-01, 5.45098066e-01, 3.29411775e-01],\n",
              "         [4.70588237e-01, 5.45098066e-01, 3.29411775e-01]],\n",
              "\n",
              "        [[4.86274511e-01, 5.41176498e-01, 5.84313750e-01],\n",
              "         [4.86274511e-01, 5.41176498e-01, 5.84313750e-01],\n",
              "         [4.77777779e-01, 5.32679737e-01, 5.70588231e-01],\n",
              "         ...,\n",
              "         [4.37255412e-01, 5.11111617e-01, 2.97386110e-01],\n",
              "         [4.70588237e-01, 5.45098066e-01, 3.29411775e-01],\n",
              "         [4.70588237e-01, 5.45098066e-01, 3.29411775e-01]]],\n",
              "\n",
              "\n",
              "       [[[1.88235298e-01, 1.64705887e-01, 1.01960786e-01],\n",
              "         [1.88235298e-01, 1.64705887e-01, 1.01960786e-01],\n",
              "         [1.92810461e-01, 1.71241835e-01, 1.06535949e-01],\n",
              "         ...,\n",
              "         [1.93464026e-01, 1.85620889e-01, 1.33333340e-01],\n",
              "         [1.92156866e-01, 1.84313729e-01, 1.33333340e-01],\n",
              "         [1.92156866e-01, 1.84313729e-01, 1.33333340e-01]],\n",
              "\n",
              "        [[1.88235298e-01, 1.64705887e-01, 1.01960786e-01],\n",
              "         [1.88235298e-01, 1.64705887e-01, 1.01960786e-01],\n",
              "         [1.92810461e-01, 1.71241835e-01, 1.06535949e-01],\n",
              "         ...,\n",
              "         [1.93464026e-01, 1.85620889e-01, 1.33333340e-01],\n",
              "         [1.92156866e-01, 1.84313729e-01, 1.33333340e-01],\n",
              "         [1.92156866e-01, 1.84313729e-01, 1.33333340e-01]],\n",
              "\n",
              "        [[1.90196082e-01, 1.67320266e-01, 1.02614373e-01],\n",
              "         [1.90196082e-01, 1.67320266e-01, 1.02614373e-01],\n",
              "         [1.94117650e-01, 1.73093677e-01, 1.06753811e-01],\n",
              "         ...,\n",
              "         [1.98365986e-01, 1.90413937e-01, 1.37037039e-01],\n",
              "         [1.97385609e-01, 1.89542472e-01, 1.37254909e-01],\n",
              "         [1.97385609e-01, 1.89542472e-01, 1.37254909e-01]],\n",
              "\n",
              "        ...,\n",
              "\n",
              "        [[3.85620952e-01, 3.86274546e-01, 2.42483735e-01],\n",
              "         [3.85620952e-01, 3.86274546e-01, 2.42483735e-01],\n",
              "         [3.86819214e-01, 3.88017446e-01, 2.41830125e-01],\n",
              "         ...,\n",
              "         [7.16558039e-01, 5.67429483e-01, 4.17865157e-01],\n",
              "         [7.28758335e-01, 5.79738736e-01, 4.28758264e-01],\n",
              "         [7.28758335e-01, 5.79738736e-01, 4.28758264e-01]],\n",
              "\n",
              "        [[3.88235301e-01, 3.88235301e-01, 2.47058824e-01],\n",
              "         [3.88235301e-01, 3.88235301e-01, 2.47058824e-01],\n",
              "         [3.89542490e-01, 3.90196085e-01, 2.46405229e-01],\n",
              "         ...,\n",
              "         [7.24183202e-01, 5.75163603e-01, 4.23529595e-01],\n",
              "         [7.37254918e-01, 5.88235319e-01, 4.35294122e-01],\n",
              "         [7.37254918e-01, 5.88235319e-01, 4.35294122e-01]],\n",
              "\n",
              "        [[3.88235301e-01, 3.88235301e-01, 2.47058824e-01],\n",
              "         [3.88235301e-01, 3.88235301e-01, 2.47058824e-01],\n",
              "         [3.89542490e-01, 3.90196085e-01, 2.46405229e-01],\n",
              "         ...,\n",
              "         [7.24183202e-01, 5.75163603e-01, 4.23529595e-01],\n",
              "         [7.37254918e-01, 5.88235319e-01, 4.35294122e-01],\n",
              "         [7.37254918e-01, 5.88235319e-01, 4.35294122e-01]]]],\n",
              "      dtype=float32)"
            ]
          },
          "metadata": {},
          "execution_count": 22
        }
      ]
    },
    {
      "cell_type": "markdown",
      "source": [
        "# **#4 CNN Baseline Model**"
      ],
      "metadata": {
        "id": "JmkJuQzXwKFt"
      }
    },
    {
      "cell_type": "code",
      "source": [
        "model = Sequential()\n",
        "\n",
        "model.add(layers.Conv2D(8, kernel_size=(5, 5), activation='relu', padding='valid', input_shape=(120, 120, 3)))\n",
        "model.add(layers.MaxPool2D(pool_size=(2,2)))\n",
        "\n",
        "model.add(layers.Conv2D(4, kernel_size=(3,3), padding='valid', activation='relu'))\n",
        "model.add(layers.MaxPool2D(pool_size=(2,2)))\n",
        "\n",
        "model.add(layers.Flatten())\n",
        "\n",
        "model.add(layers.Dense(2, activation='relu'))\n",
        "model.add(layers.Dense(1, activation='sigmoid'))\n",
        "\n",
        "model.summary()"
      ],
      "metadata": {
        "id": "T2shXyHgwO1g",
        "colab": {
          "base_uri": "https://localhost:8080/",
          "height": 419
        },
        "outputId": "ea5a39f4-fed8-4a30-d72e-925056f03a09"
      },
      "execution_count": 23,
      "outputs": [
        {
          "output_type": "stream",
          "name": "stderr",
          "text": [
            "/usr/local/lib/python3.10/dist-packages/keras/src/layers/convolutional/base_conv.py:107: UserWarning: Do not pass an `input_shape`/`input_dim` argument to a layer. When using Sequential models, prefer using an `Input(shape)` object as the first layer in the model instead.\n",
            "  super().__init__(activity_regularizer=activity_regularizer, **kwargs)\n"
          ]
        },
        {
          "output_type": "display_data",
          "data": {
            "text/plain": [
              "\u001b[1mModel: \"sequential\"\u001b[0m\n"
            ],
            "text/html": [
              "<pre style=\"white-space:pre;overflow-x:auto;line-height:normal;font-family:Menlo,'DejaVu Sans Mono',consolas,'Courier New',monospace\"><span style=\"font-weight: bold\">Model: \"sequential\"</span>\n",
              "</pre>\n"
            ]
          },
          "metadata": {}
        },
        {
          "output_type": "display_data",
          "data": {
            "text/plain": [
              "┏━━━━━━━━━━━━━━━━━━━━━━━━━━━━━━━━━━━━━━┳━━━━━━━━━━━━━━━━━━━━━━━━━━━━━┳━━━━━━━━━━━━━━━━━┓\n",
              "┃\u001b[1m \u001b[0m\u001b[1mLayer (type)                        \u001b[0m\u001b[1m \u001b[0m┃\u001b[1m \u001b[0m\u001b[1mOutput Shape               \u001b[0m\u001b[1m \u001b[0m┃\u001b[1m \u001b[0m\u001b[1m        Param #\u001b[0m\u001b[1m \u001b[0m┃\n",
              "┡━━━━━━━━━━━━━━━━━━━━━━━━━━━━━━━━━━━━━━╇━━━━━━━━━━━━━━━━━━━━━━━━━━━━━╇━━━━━━━━━━━━━━━━━┩\n",
              "│ conv2d (\u001b[38;5;33mConv2D\u001b[0m)                      │ (\u001b[38;5;45mNone\u001b[0m, \u001b[38;5;34m116\u001b[0m, \u001b[38;5;34m116\u001b[0m, \u001b[38;5;34m8\u001b[0m)         │             \u001b[38;5;34m608\u001b[0m │\n",
              "├──────────────────────────────────────┼─────────────────────────────┼─────────────────┤\n",
              "│ max_pooling2d (\u001b[38;5;33mMaxPooling2D\u001b[0m)         │ (\u001b[38;5;45mNone\u001b[0m, \u001b[38;5;34m58\u001b[0m, \u001b[38;5;34m58\u001b[0m, \u001b[38;5;34m8\u001b[0m)           │               \u001b[38;5;34m0\u001b[0m │\n",
              "├──────────────────────────────────────┼─────────────────────────────┼─────────────────┤\n",
              "│ conv2d_1 (\u001b[38;5;33mConv2D\u001b[0m)                    │ (\u001b[38;5;45mNone\u001b[0m, \u001b[38;5;34m56\u001b[0m, \u001b[38;5;34m56\u001b[0m, \u001b[38;5;34m4\u001b[0m)           │             \u001b[38;5;34m292\u001b[0m │\n",
              "├──────────────────────────────────────┼─────────────────────────────┼─────────────────┤\n",
              "│ max_pooling2d_1 (\u001b[38;5;33mMaxPooling2D\u001b[0m)       │ (\u001b[38;5;45mNone\u001b[0m, \u001b[38;5;34m28\u001b[0m, \u001b[38;5;34m28\u001b[0m, \u001b[38;5;34m4\u001b[0m)           │               \u001b[38;5;34m0\u001b[0m │\n",
              "├──────────────────────────────────────┼─────────────────────────────┼─────────────────┤\n",
              "│ flatten (\u001b[38;5;33mFlatten\u001b[0m)                    │ (\u001b[38;5;45mNone\u001b[0m, \u001b[38;5;34m3136\u001b[0m)                │               \u001b[38;5;34m0\u001b[0m │\n",
              "├──────────────────────────────────────┼─────────────────────────────┼─────────────────┤\n",
              "│ dense (\u001b[38;5;33mDense\u001b[0m)                        │ (\u001b[38;5;45mNone\u001b[0m, \u001b[38;5;34m2\u001b[0m)                   │           \u001b[38;5;34m6,274\u001b[0m │\n",
              "├──────────────────────────────────────┼─────────────────────────────┼─────────────────┤\n",
              "│ dense_1 (\u001b[38;5;33mDense\u001b[0m)                      │ (\u001b[38;5;45mNone\u001b[0m, \u001b[38;5;34m1\u001b[0m)                   │               \u001b[38;5;34m3\u001b[0m │\n",
              "└──────────────────────────────────────┴─────────────────────────────┴─────────────────┘\n"
            ],
            "text/html": [
              "<pre style=\"white-space:pre;overflow-x:auto;line-height:normal;font-family:Menlo,'DejaVu Sans Mono',consolas,'Courier New',monospace\">┏━━━━━━━━━━━━━━━━━━━━━━━━━━━━━━━━━━━━━━┳━━━━━━━━━━━━━━━━━━━━━━━━━━━━━┳━━━━━━━━━━━━━━━━━┓\n",
              "┃<span style=\"font-weight: bold\"> Layer (type)                         </span>┃<span style=\"font-weight: bold\"> Output Shape                </span>┃<span style=\"font-weight: bold\">         Param # </span>┃\n",
              "┡━━━━━━━━━━━━━━━━━━━━━━━━━━━━━━━━━━━━━━╇━━━━━━━━━━━━━━━━━━━━━━━━━━━━━╇━━━━━━━━━━━━━━━━━┩\n",
              "│ conv2d (<span style=\"color: #0087ff; text-decoration-color: #0087ff\">Conv2D</span>)                      │ (<span style=\"color: #00d7ff; text-decoration-color: #00d7ff\">None</span>, <span style=\"color: #00af00; text-decoration-color: #00af00\">116</span>, <span style=\"color: #00af00; text-decoration-color: #00af00\">116</span>, <span style=\"color: #00af00; text-decoration-color: #00af00\">8</span>)         │             <span style=\"color: #00af00; text-decoration-color: #00af00\">608</span> │\n",
              "├──────────────────────────────────────┼─────────────────────────────┼─────────────────┤\n",
              "│ max_pooling2d (<span style=\"color: #0087ff; text-decoration-color: #0087ff\">MaxPooling2D</span>)         │ (<span style=\"color: #00d7ff; text-decoration-color: #00d7ff\">None</span>, <span style=\"color: #00af00; text-decoration-color: #00af00\">58</span>, <span style=\"color: #00af00; text-decoration-color: #00af00\">58</span>, <span style=\"color: #00af00; text-decoration-color: #00af00\">8</span>)           │               <span style=\"color: #00af00; text-decoration-color: #00af00\">0</span> │\n",
              "├──────────────────────────────────────┼─────────────────────────────┼─────────────────┤\n",
              "│ conv2d_1 (<span style=\"color: #0087ff; text-decoration-color: #0087ff\">Conv2D</span>)                    │ (<span style=\"color: #00d7ff; text-decoration-color: #00d7ff\">None</span>, <span style=\"color: #00af00; text-decoration-color: #00af00\">56</span>, <span style=\"color: #00af00; text-decoration-color: #00af00\">56</span>, <span style=\"color: #00af00; text-decoration-color: #00af00\">4</span>)           │             <span style=\"color: #00af00; text-decoration-color: #00af00\">292</span> │\n",
              "├──────────────────────────────────────┼─────────────────────────────┼─────────────────┤\n",
              "│ max_pooling2d_1 (<span style=\"color: #0087ff; text-decoration-color: #0087ff\">MaxPooling2D</span>)       │ (<span style=\"color: #00d7ff; text-decoration-color: #00d7ff\">None</span>, <span style=\"color: #00af00; text-decoration-color: #00af00\">28</span>, <span style=\"color: #00af00; text-decoration-color: #00af00\">28</span>, <span style=\"color: #00af00; text-decoration-color: #00af00\">4</span>)           │               <span style=\"color: #00af00; text-decoration-color: #00af00\">0</span> │\n",
              "├──────────────────────────────────────┼─────────────────────────────┼─────────────────┤\n",
              "│ flatten (<span style=\"color: #0087ff; text-decoration-color: #0087ff\">Flatten</span>)                    │ (<span style=\"color: #00d7ff; text-decoration-color: #00d7ff\">None</span>, <span style=\"color: #00af00; text-decoration-color: #00af00\">3136</span>)                │               <span style=\"color: #00af00; text-decoration-color: #00af00\">0</span> │\n",
              "├──────────────────────────────────────┼─────────────────────────────┼─────────────────┤\n",
              "│ dense (<span style=\"color: #0087ff; text-decoration-color: #0087ff\">Dense</span>)                        │ (<span style=\"color: #00d7ff; text-decoration-color: #00d7ff\">None</span>, <span style=\"color: #00af00; text-decoration-color: #00af00\">2</span>)                   │           <span style=\"color: #00af00; text-decoration-color: #00af00\">6,274</span> │\n",
              "├──────────────────────────────────────┼─────────────────────────────┼─────────────────┤\n",
              "│ dense_1 (<span style=\"color: #0087ff; text-decoration-color: #0087ff\">Dense</span>)                      │ (<span style=\"color: #00d7ff; text-decoration-color: #00d7ff\">None</span>, <span style=\"color: #00af00; text-decoration-color: #00af00\">1</span>)                   │               <span style=\"color: #00af00; text-decoration-color: #00af00\">3</span> │\n",
              "└──────────────────────────────────────┴─────────────────────────────┴─────────────────┘\n",
              "</pre>\n"
            ]
          },
          "metadata": {}
        },
        {
          "output_type": "display_data",
          "data": {
            "text/plain": [
              "\u001b[1m Total params: \u001b[0m\u001b[38;5;34m7,177\u001b[0m (28.04 KB)\n"
            ],
            "text/html": [
              "<pre style=\"white-space:pre;overflow-x:auto;line-height:normal;font-family:Menlo,'DejaVu Sans Mono',consolas,'Courier New',monospace\"><span style=\"font-weight: bold\"> Total params: </span><span style=\"color: #00af00; text-decoration-color: #00af00\">7,177</span> (28.04 KB)\n",
              "</pre>\n"
            ]
          },
          "metadata": {}
        },
        {
          "output_type": "display_data",
          "data": {
            "text/plain": [
              "\u001b[1m Trainable params: \u001b[0m\u001b[38;5;34m7,177\u001b[0m (28.04 KB)\n"
            ],
            "text/html": [
              "<pre style=\"white-space:pre;overflow-x:auto;line-height:normal;font-family:Menlo,'DejaVu Sans Mono',consolas,'Courier New',monospace\"><span style=\"font-weight: bold\"> Trainable params: </span><span style=\"color: #00af00; text-decoration-color: #00af00\">7,177</span> (28.04 KB)\n",
              "</pre>\n"
            ]
          },
          "metadata": {}
        },
        {
          "output_type": "display_data",
          "data": {
            "text/plain": [
              "\u001b[1m Non-trainable params: \u001b[0m\u001b[38;5;34m0\u001b[0m (0.00 B)\n"
            ],
            "text/html": [
              "<pre style=\"white-space:pre;overflow-x:auto;line-height:normal;font-family:Menlo,'DejaVu Sans Mono',consolas,'Courier New',monospace\"><span style=\"font-weight: bold\"> Non-trainable params: </span><span style=\"color: #00af00; text-decoration-color: #00af00\">0</span> (0.00 B)\n",
              "</pre>\n"
            ]
          },
          "metadata": {}
        }
      ]
    },
    {
      "cell_type": "code",
      "source": [
        "model.compile(loss='binary_crossentropy',\n",
        "              optimizer='adam',\n",
        "              metrics=['accuracy'])"
      ],
      "metadata": {
        "id": "n0KZeU42wSfn"
      },
      "execution_count": 24,
      "outputs": []
    },
    {
      "cell_type": "code",
      "source": [
        "model.fit(X_train, y_train, epochs=50, batch_size=1024)"
      ],
      "metadata": {
        "id": "DfX5b8JYwqI4",
        "colab": {
          "base_uri": "https://localhost:8080/"
        },
        "outputId": "6b7480b5-7f2f-4688-e845-322b4df8b293"
      },
      "execution_count": 25,
      "outputs": [
        {
          "output_type": "stream",
          "name": "stdout",
          "text": [
            "Epoch 1/50\n",
            "\u001b[1m88/88\u001b[0m \u001b[32m━━━━━━━━━━━━━━━━━━━━\u001b[0m\u001b[37m\u001b[0m \u001b[1m17s\u001b[0m 105ms/step - accuracy: 0.6227 - loss: 0.6293\n",
            "Epoch 2/50\n",
            "\u001b[1m88/88\u001b[0m \u001b[32m━━━━━━━━━━━━━━━━━━━━\u001b[0m\u001b[37m\u001b[0m \u001b[1m5s\u001b[0m 60ms/step - accuracy: 0.7509 - loss: 0.5005\n",
            "Epoch 3/50\n",
            "\u001b[1m88/88\u001b[0m \u001b[32m━━━━━━━━━━━━━━━━━━━━\u001b[0m\u001b[37m\u001b[0m \u001b[1m5s\u001b[0m 60ms/step - accuracy: 0.7621 - loss: 0.4849\n",
            "Epoch 4/50\n",
            "\u001b[1m88/88\u001b[0m \u001b[32m━━━━━━━━━━━━━━━━━━━━\u001b[0m\u001b[37m\u001b[0m \u001b[1m5s\u001b[0m 59ms/step - accuracy: 0.7697 - loss: 0.4666\n",
            "Epoch 5/50\n",
            "\u001b[1m88/88\u001b[0m \u001b[32m━━━━━━━━━━━━━━━━━━━━\u001b[0m\u001b[37m\u001b[0m \u001b[1m5s\u001b[0m 60ms/step - accuracy: 0.7852 - loss: 0.4449\n",
            "Epoch 6/50\n",
            "\u001b[1m88/88\u001b[0m \u001b[32m━━━━━━━━━━━━━━━━━━━━\u001b[0m\u001b[37m\u001b[0m \u001b[1m5s\u001b[0m 60ms/step - accuracy: 0.7947 - loss: 0.4273\n",
            "Epoch 7/50\n",
            "\u001b[1m88/88\u001b[0m \u001b[32m━━━━━━━━━━━━━━━━━━━━\u001b[0m\u001b[37m\u001b[0m \u001b[1m5s\u001b[0m 60ms/step - accuracy: 0.8169 - loss: 0.3972\n",
            "Epoch 8/50\n",
            "\u001b[1m88/88\u001b[0m \u001b[32m━━━━━━━━━━━━━━━━━━━━\u001b[0m\u001b[37m\u001b[0m \u001b[1m5s\u001b[0m 60ms/step - accuracy: 0.8391 - loss: 0.3658\n",
            "Epoch 9/50\n",
            "\u001b[1m88/88\u001b[0m \u001b[32m━━━━━━━━━━━━━━━━━━━━\u001b[0m\u001b[37m\u001b[0m \u001b[1m5s\u001b[0m 59ms/step - accuracy: 0.8529 - loss: 0.3461\n",
            "Epoch 10/50\n",
            "\u001b[1m88/88\u001b[0m \u001b[32m━━━━━━━━━━━━━━━━━━━━\u001b[0m\u001b[37m\u001b[0m \u001b[1m5s\u001b[0m 62ms/step - accuracy: 0.8603 - loss: 0.3315\n",
            "Epoch 11/50\n",
            "\u001b[1m88/88\u001b[0m \u001b[32m━━━━━━━━━━━━━━━━━━━━\u001b[0m\u001b[37m\u001b[0m \u001b[1m5s\u001b[0m 60ms/step - accuracy: 0.8659 - loss: 0.3213\n",
            "Epoch 12/50\n",
            "\u001b[1m88/88\u001b[0m \u001b[32m━━━━━━━━━━━━━━━━━━━━\u001b[0m\u001b[37m\u001b[0m \u001b[1m5s\u001b[0m 60ms/step - accuracy: 0.8693 - loss: 0.3163\n",
            "Epoch 13/50\n",
            "\u001b[1m88/88\u001b[0m \u001b[32m━━━━━━━━━━━━━━━━━━━━\u001b[0m\u001b[37m\u001b[0m \u001b[1m5s\u001b[0m 59ms/step - accuracy: 0.8719 - loss: 0.3124\n",
            "Epoch 14/50\n",
            "\u001b[1m88/88\u001b[0m \u001b[32m━━━━━━━━━━━━━━━━━━━━\u001b[0m\u001b[37m\u001b[0m \u001b[1m5s\u001b[0m 61ms/step - accuracy: 0.8722 - loss: 0.3062\n",
            "Epoch 15/50\n",
            "\u001b[1m88/88\u001b[0m \u001b[32m━━━━━━━━━━━━━━━━━━━━\u001b[0m\u001b[37m\u001b[0m \u001b[1m5s\u001b[0m 61ms/step - accuracy: 0.8734 - loss: 0.3034\n",
            "Epoch 16/50\n",
            "\u001b[1m88/88\u001b[0m \u001b[32m━━━━━━━━━━━━━━━━━━━━\u001b[0m\u001b[37m\u001b[0m \u001b[1m5s\u001b[0m 61ms/step - accuracy: 0.8764 - loss: 0.2962\n",
            "Epoch 17/50\n",
            "\u001b[1m88/88\u001b[0m \u001b[32m━━━━━━━━━━━━━━━━━━━━\u001b[0m\u001b[37m\u001b[0m \u001b[1m5s\u001b[0m 60ms/step - accuracy: 0.8786 - loss: 0.2932\n",
            "Epoch 18/50\n",
            "\u001b[1m88/88\u001b[0m \u001b[32m━━━━━━━━━━━━━━━━━━━━\u001b[0m\u001b[37m\u001b[0m \u001b[1m5s\u001b[0m 60ms/step - accuracy: 0.8808 - loss: 0.2866\n",
            "Epoch 19/50\n",
            "\u001b[1m88/88\u001b[0m \u001b[32m━━━━━━━━━━━━━━━━━━━━\u001b[0m\u001b[37m\u001b[0m \u001b[1m5s\u001b[0m 60ms/step - accuracy: 0.8780 - loss: 0.2917\n",
            "Epoch 20/50\n",
            "\u001b[1m88/88\u001b[0m \u001b[32m━━━━━━━━━━━━━━━━━━━━\u001b[0m\u001b[37m\u001b[0m \u001b[1m5s\u001b[0m 60ms/step - accuracy: 0.8814 - loss: 0.2880\n",
            "Epoch 21/50\n",
            "\u001b[1m88/88\u001b[0m \u001b[32m━━━━━━━━━━━━━━━━━━━━\u001b[0m\u001b[37m\u001b[0m \u001b[1m5s\u001b[0m 61ms/step - accuracy: 0.8841 - loss: 0.2796\n",
            "Epoch 22/50\n",
            "\u001b[1m88/88\u001b[0m \u001b[32m━━━━━━━━━━━━━━━━━━━━\u001b[0m\u001b[37m\u001b[0m \u001b[1m5s\u001b[0m 59ms/step - accuracy: 0.8860 - loss: 0.2786\n",
            "Epoch 23/50\n",
            "\u001b[1m88/88\u001b[0m \u001b[32m━━━━━━━━━━━━━━━━━━━━\u001b[0m\u001b[37m\u001b[0m \u001b[1m5s\u001b[0m 61ms/step - accuracy: 0.8848 - loss: 0.2780\n",
            "Epoch 24/50\n",
            "\u001b[1m88/88\u001b[0m \u001b[32m━━━━━━━━━━━━━━━━━━━━\u001b[0m\u001b[37m\u001b[0m \u001b[1m5s\u001b[0m 61ms/step - accuracy: 0.8846 - loss: 0.2793\n",
            "Epoch 25/50\n",
            "\u001b[1m88/88\u001b[0m \u001b[32m━━━━━━━━━━━━━━━━━━━━\u001b[0m\u001b[37m\u001b[0m \u001b[1m5s\u001b[0m 60ms/step - accuracy: 0.8848 - loss: 0.2761\n",
            "Epoch 26/50\n",
            "\u001b[1m88/88\u001b[0m \u001b[32m━━━━━━━━━━━━━━━━━━━━\u001b[0m\u001b[37m\u001b[0m \u001b[1m5s\u001b[0m 60ms/step - accuracy: 0.8865 - loss: 0.2730\n",
            "Epoch 27/50\n",
            "\u001b[1m88/88\u001b[0m \u001b[32m━━━━━━━━━━━━━━━━━━━━\u001b[0m\u001b[37m\u001b[0m \u001b[1m5s\u001b[0m 60ms/step - accuracy: 0.8876 - loss: 0.2714\n",
            "Epoch 28/50\n",
            "\u001b[1m88/88\u001b[0m \u001b[32m━━━━━━━━━━━━━━━━━━━━\u001b[0m\u001b[37m\u001b[0m \u001b[1m5s\u001b[0m 61ms/step - accuracy: 0.8882 - loss: 0.2690\n",
            "Epoch 29/50\n",
            "\u001b[1m88/88\u001b[0m \u001b[32m━━━━━━━━━━━━━━━━━━━━\u001b[0m\u001b[37m\u001b[0m \u001b[1m5s\u001b[0m 60ms/step - accuracy: 0.8872 - loss: 0.2738\n",
            "Epoch 30/50\n",
            "\u001b[1m88/88\u001b[0m \u001b[32m━━━━━━━━━━━━━━━━━━━━\u001b[0m\u001b[37m\u001b[0m \u001b[1m5s\u001b[0m 60ms/step - accuracy: 0.8889 - loss: 0.2688\n",
            "Epoch 31/50\n",
            "\u001b[1m88/88\u001b[0m \u001b[32m━━━━━━━━━━━━━━━━━━━━\u001b[0m\u001b[37m\u001b[0m \u001b[1m5s\u001b[0m 60ms/step - accuracy: 0.8892 - loss: 0.2673\n",
            "Epoch 32/50\n",
            "\u001b[1m88/88\u001b[0m \u001b[32m━━━━━━━━━━━━━━━━━━━━\u001b[0m\u001b[37m\u001b[0m \u001b[1m5s\u001b[0m 60ms/step - accuracy: 0.8898 - loss: 0.2636\n",
            "Epoch 33/50\n",
            "\u001b[1m88/88\u001b[0m \u001b[32m━━━━━━━━━━━━━━━━━━━━\u001b[0m\u001b[37m\u001b[0m \u001b[1m5s\u001b[0m 61ms/step - accuracy: 0.8907 - loss: 0.2661\n",
            "Epoch 34/50\n",
            "\u001b[1m88/88\u001b[0m \u001b[32m━━━━━━━━━━━━━━━━━━━━\u001b[0m\u001b[37m\u001b[0m \u001b[1m5s\u001b[0m 60ms/step - accuracy: 0.8917 - loss: 0.2591\n",
            "Epoch 35/50\n",
            "\u001b[1m88/88\u001b[0m \u001b[32m━━━━━━━━━━━━━━━━━━━━\u001b[0m\u001b[37m\u001b[0m \u001b[1m5s\u001b[0m 61ms/step - accuracy: 0.8908 - loss: 0.2640\n",
            "Epoch 36/50\n",
            "\u001b[1m88/88\u001b[0m \u001b[32m━━━━━━━━━━━━━━━━━━━━\u001b[0m\u001b[37m\u001b[0m \u001b[1m5s\u001b[0m 59ms/step - accuracy: 0.8930 - loss: 0.2590\n",
            "Epoch 37/50\n",
            "\u001b[1m88/88\u001b[0m \u001b[32m━━━━━━━━━━━━━━━━━━━━\u001b[0m\u001b[37m\u001b[0m \u001b[1m5s\u001b[0m 60ms/step - accuracy: 0.8912 - loss: 0.2610\n",
            "Epoch 38/50\n",
            "\u001b[1m88/88\u001b[0m \u001b[32m━━━━━━━━━━━━━━━━━━━━\u001b[0m\u001b[37m\u001b[0m \u001b[1m5s\u001b[0m 60ms/step - accuracy: 0.8914 - loss: 0.2622\n",
            "Epoch 39/50\n",
            "\u001b[1m88/88\u001b[0m \u001b[32m━━━━━━━━━━━━━━━━━━━━\u001b[0m\u001b[37m\u001b[0m \u001b[1m5s\u001b[0m 60ms/step - accuracy: 0.8925 - loss: 0.2604\n",
            "Epoch 40/50\n",
            "\u001b[1m88/88\u001b[0m \u001b[32m━━━━━━━━━━━━━━━━━━━━\u001b[0m\u001b[37m\u001b[0m \u001b[1m5s\u001b[0m 59ms/step - accuracy: 0.8928 - loss: 0.2600\n",
            "Epoch 41/50\n",
            "\u001b[1m88/88\u001b[0m \u001b[32m━━━━━━━━━━━━━━━━━━━━\u001b[0m\u001b[37m\u001b[0m \u001b[1m5s\u001b[0m 60ms/step - accuracy: 0.8950 - loss: 0.2531\n",
            "Epoch 42/50\n",
            "\u001b[1m88/88\u001b[0m \u001b[32m━━━━━━━━━━━━━━━━━━━━\u001b[0m\u001b[37m\u001b[0m \u001b[1m5s\u001b[0m 59ms/step - accuracy: 0.8938 - loss: 0.2581\n",
            "Epoch 43/50\n",
            "\u001b[1m88/88\u001b[0m \u001b[32m━━━━━━━━━━━━━━━━━━━━\u001b[0m\u001b[37m\u001b[0m \u001b[1m5s\u001b[0m 60ms/step - accuracy: 0.8920 - loss: 0.2578\n",
            "Epoch 44/50\n",
            "\u001b[1m88/88\u001b[0m \u001b[32m━━━━━━━━━━━━━━━━━━━━\u001b[0m\u001b[37m\u001b[0m \u001b[1m5s\u001b[0m 60ms/step - accuracy: 0.8931 - loss: 0.2599\n",
            "Epoch 45/50\n",
            "\u001b[1m88/88\u001b[0m \u001b[32m━━━━━━━━━━━━━━━━━━━━\u001b[0m\u001b[37m\u001b[0m \u001b[1m5s\u001b[0m 60ms/step - accuracy: 0.8967 - loss: 0.2510\n",
            "Epoch 46/50\n",
            "\u001b[1m88/88\u001b[0m \u001b[32m━━━━━━━━━━━━━━━━━━━━\u001b[0m\u001b[37m\u001b[0m \u001b[1m5s\u001b[0m 60ms/step - accuracy: 0.8949 - loss: 0.2556\n",
            "Epoch 47/50\n",
            "\u001b[1m88/88\u001b[0m \u001b[32m━━━━━━━━━━━━━━━━━━━━\u001b[0m\u001b[37m\u001b[0m \u001b[1m5s\u001b[0m 60ms/step - accuracy: 0.8965 - loss: 0.2505\n",
            "Epoch 48/50\n",
            "\u001b[1m88/88\u001b[0m \u001b[32m━━━━━━━━━━━━━━━━━━━━\u001b[0m\u001b[37m\u001b[0m \u001b[1m5s\u001b[0m 60ms/step - accuracy: 0.8934 - loss: 0.2592\n",
            "Epoch 49/50\n",
            "\u001b[1m88/88\u001b[0m \u001b[32m━━━━━━━━━━━━━━━━━━━━\u001b[0m\u001b[37m\u001b[0m \u001b[1m5s\u001b[0m 59ms/step - accuracy: 0.8970 - loss: 0.2501\n",
            "Epoch 50/50\n",
            "\u001b[1m88/88\u001b[0m \u001b[32m━━━━━━━━━━━━━━━━━━━━\u001b[0m\u001b[37m\u001b[0m \u001b[1m5s\u001b[0m 60ms/step - accuracy: 0.8989 - loss: 0.2476\n"
          ]
        },
        {
          "output_type": "execute_result",
          "data": {
            "text/plain": [
              "<keras.src.callbacks.history.History at 0x7eb6e24e36a0>"
            ]
          },
          "metadata": {},
          "execution_count": 25
        }
      ]
    },
    {
      "cell_type": "code",
      "source": [
        "model.evaluate(X_test, y_test,verbose=0)"
      ],
      "metadata": {
        "id": "cLouQ2XDwuOn",
        "colab": {
          "base_uri": "https://localhost:8080/"
        },
        "outputId": "bbfcdba2-fe47-4fd2-be21-6233a52a8ddd"
      },
      "execution_count": 26,
      "outputs": [
        {
          "output_type": "execute_result",
          "data": {
            "text/plain": [
              "[0.2965637147426605, 0.8809999823570251]"
            ]
          },
          "metadata": {},
          "execution_count": 26
        }
      ]
    },
    {
      "cell_type": "code",
      "source": [
        "model.save('cnn_model.h5')"
      ],
      "metadata": {
        "colab": {
          "base_uri": "https://localhost:8080/"
        },
        "id": "O7lhyaHkcCFm",
        "outputId": "2092811e-e4ed-4b1b-ce68-8dd638ad0dc2"
      },
      "execution_count": 27,
      "outputs": [
        {
          "output_type": "stream",
          "name": "stderr",
          "text": [
            "WARNING:absl:You are saving your model as an HDF5 file via `model.save()` or `keras.saving.save_model(model)`. This file format is considered legacy. We recommend using instead the native Keras format, e.g. `model.save('my_model.keras')` or `keras.saving.save_model(model, 'my_model.keras')`. \n"
          ]
        }
      ]
    },
    {
      "cell_type": "code",
      "source": [
        "X_test[3]"
      ],
      "metadata": {
        "colab": {
          "base_uri": "https://localhost:8080/"
        },
        "id": "1_pXNTQNRyZD",
        "outputId": "74e4bde4-bb64-463e-8b0d-fe0f85d31a0c"
      },
      "execution_count": 28,
      "outputs": [
        {
          "output_type": "execute_result",
          "data": {
            "text/plain": [
              "array([[[0.40392157, 0.4392157 , 0.35686275],\n",
              "        [0.40392157, 0.4392157 , 0.35686275],\n",
              "        [0.41633984, 0.451634  , 0.36928102],\n",
              "        ...,\n",
              "        [0.53856224, 0.52287596, 0.51111126],\n",
              "        [0.54901963, 0.53333336, 0.52156866],\n",
              "        [0.54901963, 0.53333336, 0.52156866]],\n",
              "\n",
              "       [[0.40392157, 0.4392157 , 0.35686275],\n",
              "        [0.40392157, 0.4392157 , 0.35686275],\n",
              "        [0.41633984, 0.451634  , 0.36928102],\n",
              "        ...,\n",
              "        [0.53856224, 0.52287596, 0.51111126],\n",
              "        [0.54901963, 0.53333336, 0.52156866],\n",
              "        [0.54901963, 0.53333336, 0.52156866]],\n",
              "\n",
              "       [[0.4       , 0.43529412, 0.3529412 ],\n",
              "        [0.4       , 0.43529412, 0.3529412 ],\n",
              "        [0.41252723, 0.44782135, 0.3654684 ],\n",
              "        ...,\n",
              "        [0.5300655 , 0.5143792 , 0.5026145 ],\n",
              "        [0.5405229 , 0.5248366 , 0.5130719 ],\n",
              "        [0.5405229 , 0.5248366 , 0.5130719 ]],\n",
              "\n",
              "       ...,\n",
              "\n",
              "       [[0.41437903, 0.3581699 , 0.3555555 ],\n",
              "        [0.41437903, 0.3581699 , 0.3555555 ],\n",
              "        [0.4218954 , 0.36753812, 0.36427015],\n",
              "        ...,\n",
              "        [0.58616585, 0.566558  , 0.5430286 ],\n",
              "        [0.58888906, 0.5692812 , 0.5457518 ],\n",
              "        [0.58888906, 0.5692812 , 0.5457518 ]],\n",
              "\n",
              "       [[0.4117647 , 0.35686275, 0.3529412 ],\n",
              "        [0.4117647 , 0.35686275, 0.3529412 ],\n",
              "        [0.41960785, 0.36666667, 0.3620915 ],\n",
              "        ...,\n",
              "        [0.60065365, 0.5810458 , 0.5575164 ],\n",
              "        [0.6039216 , 0.58431375, 0.56078434],\n",
              "        [0.6039216 , 0.58431375, 0.56078434]],\n",
              "\n",
              "       [[0.4117647 , 0.35686275, 0.3529412 ],\n",
              "        [0.4117647 , 0.35686275, 0.3529412 ],\n",
              "        [0.41960785, 0.36666667, 0.3620915 ],\n",
              "        ...,\n",
              "        [0.60065365, 0.5810458 , 0.5575164 ],\n",
              "        [0.6039216 , 0.58431375, 0.56078434],\n",
              "        [0.6039216 , 0.58431375, 0.56078434]]], dtype=float32)"
            ]
          },
          "metadata": {},
          "execution_count": 28
        }
      ]
    },
    {
      "cell_type": "code",
      "source": [
        "prediction = model.predict(X_test[3].reshape(1,120,120,3))"
      ],
      "metadata": {
        "colab": {
          "base_uri": "https://localhost:8080/"
        },
        "id": "fs2LtM-_R0PB",
        "outputId": "a5c8817c-ac21-4006-ef65-b4fecbc6b7b3"
      },
      "execution_count": 39,
      "outputs": [
        {
          "output_type": "stream",
          "name": "stdout",
          "text": [
            "\u001b[1m1/1\u001b[0m \u001b[32m━━━━━━━━━━━━━━━━━━━━\u001b[0m\u001b[37m\u001b[0m \u001b[1m0s\u001b[0m 19ms/step\n"
          ]
        }
      ]
    },
    {
      "cell_type": "code",
      "source": [
        "prediction"
      ],
      "metadata": {
        "colab": {
          "base_uri": "https://localhost:8080/"
        },
        "id": "rhft6UvbTnvt",
        "outputId": "a58fd77b-c7b2-46b7-d1a7-508c8daf3e47"
      },
      "execution_count": 40,
      "outputs": [
        {
          "output_type": "execute_result",
          "data": {
            "text/plain": [
              "array([[0.87068963]], dtype=float32)"
            ]
          },
          "metadata": {},
          "execution_count": 40
        }
      ]
    },
    {
      "cell_type": "code",
      "source": [
        "prediction[0][0]"
      ],
      "metadata": {
        "colab": {
          "base_uri": "https://localhost:8080/"
        },
        "id": "vJcs2e9PUzju",
        "outputId": "020c317a-398b-4a52-ae91-5adc0e49a36d"
      },
      "execution_count": 41,
      "outputs": [
        {
          "output_type": "execute_result",
          "data": {
            "text/plain": [
              "0.87068963"
            ]
          },
          "metadata": {},
          "execution_count": 41
        }
      ]
    },
    {
      "cell_type": "code",
      "source": [
        "y_test[3]"
      ],
      "metadata": {
        "colab": {
          "base_uri": "https://localhost:8080/"
        },
        "id": "_Ucl9NGkU5LZ",
        "outputId": "32a85738-ddeb-4594-b18b-0066598d5708"
      },
      "execution_count": 42,
      "outputs": [
        {
          "output_type": "execute_result",
          "data": {
            "text/plain": [
              "1"
            ]
          },
          "metadata": {},
          "execution_count": 42
        }
      ]
    },
    {
      "cell_type": "code",
      "source": [
        "y_test[100]"
      ],
      "metadata": {
        "colab": {
          "base_uri": "https://localhost:8080/"
        },
        "id": "hLsVAuWiVY41",
        "outputId": "a10a9fcd-2e10-4647-dd99-9a0e6a49a378"
      },
      "execution_count": 43,
      "outputs": [
        {
          "output_type": "execute_result",
          "data": {
            "text/plain": [
              "0"
            ]
          },
          "metadata": {},
          "execution_count": 43
        }
      ]
    },
    {
      "cell_type": "code",
      "source": [
        "prediction = model.predict(X_test[100].reshape(1,120,120,3))\n",
        "prediction[0][0]"
      ],
      "metadata": {
        "colab": {
          "base_uri": "https://localhost:8080/"
        },
        "id": "ANb9Ue6-VcB5",
        "outputId": "00daee6d-c81a-4de1-afae-79631a514d53"
      },
      "execution_count": 44,
      "outputs": [
        {
          "output_type": "stream",
          "name": "stdout",
          "text": [
            "\u001b[1m1/1\u001b[0m \u001b[32m━━━━━━━━━━━━━━━━━━━━\u001b[0m\u001b[37m\u001b[0m \u001b[1m0s\u001b[0m 19ms/step\n"
          ]
        },
        {
          "output_type": "execute_result",
          "data": {
            "text/plain": [
              "0.0014086282"
            ]
          },
          "metadata": {},
          "execution_count": 44
        }
      ]
    },
    {
      "cell_type": "code",
      "source": [
        "y_test[999]"
      ],
      "metadata": {
        "colab": {
          "base_uri": "https://localhost:8080/"
        },
        "id": "bUm5oo5fViwr",
        "outputId": "2c51797c-282d-4937-cf83-e6b877e670cc"
      },
      "execution_count": 45,
      "outputs": [
        {
          "output_type": "execute_result",
          "data": {
            "text/plain": [
              "1"
            ]
          },
          "metadata": {},
          "execution_count": 45
        }
      ]
    },
    {
      "cell_type": "code",
      "source": [
        "prediction = model.predict(X_test[999].reshape(1,120,120,3))\n",
        "prediction[0][0]"
      ],
      "metadata": {
        "colab": {
          "base_uri": "https://localhost:8080/"
        },
        "id": "ecEg-3nUWPud",
        "outputId": "644a0cad-dc43-4f68-c7a9-f19014b21c9d"
      },
      "execution_count": 46,
      "outputs": [
        {
          "output_type": "stream",
          "name": "stdout",
          "text": [
            "\u001b[1m1/1\u001b[0m \u001b[32m━━━━━━━━━━━━━━━━━━━━\u001b[0m\u001b[37m\u001b[0m \u001b[1m0s\u001b[0m 19ms/step\n"
          ]
        },
        {
          "output_type": "execute_result",
          "data": {
            "text/plain": [
              "0.9123783"
            ]
          },
          "metadata": {},
          "execution_count": 46
        }
      ]
    },
    {
      "cell_type": "code",
      "source": [
        "X_test.shape"
      ],
      "metadata": {
        "colab": {
          "base_uri": "https://localhost:8080/"
        },
        "id": "jRw5ai9gWUzx",
        "outputId": "86921502-8344-47d9-f725-35b549920621"
      },
      "execution_count": 48,
      "outputs": [
        {
          "output_type": "execute_result",
          "data": {
            "text/plain": [
              "(2000, 120, 120, 3)"
            ]
          },
          "metadata": {},
          "execution_count": 48
        }
      ]
    },
    {
      "cell_type": "code",
      "source": [
        "prediction = model.predict(X_test)"
      ],
      "metadata": {
        "colab": {
          "base_uri": "https://localhost:8080/"
        },
        "id": "r0PpgFVWXLBw",
        "outputId": "cc71a385-8c1d-44aa-f530-842ef288628c"
      },
      "execution_count": 49,
      "outputs": [
        {
          "output_type": "stream",
          "name": "stdout",
          "text": [
            "\u001b[1m63/63\u001b[0m \u001b[32m━━━━━━━━━━━━━━━━━━━━\u001b[0m\u001b[37m\u001b[0m \u001b[1m1s\u001b[0m 5ms/step\n"
          ]
        }
      ]
    },
    {
      "cell_type": "code",
      "source": [
        "prediction.shape"
      ],
      "metadata": {
        "colab": {
          "base_uri": "https://localhost:8080/"
        },
        "id": "rcyDjjpgXr7j",
        "outputId": "7c0f38cf-2ce9-40a7-9dd9-1cbb1bef5004"
      },
      "execution_count": 52,
      "outputs": [
        {
          "output_type": "execute_result",
          "data": {
            "text/plain": [
              "(2000, 1)"
            ]
          },
          "metadata": {},
          "execution_count": 52
        }
      ]
    },
    {
      "cell_type": "code",
      "source": [
        "y_test.shape"
      ],
      "metadata": {
        "colab": {
          "base_uri": "https://localhost:8080/"
        },
        "id": "tR55Og8GXvME",
        "outputId": "bb8bbbaf-e79e-40be-b3a9-e48fdc8fbb49"
      },
      "execution_count": 55,
      "outputs": [
        {
          "output_type": "execute_result",
          "data": {
            "text/plain": [
              "(2000,)"
            ]
          },
          "metadata": {},
          "execution_count": 55
        }
      ]
    },
    {
      "cell_type": "code",
      "source": [
        "import pandas as pd\n",
        "\n",
        "predictions_flat = prediction.flatten()\n",
        "\n",
        "comparison_df = pd.DataFrame({\n",
        "    'True Labels': y_test,\n",
        "    'Predicted Labels': predictions_flat\n",
        "})"
      ],
      "metadata": {
        "id": "V-_TSEI0YjTZ"
      },
      "execution_count": 57,
      "outputs": []
    },
    {
      "cell_type": "code",
      "source": [
        "comparison_df['Correct Prediction'] = comparison_df['True Labels'] == comparison_df['Predicted Labels']"
      ],
      "metadata": {
        "id": "qRQo4qXtZUwy"
      },
      "execution_count": 59,
      "outputs": []
    },
    {
      "cell_type": "code",
      "source": [
        "def one_hot_encode_predictions(x):\n",
        "  if x < 0.5:\n",
        "    return 0\n",
        "  else:\n",
        "    return 1\n",
        "\n",
        "comparison_df['Predicted Labels'] = comparison_df['Predicted Labels'].apply(one_hot_encode_predictions)"
      ],
      "metadata": {
        "id": "nksrpGCRZ3Kz"
      },
      "execution_count": 62,
      "outputs": []
    },
    {
      "cell_type": "code",
      "source": [
        "comparison_df['Correct Prediction'] = comparison_df['True Labels'] == comparison_df['Predicted Labels']"
      ],
      "metadata": {
        "id": "1dGbGCsQa7Tu"
      },
      "execution_count": 64,
      "outputs": []
    },
    {
      "cell_type": "code",
      "source": [
        "comparison_df.head(5)"
      ],
      "metadata": {
        "colab": {
          "base_uri": "https://localhost:8080/",
          "height": 206
        },
        "id": "gqLLvvFPbNBg",
        "outputId": "2bc07815-7a93-4221-c54a-319d2a34b166"
      },
      "execution_count": 65,
      "outputs": [
        {
          "output_type": "execute_result",
          "data": {
            "text/plain": [
              "   True Labels  Predicted Labels  Correct Prediction\n",
              "0            1                 1                True\n",
              "1            0                 0                True\n",
              "2            0                 0                True\n",
              "3            1                 1                True\n",
              "4            0                 0                True"
            ],
            "text/html": [
              "\n",
              "  <div id=\"df-3967186e-9fcf-4b63-9192-647df1cc2c79\" class=\"colab-df-container\">\n",
              "    <div>\n",
              "<style scoped>\n",
              "    .dataframe tbody tr th:only-of-type {\n",
              "        vertical-align: middle;\n",
              "    }\n",
              "\n",
              "    .dataframe tbody tr th {\n",
              "        vertical-align: top;\n",
              "    }\n",
              "\n",
              "    .dataframe thead th {\n",
              "        text-align: right;\n",
              "    }\n",
              "</style>\n",
              "<table border=\"1\" class=\"dataframe\">\n",
              "  <thead>\n",
              "    <tr style=\"text-align: right;\">\n",
              "      <th></th>\n",
              "      <th>True Labels</th>\n",
              "      <th>Predicted Labels</th>\n",
              "      <th>Correct Prediction</th>\n",
              "    </tr>\n",
              "  </thead>\n",
              "  <tbody>\n",
              "    <tr>\n",
              "      <th>0</th>\n",
              "      <td>1</td>\n",
              "      <td>1</td>\n",
              "      <td>True</td>\n",
              "    </tr>\n",
              "    <tr>\n",
              "      <th>1</th>\n",
              "      <td>0</td>\n",
              "      <td>0</td>\n",
              "      <td>True</td>\n",
              "    </tr>\n",
              "    <tr>\n",
              "      <th>2</th>\n",
              "      <td>0</td>\n",
              "      <td>0</td>\n",
              "      <td>True</td>\n",
              "    </tr>\n",
              "    <tr>\n",
              "      <th>3</th>\n",
              "      <td>1</td>\n",
              "      <td>1</td>\n",
              "      <td>True</td>\n",
              "    </tr>\n",
              "    <tr>\n",
              "      <th>4</th>\n",
              "      <td>0</td>\n",
              "      <td>0</td>\n",
              "      <td>True</td>\n",
              "    </tr>\n",
              "  </tbody>\n",
              "</table>\n",
              "</div>\n",
              "    <div class=\"colab-df-buttons\">\n",
              "\n",
              "  <div class=\"colab-df-container\">\n",
              "    <button class=\"colab-df-convert\" onclick=\"convertToInteractive('df-3967186e-9fcf-4b63-9192-647df1cc2c79')\"\n",
              "            title=\"Convert this dataframe to an interactive table.\"\n",
              "            style=\"display:none;\">\n",
              "\n",
              "  <svg xmlns=\"http://www.w3.org/2000/svg\" height=\"24px\" viewBox=\"0 -960 960 960\">\n",
              "    <path d=\"M120-120v-720h720v720H120Zm60-500h600v-160H180v160Zm220 220h160v-160H400v160Zm0 220h160v-160H400v160ZM180-400h160v-160H180v160Zm440 0h160v-160H620v160ZM180-180h160v-160H180v160Zm440 0h160v-160H620v160Z\"/>\n",
              "  </svg>\n",
              "    </button>\n",
              "\n",
              "  <style>\n",
              "    .colab-df-container {\n",
              "      display:flex;\n",
              "      gap: 12px;\n",
              "    }\n",
              "\n",
              "    .colab-df-convert {\n",
              "      background-color: #E8F0FE;\n",
              "      border: none;\n",
              "      border-radius: 50%;\n",
              "      cursor: pointer;\n",
              "      display: none;\n",
              "      fill: #1967D2;\n",
              "      height: 32px;\n",
              "      padding: 0 0 0 0;\n",
              "      width: 32px;\n",
              "    }\n",
              "\n",
              "    .colab-df-convert:hover {\n",
              "      background-color: #E2EBFA;\n",
              "      box-shadow: 0px 1px 2px rgba(60, 64, 67, 0.3), 0px 1px 3px 1px rgba(60, 64, 67, 0.15);\n",
              "      fill: #174EA6;\n",
              "    }\n",
              "\n",
              "    .colab-df-buttons div {\n",
              "      margin-bottom: 4px;\n",
              "    }\n",
              "\n",
              "    [theme=dark] .colab-df-convert {\n",
              "      background-color: #3B4455;\n",
              "      fill: #D2E3FC;\n",
              "    }\n",
              "\n",
              "    [theme=dark] .colab-df-convert:hover {\n",
              "      background-color: #434B5C;\n",
              "      box-shadow: 0px 1px 3px 1px rgba(0, 0, 0, 0.15);\n",
              "      filter: drop-shadow(0px 1px 2px rgba(0, 0, 0, 0.3));\n",
              "      fill: #FFFFFF;\n",
              "    }\n",
              "  </style>\n",
              "\n",
              "    <script>\n",
              "      const buttonEl =\n",
              "        document.querySelector('#df-3967186e-9fcf-4b63-9192-647df1cc2c79 button.colab-df-convert');\n",
              "      buttonEl.style.display =\n",
              "        google.colab.kernel.accessAllowed ? 'block' : 'none';\n",
              "\n",
              "      async function convertToInteractive(key) {\n",
              "        const element = document.querySelector('#df-3967186e-9fcf-4b63-9192-647df1cc2c79');\n",
              "        const dataTable =\n",
              "          await google.colab.kernel.invokeFunction('convertToInteractive',\n",
              "                                                    [key], {});\n",
              "        if (!dataTable) return;\n",
              "\n",
              "        const docLinkHtml = 'Like what you see? Visit the ' +\n",
              "          '<a target=\"_blank\" href=https://colab.research.google.com/notebooks/data_table.ipynb>data table notebook</a>'\n",
              "          + ' to learn more about interactive tables.';\n",
              "        element.innerHTML = '';\n",
              "        dataTable['output_type'] = 'display_data';\n",
              "        await google.colab.output.renderOutput(dataTable, element);\n",
              "        const docLink = document.createElement('div');\n",
              "        docLink.innerHTML = docLinkHtml;\n",
              "        element.appendChild(docLink);\n",
              "      }\n",
              "    </script>\n",
              "  </div>\n",
              "\n",
              "\n",
              "<div id=\"df-18bb2d5d-0d3f-4e79-9f96-ba8f276cc969\">\n",
              "  <button class=\"colab-df-quickchart\" onclick=\"quickchart('df-18bb2d5d-0d3f-4e79-9f96-ba8f276cc969')\"\n",
              "            title=\"Suggest charts\"\n",
              "            style=\"display:none;\">\n",
              "\n",
              "<svg xmlns=\"http://www.w3.org/2000/svg\" height=\"24px\"viewBox=\"0 0 24 24\"\n",
              "     width=\"24px\">\n",
              "    <g>\n",
              "        <path d=\"M19 3H5c-1.1 0-2 .9-2 2v14c0 1.1.9 2 2 2h14c1.1 0 2-.9 2-2V5c0-1.1-.9-2-2-2zM9 17H7v-7h2v7zm4 0h-2V7h2v10zm4 0h-2v-4h2v4z\"/>\n",
              "    </g>\n",
              "</svg>\n",
              "  </button>\n",
              "\n",
              "<style>\n",
              "  .colab-df-quickchart {\n",
              "      --bg-color: #E8F0FE;\n",
              "      --fill-color: #1967D2;\n",
              "      --hover-bg-color: #E2EBFA;\n",
              "      --hover-fill-color: #174EA6;\n",
              "      --disabled-fill-color: #AAA;\n",
              "      --disabled-bg-color: #DDD;\n",
              "  }\n",
              "\n",
              "  [theme=dark] .colab-df-quickchart {\n",
              "      --bg-color: #3B4455;\n",
              "      --fill-color: #D2E3FC;\n",
              "      --hover-bg-color: #434B5C;\n",
              "      --hover-fill-color: #FFFFFF;\n",
              "      --disabled-bg-color: #3B4455;\n",
              "      --disabled-fill-color: #666;\n",
              "  }\n",
              "\n",
              "  .colab-df-quickchart {\n",
              "    background-color: var(--bg-color);\n",
              "    border: none;\n",
              "    border-radius: 50%;\n",
              "    cursor: pointer;\n",
              "    display: none;\n",
              "    fill: var(--fill-color);\n",
              "    height: 32px;\n",
              "    padding: 0;\n",
              "    width: 32px;\n",
              "  }\n",
              "\n",
              "  .colab-df-quickchart:hover {\n",
              "    background-color: var(--hover-bg-color);\n",
              "    box-shadow: 0 1px 2px rgba(60, 64, 67, 0.3), 0 1px 3px 1px rgba(60, 64, 67, 0.15);\n",
              "    fill: var(--button-hover-fill-color);\n",
              "  }\n",
              "\n",
              "  .colab-df-quickchart-complete:disabled,\n",
              "  .colab-df-quickchart-complete:disabled:hover {\n",
              "    background-color: var(--disabled-bg-color);\n",
              "    fill: var(--disabled-fill-color);\n",
              "    box-shadow: none;\n",
              "  }\n",
              "\n",
              "  .colab-df-spinner {\n",
              "    border: 2px solid var(--fill-color);\n",
              "    border-color: transparent;\n",
              "    border-bottom-color: var(--fill-color);\n",
              "    animation:\n",
              "      spin 1s steps(1) infinite;\n",
              "  }\n",
              "\n",
              "  @keyframes spin {\n",
              "    0% {\n",
              "      border-color: transparent;\n",
              "      border-bottom-color: var(--fill-color);\n",
              "      border-left-color: var(--fill-color);\n",
              "    }\n",
              "    20% {\n",
              "      border-color: transparent;\n",
              "      border-left-color: var(--fill-color);\n",
              "      border-top-color: var(--fill-color);\n",
              "    }\n",
              "    30% {\n",
              "      border-color: transparent;\n",
              "      border-left-color: var(--fill-color);\n",
              "      border-top-color: var(--fill-color);\n",
              "      border-right-color: var(--fill-color);\n",
              "    }\n",
              "    40% {\n",
              "      border-color: transparent;\n",
              "      border-right-color: var(--fill-color);\n",
              "      border-top-color: var(--fill-color);\n",
              "    }\n",
              "    60% {\n",
              "      border-color: transparent;\n",
              "      border-right-color: var(--fill-color);\n",
              "    }\n",
              "    80% {\n",
              "      border-color: transparent;\n",
              "      border-right-color: var(--fill-color);\n",
              "      border-bottom-color: var(--fill-color);\n",
              "    }\n",
              "    90% {\n",
              "      border-color: transparent;\n",
              "      border-bottom-color: var(--fill-color);\n",
              "    }\n",
              "  }\n",
              "</style>\n",
              "\n",
              "  <script>\n",
              "    async function quickchart(key) {\n",
              "      const quickchartButtonEl =\n",
              "        document.querySelector('#' + key + ' button');\n",
              "      quickchartButtonEl.disabled = true;  // To prevent multiple clicks.\n",
              "      quickchartButtonEl.classList.add('colab-df-spinner');\n",
              "      try {\n",
              "        const charts = await google.colab.kernel.invokeFunction(\n",
              "            'suggestCharts', [key], {});\n",
              "      } catch (error) {\n",
              "        console.error('Error during call to suggestCharts:', error);\n",
              "      }\n",
              "      quickchartButtonEl.classList.remove('colab-df-spinner');\n",
              "      quickchartButtonEl.classList.add('colab-df-quickchart-complete');\n",
              "    }\n",
              "    (() => {\n",
              "      let quickchartButtonEl =\n",
              "        document.querySelector('#df-18bb2d5d-0d3f-4e79-9f96-ba8f276cc969 button');\n",
              "      quickchartButtonEl.style.display =\n",
              "        google.colab.kernel.accessAllowed ? 'block' : 'none';\n",
              "    })();\n",
              "  </script>\n",
              "</div>\n",
              "\n",
              "    </div>\n",
              "  </div>\n"
            ],
            "application/vnd.google.colaboratory.intrinsic+json": {
              "type": "dataframe",
              "variable_name": "comparison_df",
              "summary": "{\n  \"name\": \"comparison_df\",\n  \"rows\": 2000,\n  \"fields\": [\n    {\n      \"column\": \"True Labels\",\n      \"properties\": {\n        \"dtype\": \"int32\",\n        \"num_unique_values\": 2,\n        \"samples\": [\n          0,\n          1\n        ],\n        \"semantic_type\": \"\",\n        \"description\": \"\"\n      }\n    },\n    {\n      \"column\": \"Predicted Labels\",\n      \"properties\": {\n        \"dtype\": \"number\",\n        \"std\": 0,\n        \"min\": 0,\n        \"max\": 1,\n        \"num_unique_values\": 2,\n        \"samples\": [\n          0,\n          1\n        ],\n        \"semantic_type\": \"\",\n        \"description\": \"\"\n      }\n    },\n    {\n      \"column\": \"Correct Prediction\",\n      \"properties\": {\n        \"dtype\": \"boolean\",\n        \"num_unique_values\": 2,\n        \"samples\": [\n          false,\n          true\n        ],\n        \"semantic_type\": \"\",\n        \"description\": \"\"\n      }\n    }\n  ]\n}"
            }
          },
          "metadata": {},
          "execution_count": 65
        }
      ]
    },
    {
      "cell_type": "code",
      "source": [
        "comparison_df['Correct Prediction'].value_counts()/2000"
      ],
      "metadata": {
        "colab": {
          "base_uri": "https://localhost:8080/",
          "height": 178
        },
        "id": "Cp96CNowbdWh",
        "outputId": "784f180e-f7cb-43e5-de34-1974f91169b6"
      },
      "execution_count": 68,
      "outputs": [
        {
          "output_type": "execute_result",
          "data": {
            "text/plain": [
              "Correct Prediction\n",
              "True     0.881\n",
              "False    0.119\n",
              "Name: count, dtype: float64"
            ],
            "text/html": [
              "<div>\n",
              "<style scoped>\n",
              "    .dataframe tbody tr th:only-of-type {\n",
              "        vertical-align: middle;\n",
              "    }\n",
              "\n",
              "    .dataframe tbody tr th {\n",
              "        vertical-align: top;\n",
              "    }\n",
              "\n",
              "    .dataframe thead th {\n",
              "        text-align: right;\n",
              "    }\n",
              "</style>\n",
              "<table border=\"1\" class=\"dataframe\">\n",
              "  <thead>\n",
              "    <tr style=\"text-align: right;\">\n",
              "      <th></th>\n",
              "      <th>count</th>\n",
              "    </tr>\n",
              "    <tr>\n",
              "      <th>Correct Prediction</th>\n",
              "      <th></th>\n",
              "    </tr>\n",
              "  </thead>\n",
              "  <tbody>\n",
              "    <tr>\n",
              "      <th>True</th>\n",
              "      <td>0.881</td>\n",
              "    </tr>\n",
              "    <tr>\n",
              "      <th>False</th>\n",
              "      <td>0.119</td>\n",
              "    </tr>\n",
              "  </tbody>\n",
              "</table>\n",
              "</div><br><label><b>dtype:</b> float64</label>"
            ]
          },
          "metadata": {},
          "execution_count": 68
        }
      ]
    },
    {
      "cell_type": "code",
      "source": [],
      "metadata": {
        "id": "nGcI-3K3bkAU"
      },
      "execution_count": null,
      "outputs": []
    }
  ]
}