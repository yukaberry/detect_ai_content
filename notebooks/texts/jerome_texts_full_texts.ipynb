{
 "cells": [
  {
   "cell_type": "code",
   "execution_count": 2,
   "metadata": {},
   "outputs": [],
   "source": [
    "import matplotlib.pyplot as plt\n",
    "import numpy as np\n",
    "import pandas as pd\n",
    "import seaborn as sns\n",
    "from pathlib import Path\n",
    "import pickle\n",
    "\n",
    "from sklearn.compose import ColumnTransformer, make_column_transformer\n",
    "from sklearn.pipeline import make_pipeline\n",
    "from sklearn.preprocessing import FunctionTransformer, OneHotEncoder\n",
    "\n",
    "from sklearn import set_config; set_config(display='diagram')\n"
   ]
  },
  {
   "cell_type": "code",
   "execution_count": 26,
   "metadata": {},
   "outputs": [
    {
     "name": "stdout",
     "output_type": "stream",
     "text": [
      "(12440, 11)\n",
      "Index(['Unnamed: 0', 'id', 'text', 'generated', 'punctuations_nb',\n",
      "       'neg_sentiment_polarity', 'pos_sentiment_polarity',\n",
      "       'text_corrections_nb', 'text_repetitions_nb', 'number_of_sentences',\n",
      "       'text_lenght'],\n",
      "      dtype='object')\n"
     ]
    }
   ],
   "source": [
    "df = pd.read_csv('../../raw_data/huggingface.co_human_ai_generated_text/model_training_dataset_enriched_6220.csv')\n",
    "print(df.shape)\n",
    "print(df.columns)"
   ]
  },
  {
   "cell_type": "code",
   "execution_count": 31,
   "metadata": {},
   "outputs": [],
   "source": [
    "df['repetitions_ratio'] = df['text_repetitions_nb']/df['text_lenght']\n",
    "df['punctuations_ratio'] = df['punctuations_nb']/df['text_lenght']\n",
    "df['text_corrections_ratio'] = df['text_corrections_nb']/df['text_lenght']\n",
    "df['text_corrections_set_ratio'] = df['text_corrections_nb']/df['number_of_sentences']\n"
   ]
  },
  {
   "cell_type": "code",
   "execution_count": 32,
   "metadata": {},
   "outputs": [
    {
     "data": {
      "text/plain": [
       "<Axes: xlabel='generated', ylabel='text_corrections_set_ratio'>"
      ]
     },
     "execution_count": 32,
     "metadata": {},
     "output_type": "execute_result"
    },
    {
     "data": {
      "image/png": "[encoded data removed]",
      "text/plain": [
       "<Figure size 640x480 with 1 Axes>"
      ]
     },
     "metadata": {},
     "output_type": "display_data"
    }
   ],
   "source": [
    "sns.barplot(data=df, x=\"generated\", y=\"text_corrections_set_ratio\")"
   ]
  },
  {
   "cell_type": "code",
   "execution_count": null,
   "metadata": {},
   "outputs": [],
   "source": []
  },
  {
   "cell_type": "code",
   "execution_count": 33,
   "metadata": {},
   "outputs": [
    {
     "data": {
      "text/plain": [
       "(6083, 5)"
      ]
     },
     "execution_count": 33,
     "metadata": {},
     "output_type": "execute_result"
    }
   ],
   "source": [
    "from detect_ai_content.ml_logic.for_texts.using_ml_features.using_sentences_decomposition import *\n",
    "\n",
    "df_preprocessed = preprocess(data=df, execute_enrich=False)\n",
    "df_preprocessed.shape"
   ]
  },
  {
   "cell_type": "code",
   "execution_count": 34,
   "metadata": {},
   "outputs": [
    {
     "data": {
      "text/plain": [
       "array([[-0.5       ,  0.        ,  0.95230769,  0.        , -0.97333333],\n",
       "       [-0.5       , -0.08      , -0.39769231,  1.        , -0.21333333],\n",
       "       [-0.5       ,  0.        , -0.39769231,  2.        ,  0.24      ],\n",
       "       ...,\n",
       "       [ 0.        , -0.1       , -0.39769231,  0.        , -0.53333333],\n",
       "       [ 1.5       ,  0.        ,  0.64412587,  0.        ,  0.57333333],\n",
       "       [-0.5       ,  0.        ,  1.40230769,  1.        , -0.69333333]])"
      ]
     },
     "execution_count": 34,
     "metadata": {},
     "output_type": "execute_result"
    }
   ],
   "source": [
    "df_preprocessed"
   ]
  },
  {
   "cell_type": "code",
   "execution_count": 35,
   "metadata": {},
   "outputs": [],
   "source": [
    "model = train_LogisticRegression_model(X_train_processed=df_preprocessed, y_train=df['generated'])\n",
    "\n",
    "# model_path = '../../detect_ai_content/models/leverdewagon/sequences_logit.pickle'\n",
    "# pickle.dump(model, open(model_path, 'wb'))"
   ]
  },
  {
   "cell_type": "code",
   "execution_count": 36,
   "metadata": {},
   "outputs": [
    {
     "name": "stdout",
     "output_type": "stream",
     "text": [
      "START:The youngers student needs the olders student like the olders student need a adult to they can say dont do this is the same the younger.:END\n",
      "START:student need the olders student they can help each others.:END\n",
      "START:If the youngers studetn have a promble or a question they can ask the olders student.:END\n",
      "START:To do right this some student of the youngers schools they dont know english the olders studen.:END\n",
      "START:Can help them some times the olders student needs the youngerts students to do somenthing like if the olders sstudent dont know somenthing they can.:END\n",
      "_number_of_corrections_using_Spacy: The youngers student needs the olders student like the olders student need a adult to they can say dont do this is the same the younger.\n",
      "_number_of_corrections_using_Spacy: student need the olders student they can help each others.\n",
      "_number_of_corrections_using_Spacy: If the youngers studetn have a promble or a question they can ask the olders student.\n",
      "_number_of_corrections_using_Spacy: To do right this some student of the youngers schools they dont know english the olders studen.\n",
      "_number_of_corrections_using_Spacy: Can help them some times the olders student needs the youngerts students to do somenthing like if the olders sstudent dont know somenthing they can.\n"
     ]
    }
   ],
   "source": [
    "text = \"The youngers student needs the olders student like the olders student need a adult to they can say dont do this is the same the younger. student need the olders student they can help each others. If the youngers studetn have a promble or a question they can ask the olders student. To do right this some student of the youngers schools they dont know english the olders studen. Can help them some times the olders student needs the youngerts students to do somenthing like if the olders sstudent dont know somenthing they can.\"\n",
    "sentences_df = to_sentences(pd.DataFrame(data={'text':[text]}), include_generated=False)\n",
    "sentences_preprocessed_df = preprocess(sentences_df)\n",
    "preds = model.predict(X=sentences_preprocessed_df)"
   ]
  },
  {
   "cell_type": "code",
   "execution_count": 37,
   "metadata": {},
   "outputs": [
    {
     "data": {
      "text/plain": [
       "array([0, 0, 0, 0, 0])"
      ]
     },
     "execution_count": 37,
     "metadata": {},
     "output_type": "execute_result"
    }
   ],
   "source": [
    "preds"
   ]
  }
 ],
 "metadata": {
  "kernelspec": {
   "display_name": "detect_ai_content",
   "language": "python",
   "name": "python3"
  },
  "language_info": {
   "codemirror_mode": {
    "name": "ipython",
    "version": 3
   },
   "file_extension": ".py",
   "mimetype": "text/x-python",
   "name": "python",
   "nbconvert_exporter": "python",
   "pygments_lexer": "ipython3",
   "version": "3.10.6"
  }
 },
 "nbformat": 4,
 "nbformat_minor": 2
}
