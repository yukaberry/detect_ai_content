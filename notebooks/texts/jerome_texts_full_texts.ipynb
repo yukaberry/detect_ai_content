{
 "cells": [
  {
   "cell_type": "code",
   "execution_count": 2,
   "metadata": {},
   "outputs": [],
   "source": [
    "import matplotlib.pyplot as plt\n",
    "import numpy as np\n",
    "import pandas as pd\n",
    "import seaborn as sns\n",
    "from pathlib import Path\n",
    "import pickle\n",
    "\n",
    "from sklearn.compose import ColumnTransformer, make_column_transformer\n",
    "from sklearn.pipeline import make_pipeline\n",
    "from sklearn.preprocessing import FunctionTransformer, OneHotEncoder\n",
    "\n",
    "from sklearn import set_config; set_config(display='diagram')\n"
   ]
  },
  {
   "cell_type": "code",
   "execution_count": 329,
   "metadata": {},
   "outputs": [
    {
     "name": "stdout",
     "output_type": "stream",
     "text": [
      "(83020, 11)\n",
      "Index(['Unnamed: 0', 'id', 'text', 'generated', 'punctuations_nb',\n",
      "       'neg_sentiment_polarity', 'pos_sentiment_polarity',\n",
      "       'text_corrections_nb', 'text_repetitions_nb', 'number_of_sentences',\n",
      "       'text_lenght'],\n",
      "      dtype='object')\n"
     ]
    }
   ],
   "source": [
    "df = pd.read_csv('../../raw_data/huggingface.co_human_ai_generated_text/model_training_dataset_enriched_v2.csv')\n",
    "print(df.shape)\n",
    "print(df.columns)"
   ]
  },
  {
   "cell_type": "code",
   "execution_count": 330,
   "metadata": {},
   "outputs": [],
   "source": [
    "df['repetitions_ratio'] = df['text_repetitions_nb']/df['text_lenght']\n",
    "df['punctuations_ratio'] = df['punctuations_nb']/df['text_lenght']\n",
    "df['text_corrections_ratio'] = df['text_corrections_nb']/df['text_lenght']\n",
    "df['text_corrections_set_ratio'] = df['text_corrections_nb']/df['number_of_sentences']\n",
    "df['average_neg_sentiment_polarity'] = df['neg_sentiment_polarity']/df['text_lenght']"
   ]
  },
  {
   "cell_type": "code",
   "execution_count": 331,
   "metadata": {},
   "outputs": [
    {
     "data": {
      "text/plain": [
       "<Axes: xlabel='generated', ylabel='text_corrections_ratio'>"
      ]
     },
     "execution_count": 331,
     "metadata": {},
     "output_type": "execute_result"
    },
    {
     "data": {
      "image/png": "[encoded data removed]",
      "text/plain": [
       "<Figure size 640x480 with 1 Axes>"
      ]
     },
     "metadata": {},
     "output_type": "display_data"
    }
   ],
   "source": [
    "sns.barplot(data=df, x=\"generated\", y=\"text_corrections_ratio\")"
   ]
  },
  {
   "cell_type": "code",
   "execution_count": 250,
   "metadata": {},
   "outputs": [
    {
     "name": "stderr",
     "output_type": "stream",
     "text": [
      "[nltk_data] Downloading package punkt_tab to\n",
      "[nltk_data]     /Users/jeromemorissard/nltk_data...\n",
      "[nltk_data]   Package punkt_tab is already up-to-date!\n",
      "[nltk_data] Downloading package stopwords to\n",
      "[nltk_data]     /Users/jeromemorissard/nltk_data...\n",
      "[nltk_data]   Package stopwords is already up-to-date!\n",
      "[nltk_data] Downloading package words to\n",
      "[nltk_data]     /Users/jeromemorissard/nltk_data...\n",
      "[nltk_data]   Package words is already up-to-date!\n",
      "/Users/jeromemorissard/.pyenv/versions/3.10.6/envs/detect_ai_content/lib/python3.10/site-packages/tqdm/auto.py:21: TqdmWarning: IProgress not found. Please update jupyter and ipywidgets. See https://ipywidgets.readthedocs.io/en/stable/user_install.html\n",
      "  from .autonotebook import tqdm as notebook_tqdm\n"
     ]
    },
    {
     "ename": "KeyboardInterrupt",
     "evalue": "",
     "output_type": "error",
     "traceback": [
      "\u001b[0;31m---------------------------------------------------------------------------\u001b[0m",
      "\u001b[0;31mKeyboardInterrupt\u001b[0m                         Traceback (most recent call last)",
      "Cell \u001b[0;32mIn[250], line 1\u001b[0m\n\u001b[0;32m----> 1\u001b[0m \u001b[38;5;28;01mfrom\u001b[39;00m \u001b[38;5;21;01mdetect_ai_content\u001b[39;00m\u001b[38;5;21;01m.\u001b[39;00m\u001b[38;5;21;01mml_logic\u001b[39;00m\u001b[38;5;21;01m.\u001b[39;00m\u001b[38;5;21;01mfor_texts\u001b[39;00m\u001b[38;5;21;01m.\u001b[39;00m\u001b[38;5;21;01musing_ml_features\u001b[39;00m\u001b[38;5;21;01m.\u001b[39;00m\u001b[38;5;21;01musing_sentences_decomposition\u001b[39;00m \u001b[38;5;28;01mimport\u001b[39;00m \u001b[38;5;241m*\u001b[39m\n\u001b[1;32m      3\u001b[0m df_preprocessed \u001b[38;5;241m=\u001b[39m preprocess(data\u001b[38;5;241m=\u001b[39mdf, execute_enrich\u001b[38;5;241m=\u001b[39m\u001b[38;5;28;01mFalse\u001b[39;00m)\n\u001b[1;32m      4\u001b[0m df_preprocessed\u001b[38;5;241m.\u001b[39mshape\n",
      "File \u001b[0;32m~/Desktop/DataScience/detect_ai_content/detect_ai_content/ml_logic/for_texts/using_ml_features/using_sentences_decomposition.py:2\u001b[0m\n\u001b[0;32m----> 2\u001b[0m \u001b[38;5;28;01mfrom\u001b[39;00m \u001b[38;5;21;01mdetect_ai_content\u001b[39;00m\u001b[38;5;21;01m.\u001b[39;00m\u001b[38;5;21;01mml_logic\u001b[39;00m\u001b[38;5;21;01m.\u001b[39;00m\u001b[38;5;21;01mfor_texts\u001b[39;00m\u001b[38;5;21;01m.\u001b[39;00m\u001b[38;5;21;01musing_ml_features\u001b[39;00m\u001b[38;5;21;01m.\u001b[39;00m\u001b[38;5;21;01mfeatures\u001b[39;00m\u001b[38;5;21;01m.\u001b[39;00m\u001b[38;5;21;01mfeatures\u001b[39;00m \u001b[38;5;28;01mimport\u001b[39;00m \u001b[38;5;241m*\u001b[39m\n\u001b[1;32m      3\u001b[0m \u001b[38;5;28;01mfrom\u001b[39;00m \u001b[38;5;21;01msklearn\u001b[39;00m\u001b[38;5;21;01m.\u001b[39;00m\u001b[38;5;21;01mmetrics\u001b[39;00m \u001b[38;5;28;01mimport\u001b[39;00m accuracy_score, f1_score, precision_score, recall_score\n\u001b[1;32m      4\u001b[0m \u001b[38;5;28;01mfrom\u001b[39;00m \u001b[38;5;21;01msklearn\u001b[39;00m\u001b[38;5;21;01m.\u001b[39;00m\u001b[38;5;21;01mlinear_model\u001b[39;00m \u001b[38;5;28;01mimport\u001b[39;00m LogisticRegression\n",
      "File \u001b[0;32m~/Desktop/DataScience/detect_ai_content/detect_ai_content/ml_logic/for_texts/using_ml_features/features/features.py:15\u001b[0m\n\u001b[1;32m     13\u001b[0m \u001b[38;5;28;01mimport\u001b[39;00m \u001b[38;5;21;01mcontextualSpellCheck\u001b[39;00m\n\u001b[1;32m     14\u001b[0m nlp \u001b[38;5;241m=\u001b[39m spacy\u001b[38;5;241m.\u001b[39mload(\u001b[38;5;124m'\u001b[39m\u001b[38;5;124men_core_web_sm\u001b[39m\u001b[38;5;124m'\u001b[39m)\n\u001b[0;32m---> 15\u001b[0m \u001b[43mcontextualSpellCheck\u001b[49m\u001b[38;5;241;43m.\u001b[39;49m\u001b[43madd_to_pipe\u001b[49m\u001b[43m(\u001b[49m\u001b[43mnlp\u001b[49m\u001b[43m)\u001b[49m\n\u001b[1;32m     17\u001b[0m english_stopwords \u001b[38;5;241m=\u001b[39m stopwords\u001b[38;5;241m.\u001b[39mwords(\u001b[38;5;124m'\u001b[39m\u001b[38;5;124menglish\u001b[39m\u001b[38;5;124m'\u001b[39m)\n\u001b[1;32m     19\u001b[0m \u001b[38;5;28;01mimport\u001b[39;00m \u001b[38;5;21;01mstring\u001b[39;00m\n",
      "File \u001b[0;32m~/.pyenv/versions/3.10.6/envs/detect_ai_content/lib/python3.10/site-packages/contextualSpellCheck/__init__.py:8\u001b[0m, in \u001b[0;36madd_to_pipe\u001b[0;34m(nlp, **kwargs)\u001b[0m\n\u001b[1;32m      7\u001b[0m \u001b[38;5;28;01mdef\u001b[39;00m \u001b[38;5;21madd_to_pipe\u001b[39m(nlp, \u001b[38;5;241m*\u001b[39m\u001b[38;5;241m*\u001b[39mkwargs):\n\u001b[0;32m----> 8\u001b[0m     \u001b[43mnlp\u001b[49m\u001b[38;5;241;43m.\u001b[39;49m\u001b[43madd_pipe\u001b[49m\u001b[43m(\u001b[49m\u001b[38;5;124;43m\"\u001b[39;49m\u001b[38;5;124;43mcontextual spellchecker\u001b[39;49m\u001b[38;5;124;43m\"\u001b[39;49m\u001b[43m,\u001b[49m\u001b[43m \u001b[49m\u001b[38;5;241;43m*\u001b[39;49m\u001b[38;5;241;43m*\u001b[39;49m\u001b[43mkwargs\u001b[49m\u001b[43m)\u001b[49m\n",
      "File \u001b[0;32m~/.pyenv/versions/3.10.6/envs/detect_ai_content/lib/python3.10/site-packages/spacy/language.py:824\u001b[0m, in \u001b[0;36mLanguage.add_pipe\u001b[0;34m(self, factory_name, name, before, after, first, last, source, config, raw_config, validate)\u001b[0m\n\u001b[1;32m    820\u001b[0m     pipe_component, factory_name \u001b[38;5;241m=\u001b[39m \u001b[38;5;28mself\u001b[39m\u001b[38;5;241m.\u001b[39mcreate_pipe_from_source(\n\u001b[1;32m    821\u001b[0m         factory_name, source, name\u001b[38;5;241m=\u001b[39mname\n\u001b[1;32m    822\u001b[0m     )\n\u001b[1;32m    823\u001b[0m \u001b[38;5;28;01melse\u001b[39;00m:\n\u001b[0;32m--> 824\u001b[0m     pipe_component \u001b[38;5;241m=\u001b[39m \u001b[38;5;28;43mself\u001b[39;49m\u001b[38;5;241;43m.\u001b[39;49m\u001b[43mcreate_pipe\u001b[49m\u001b[43m(\u001b[49m\n\u001b[1;32m    825\u001b[0m \u001b[43m        \u001b[49m\u001b[43mfactory_name\u001b[49m\u001b[43m,\u001b[49m\n\u001b[1;32m    826\u001b[0m \u001b[43m        \u001b[49m\u001b[43mname\u001b[49m\u001b[38;5;241;43m=\u001b[39;49m\u001b[43mname\u001b[49m\u001b[43m,\u001b[49m\n\u001b[1;32m    827\u001b[0m \u001b[43m        \u001b[49m\u001b[43mconfig\u001b[49m\u001b[38;5;241;43m=\u001b[39;49m\u001b[43mconfig\u001b[49m\u001b[43m,\u001b[49m\n\u001b[1;32m    828\u001b[0m \u001b[43m        \u001b[49m\u001b[43mraw_config\u001b[49m\u001b[38;5;241;43m=\u001b[39;49m\u001b[43mraw_config\u001b[49m\u001b[43m,\u001b[49m\n\u001b[1;32m    829\u001b[0m \u001b[43m        \u001b[49m\u001b[43mvalidate\u001b[49m\u001b[38;5;241;43m=\u001b[39;49m\u001b[43mvalidate\u001b[49m\u001b[43m,\u001b[49m\n\u001b[1;32m    830\u001b[0m \u001b[43m    \u001b[49m\u001b[43m)\u001b[49m\n\u001b[1;32m    831\u001b[0m pipe_index \u001b[38;5;241m=\u001b[39m \u001b[38;5;28mself\u001b[39m\u001b[38;5;241m.\u001b[39m_get_pipe_index(before, after, first, last)\n\u001b[1;32m    832\u001b[0m \u001b[38;5;28mself\u001b[39m\u001b[38;5;241m.\u001b[39m_pipe_meta[name] \u001b[38;5;241m=\u001b[39m \u001b[38;5;28mself\u001b[39m\u001b[38;5;241m.\u001b[39mget_factory_meta(factory_name)\n",
      "File \u001b[0;32m~/.pyenv/versions/3.10.6/envs/detect_ai_content/lib/python3.10/site-packages/spacy/language.py:712\u001b[0m, in \u001b[0;36mLanguage.create_pipe\u001b[0;34m(self, factory_name, name, config, raw_config, validate)\u001b[0m\n\u001b[1;32m    709\u001b[0m cfg \u001b[38;5;241m=\u001b[39m {factory_name: config}\n\u001b[1;32m    710\u001b[0m \u001b[38;5;66;03m# We're calling the internal _fill here to avoid constructing the\u001b[39;00m\n\u001b[1;32m    711\u001b[0m \u001b[38;5;66;03m# registered functions twice\u001b[39;00m\n\u001b[0;32m--> 712\u001b[0m resolved \u001b[38;5;241m=\u001b[39m \u001b[43mregistry\u001b[49m\u001b[38;5;241;43m.\u001b[39;49m\u001b[43mresolve\u001b[49m\u001b[43m(\u001b[49m\u001b[43mcfg\u001b[49m\u001b[43m,\u001b[49m\u001b[43m \u001b[49m\u001b[43mvalidate\u001b[49m\u001b[38;5;241;43m=\u001b[39;49m\u001b[43mvalidate\u001b[49m\u001b[43m)\u001b[49m\n\u001b[1;32m    713\u001b[0m filled \u001b[38;5;241m=\u001b[39m registry\u001b[38;5;241m.\u001b[39mfill({\u001b[38;5;124m\"\u001b[39m\u001b[38;5;124mcfg\u001b[39m\u001b[38;5;124m\"\u001b[39m: cfg[factory_name]}, validate\u001b[38;5;241m=\u001b[39mvalidate)[\u001b[38;5;124m\"\u001b[39m\u001b[38;5;124mcfg\u001b[39m\u001b[38;5;124m\"\u001b[39m]\n\u001b[1;32m    714\u001b[0m filled \u001b[38;5;241m=\u001b[39m Config(filled)\n",
      "File \u001b[0;32m~/.pyenv/versions/3.10.6/envs/detect_ai_content/lib/python3.10/site-packages/confection/__init__.py:760\u001b[0m, in \u001b[0;36mregistry.resolve\u001b[0;34m(cls, config, schema, overrides, validate)\u001b[0m\n\u001b[1;32m    751\u001b[0m \u001b[38;5;129m@classmethod\u001b[39m\n\u001b[1;32m    752\u001b[0m \u001b[38;5;28;01mdef\u001b[39;00m \u001b[38;5;21mresolve\u001b[39m(\n\u001b[1;32m    753\u001b[0m     \u001b[38;5;28mcls\u001b[39m,\n\u001b[0;32m   (...)\u001b[0m\n\u001b[1;32m    758\u001b[0m     validate: \u001b[38;5;28mbool\u001b[39m \u001b[38;5;241m=\u001b[39m \u001b[38;5;28;01mTrue\u001b[39;00m,\n\u001b[1;32m    759\u001b[0m ) \u001b[38;5;241m-\u001b[39m\u001b[38;5;241m>\u001b[39m Dict[\u001b[38;5;28mstr\u001b[39m, Any]:\n\u001b[0;32m--> 760\u001b[0m     resolved, _ \u001b[38;5;241m=\u001b[39m \u001b[38;5;28;43mcls\u001b[39;49m\u001b[38;5;241;43m.\u001b[39;49m\u001b[43m_make\u001b[49m\u001b[43m(\u001b[49m\n\u001b[1;32m    761\u001b[0m \u001b[43m        \u001b[49m\u001b[43mconfig\u001b[49m\u001b[43m,\u001b[49m\u001b[43m \u001b[49m\u001b[43mschema\u001b[49m\u001b[38;5;241;43m=\u001b[39;49m\u001b[43mschema\u001b[49m\u001b[43m,\u001b[49m\u001b[43m \u001b[49m\u001b[43moverrides\u001b[49m\u001b[38;5;241;43m=\u001b[39;49m\u001b[43moverrides\u001b[49m\u001b[43m,\u001b[49m\u001b[43m \u001b[49m\u001b[43mvalidate\u001b[49m\u001b[38;5;241;43m=\u001b[39;49m\u001b[43mvalidate\u001b[49m\u001b[43m,\u001b[49m\u001b[43m \u001b[49m\u001b[43mresolve\u001b[49m\u001b[38;5;241;43m=\u001b[39;49m\u001b[38;5;28;43;01mTrue\u001b[39;49;00m\n\u001b[1;32m    762\u001b[0m \u001b[43m    \u001b[49m\u001b[43m)\u001b[49m\n\u001b[1;32m    763\u001b[0m     \u001b[38;5;28;01mreturn\u001b[39;00m resolved\n",
      "File \u001b[0;32m~/.pyenv/versions/3.10.6/envs/detect_ai_content/lib/python3.10/site-packages/confection/__init__.py:809\u001b[0m, in \u001b[0;36mregistry._make\u001b[0;34m(cls, config, schema, overrides, resolve, validate)\u001b[0m\n\u001b[1;32m    807\u001b[0m \u001b[38;5;28;01mif\u001b[39;00m \u001b[38;5;129;01mnot\u001b[39;00m is_interpolated:\n\u001b[1;32m    808\u001b[0m     config \u001b[38;5;241m=\u001b[39m Config(orig_config)\u001b[38;5;241m.\u001b[39minterpolate()\n\u001b[0;32m--> 809\u001b[0m filled, _, resolved \u001b[38;5;241m=\u001b[39m \u001b[38;5;28;43mcls\u001b[39;49m\u001b[38;5;241;43m.\u001b[39;49m\u001b[43m_fill\u001b[49m\u001b[43m(\u001b[49m\n\u001b[1;32m    810\u001b[0m \u001b[43m    \u001b[49m\u001b[43mconfig\u001b[49m\u001b[43m,\u001b[49m\u001b[43m \u001b[49m\u001b[43mschema\u001b[49m\u001b[43m,\u001b[49m\u001b[43m \u001b[49m\u001b[43mvalidate\u001b[49m\u001b[38;5;241;43m=\u001b[39;49m\u001b[43mvalidate\u001b[49m\u001b[43m,\u001b[49m\u001b[43m \u001b[49m\u001b[43moverrides\u001b[49m\u001b[38;5;241;43m=\u001b[39;49m\u001b[43moverrides\u001b[49m\u001b[43m,\u001b[49m\u001b[43m \u001b[49m\u001b[43mresolve\u001b[49m\u001b[38;5;241;43m=\u001b[39;49m\u001b[43mresolve\u001b[49m\n\u001b[1;32m    811\u001b[0m \u001b[43m\u001b[49m\u001b[43m)\u001b[49m\n\u001b[1;32m    812\u001b[0m filled \u001b[38;5;241m=\u001b[39m Config(filled, section_order\u001b[38;5;241m=\u001b[39msection_order)\n\u001b[1;32m    813\u001b[0m \u001b[38;5;66;03m# Check that overrides didn't include invalid properties not in config\u001b[39;00m\n",
      "File \u001b[0;32m~/.pyenv/versions/3.10.6/envs/detect_ai_content/lib/python3.10/site-packages/confection/__init__.py:881\u001b[0m, in \u001b[0;36mregistry._fill\u001b[0;34m(cls, config, schema, validate, resolve, parent, overrides)\u001b[0m\n\u001b[1;32m    878\u001b[0m     getter \u001b[38;5;241m=\u001b[39m \u001b[38;5;28mcls\u001b[39m\u001b[38;5;241m.\u001b[39mget(reg_name, func_name)\n\u001b[1;32m    879\u001b[0m     \u001b[38;5;66;03m# We don't want to try/except this and raise our own error\u001b[39;00m\n\u001b[1;32m    880\u001b[0m     \u001b[38;5;66;03m# here, because we want the traceback if the function fails.\u001b[39;00m\n\u001b[0;32m--> 881\u001b[0m     getter_result \u001b[38;5;241m=\u001b[39m \u001b[43mgetter\u001b[49m\u001b[43m(\u001b[49m\u001b[38;5;241;43m*\u001b[39;49m\u001b[43margs\u001b[49m\u001b[43m,\u001b[49m\u001b[43m \u001b[49m\u001b[38;5;241;43m*\u001b[39;49m\u001b[38;5;241;43m*\u001b[39;49m\u001b[43mkwargs\u001b[49m\u001b[43m)\u001b[49m\n\u001b[1;32m    882\u001b[0m \u001b[38;5;28;01melse\u001b[39;00m:\n\u001b[1;32m    883\u001b[0m     \u001b[38;5;66;03m# We're not resolving and calling the function, so replace\u001b[39;00m\n\u001b[1;32m    884\u001b[0m     \u001b[38;5;66;03m# the getter_result with a Promise class\u001b[39;00m\n\u001b[1;32m    885\u001b[0m     getter_result \u001b[38;5;241m=\u001b[39m Promise(\n\u001b[1;32m    886\u001b[0m         registry\u001b[38;5;241m=\u001b[39mreg_name, name\u001b[38;5;241m=\u001b[39mfunc_name, args\u001b[38;5;241m=\u001b[39margs, kwargs\u001b[38;5;241m=\u001b[39mkwargs\n\u001b[1;32m    887\u001b[0m     )\n",
      "File \u001b[0;32m~/.pyenv/versions/3.10.6/envs/detect_ai_content/lib/python3.10/site-packages/contextualSpellCheck/contextualSpellCheck.py:113\u001b[0m, in \u001b[0;36mContextualSpellCheck.__init__\u001b[0;34m(self, nlp, name, vocab_path, model_name, max_edit_dist, debug, performance)\u001b[0m\n\u001b[1;32m    111\u001b[0m \u001b[38;5;28mself\u001b[39m\u001b[38;5;241m.\u001b[39mvocab \u001b[38;5;241m=\u001b[39m Vocab(strings\u001b[38;5;241m=\u001b[39mwords)\n\u001b[1;32m    112\u001b[0m logging\u001b[38;5;241m.\u001b[39mgetLogger(\u001b[38;5;124m\"\u001b[39m\u001b[38;5;124mtransformers\u001b[39m\u001b[38;5;124m\"\u001b[39m)\u001b[38;5;241m.\u001b[39msetLevel(logging\u001b[38;5;241m.\u001b[39mERROR)\n\u001b[0;32m--> 113\u001b[0m \u001b[38;5;28mself\u001b[39m\u001b[38;5;241m.\u001b[39mBertModel \u001b[38;5;241m=\u001b[39m \u001b[43mAutoModelForMaskedLM\u001b[49m\u001b[38;5;241;43m.\u001b[39;49m\u001b[43mfrom_pretrained\u001b[49m\u001b[43m(\u001b[49m\u001b[38;5;28;43mself\u001b[39;49m\u001b[38;5;241;43m.\u001b[39;49m\u001b[43mmodel_name\u001b[49m\u001b[43m)\u001b[49m\n\u001b[1;32m    114\u001b[0m \u001b[38;5;28mself\u001b[39m\u001b[38;5;241m.\u001b[39mmask \u001b[38;5;241m=\u001b[39m \u001b[38;5;28mself\u001b[39m\u001b[38;5;241m.\u001b[39mBertTokenizer\u001b[38;5;241m.\u001b[39mmask_token\n\u001b[1;32m    115\u001b[0m \u001b[38;5;28mself\u001b[39m\u001b[38;5;241m.\u001b[39mdebug \u001b[38;5;241m=\u001b[39m debug\n",
      "File \u001b[0;32m~/.pyenv/versions/3.10.6/envs/detect_ai_content/lib/python3.10/site-packages/transformers/models/auto/auto_factory.py:563\u001b[0m, in \u001b[0;36m_BaseAutoModelClass.from_pretrained\u001b[0;34m(cls, pretrained_model_name_or_path, *model_args, **kwargs)\u001b[0m\n\u001b[1;32m    559\u001b[0m     \u001b[38;5;28;01mreturn\u001b[39;00m model_class\u001b[38;5;241m.\u001b[39mfrom_pretrained(\n\u001b[1;32m    560\u001b[0m         pretrained_model_name_or_path, \u001b[38;5;241m*\u001b[39mmodel_args, config\u001b[38;5;241m=\u001b[39mconfig, \u001b[38;5;241m*\u001b[39m\u001b[38;5;241m*\u001b[39mhub_kwargs, \u001b[38;5;241m*\u001b[39m\u001b[38;5;241m*\u001b[39mkwargs\n\u001b[1;32m    561\u001b[0m     )\n\u001b[1;32m    562\u001b[0m \u001b[38;5;28;01melif\u001b[39;00m \u001b[38;5;28mtype\u001b[39m(config) \u001b[38;5;129;01min\u001b[39;00m \u001b[38;5;28mcls\u001b[39m\u001b[38;5;241m.\u001b[39m_model_mapping\u001b[38;5;241m.\u001b[39mkeys():\n\u001b[0;32m--> 563\u001b[0m     model_class \u001b[38;5;241m=\u001b[39m \u001b[43m_get_model_class\u001b[49m\u001b[43m(\u001b[49m\u001b[43mconfig\u001b[49m\u001b[43m,\u001b[49m\u001b[43m \u001b[49m\u001b[38;5;28;43mcls\u001b[39;49m\u001b[38;5;241;43m.\u001b[39;49m\u001b[43m_model_mapping\u001b[49m\u001b[43m)\u001b[49m\n\u001b[1;32m    564\u001b[0m     \u001b[38;5;28;01mreturn\u001b[39;00m model_class\u001b[38;5;241m.\u001b[39mfrom_pretrained(\n\u001b[1;32m    565\u001b[0m         pretrained_model_name_or_path, \u001b[38;5;241m*\u001b[39mmodel_args, config\u001b[38;5;241m=\u001b[39mconfig, \u001b[38;5;241m*\u001b[39m\u001b[38;5;241m*\u001b[39mhub_kwargs, \u001b[38;5;241m*\u001b[39m\u001b[38;5;241m*\u001b[39mkwargs\n\u001b[1;32m    566\u001b[0m     )\n\u001b[1;32m    567\u001b[0m \u001b[38;5;28;01mraise\u001b[39;00m \u001b[38;5;167;01mValueError\u001b[39;00m(\n\u001b[1;32m    568\u001b[0m     \u001b[38;5;124mf\u001b[39m\u001b[38;5;124m\"\u001b[39m\u001b[38;5;124mUnrecognized configuration class \u001b[39m\u001b[38;5;132;01m{\u001b[39;00mconfig\u001b[38;5;241m.\u001b[39m\u001b[38;5;18m__class__\u001b[39m\u001b[38;5;132;01m}\u001b[39;00m\u001b[38;5;124m for this kind of AutoModel: \u001b[39m\u001b[38;5;132;01m{\u001b[39;00m\u001b[38;5;28mcls\u001b[39m\u001b[38;5;241m.\u001b[39m\u001b[38;5;18m__name__\u001b[39m\u001b[38;5;132;01m}\u001b[39;00m\u001b[38;5;124m.\u001b[39m\u001b[38;5;130;01m\\n\u001b[39;00m\u001b[38;5;124m\"\u001b[39m\n\u001b[1;32m    569\u001b[0m     \u001b[38;5;124mf\u001b[39m\u001b[38;5;124m\"\u001b[39m\u001b[38;5;124mModel type should be one of \u001b[39m\u001b[38;5;132;01m{\u001b[39;00m\u001b[38;5;124m'\u001b[39m\u001b[38;5;124m, \u001b[39m\u001b[38;5;124m'\u001b[39m\u001b[38;5;241m.\u001b[39mjoin(c\u001b[38;5;241m.\u001b[39m\u001b[38;5;18m__name__\u001b[39m\u001b[38;5;250m \u001b[39m\u001b[38;5;28;01mfor\u001b[39;00m\u001b[38;5;250m \u001b[39mc\u001b[38;5;250m \u001b[39m\u001b[38;5;129;01min\u001b[39;00m\u001b[38;5;250m \u001b[39m\u001b[38;5;28mcls\u001b[39m\u001b[38;5;241m.\u001b[39m_model_mapping\u001b[38;5;241m.\u001b[39mkeys())\u001b[38;5;132;01m}\u001b[39;00m\u001b[38;5;124m.\u001b[39m\u001b[38;5;124m\"\u001b[39m\n\u001b[1;32m    570\u001b[0m )\n",
      "File \u001b[0;32m~/.pyenv/versions/3.10.6/envs/detect_ai_content/lib/python3.10/site-packages/transformers/models/auto/auto_factory.py:388\u001b[0m, in \u001b[0;36m_get_model_class\u001b[0;34m(config, model_mapping)\u001b[0m\n\u001b[1;32m    387\u001b[0m \u001b[38;5;28;01mdef\u001b[39;00m \u001b[38;5;21m_get_model_class\u001b[39m(config, model_mapping):\n\u001b[0;32m--> 388\u001b[0m     supported_models \u001b[38;5;241m=\u001b[39m \u001b[43mmodel_mapping\u001b[49m\u001b[43m[\u001b[49m\u001b[38;5;28;43mtype\u001b[39;49m\u001b[43m(\u001b[49m\u001b[43mconfig\u001b[49m\u001b[43m)\u001b[49m\u001b[43m]\u001b[49m\n\u001b[1;32m    389\u001b[0m     \u001b[38;5;28;01mif\u001b[39;00m \u001b[38;5;129;01mnot\u001b[39;00m \u001b[38;5;28misinstance\u001b[39m(supported_models, (\u001b[38;5;28mlist\u001b[39m, \u001b[38;5;28mtuple\u001b[39m)):\n\u001b[1;32m    390\u001b[0m         \u001b[38;5;28;01mreturn\u001b[39;00m supported_models\n",
      "File \u001b[0;32m~/.pyenv/versions/3.10.6/envs/detect_ai_content/lib/python3.10/site-packages/transformers/models/auto/auto_factory.py:763\u001b[0m, in \u001b[0;36m_LazyAutoMapping.__getitem__\u001b[0;34m(self, key)\u001b[0m\n\u001b[1;32m    761\u001b[0m \u001b[38;5;28;01mif\u001b[39;00m model_type \u001b[38;5;129;01min\u001b[39;00m \u001b[38;5;28mself\u001b[39m\u001b[38;5;241m.\u001b[39m_model_mapping:\n\u001b[1;32m    762\u001b[0m     model_name \u001b[38;5;241m=\u001b[39m \u001b[38;5;28mself\u001b[39m\u001b[38;5;241m.\u001b[39m_model_mapping[model_type]\n\u001b[0;32m--> 763\u001b[0m     \u001b[38;5;28;01mreturn\u001b[39;00m \u001b[38;5;28;43mself\u001b[39;49m\u001b[38;5;241;43m.\u001b[39;49m\u001b[43m_load_attr_from_module\u001b[49m\u001b[43m(\u001b[49m\u001b[43mmodel_type\u001b[49m\u001b[43m,\u001b[49m\u001b[43m \u001b[49m\u001b[43mmodel_name\u001b[49m\u001b[43m)\u001b[49m\n\u001b[1;32m    765\u001b[0m \u001b[38;5;66;03m# Maybe there was several model types associated with this config.\u001b[39;00m\n\u001b[1;32m    766\u001b[0m model_types \u001b[38;5;241m=\u001b[39m [k \u001b[38;5;28;01mfor\u001b[39;00m k, v \u001b[38;5;129;01min\u001b[39;00m \u001b[38;5;28mself\u001b[39m\u001b[38;5;241m.\u001b[39m_config_mapping\u001b[38;5;241m.\u001b[39mitems() \u001b[38;5;28;01mif\u001b[39;00m v \u001b[38;5;241m==\u001b[39m key\u001b[38;5;241m.\u001b[39m\u001b[38;5;18m__name__\u001b[39m]\n",
      "File \u001b[0;32m~/.pyenv/versions/3.10.6/envs/detect_ai_content/lib/python3.10/site-packages/transformers/models/auto/auto_factory.py:777\u001b[0m, in \u001b[0;36m_LazyAutoMapping._load_attr_from_module\u001b[0;34m(self, model_type, attr)\u001b[0m\n\u001b[1;32m    775\u001b[0m \u001b[38;5;28;01mif\u001b[39;00m module_name \u001b[38;5;129;01mnot\u001b[39;00m \u001b[38;5;129;01min\u001b[39;00m \u001b[38;5;28mself\u001b[39m\u001b[38;5;241m.\u001b[39m_modules:\n\u001b[1;32m    776\u001b[0m     \u001b[38;5;28mself\u001b[39m\u001b[38;5;241m.\u001b[39m_modules[module_name] \u001b[38;5;241m=\u001b[39m importlib\u001b[38;5;241m.\u001b[39mimport_module(\u001b[38;5;124mf\u001b[39m\u001b[38;5;124m\"\u001b[39m\u001b[38;5;124m.\u001b[39m\u001b[38;5;132;01m{\u001b[39;00mmodule_name\u001b[38;5;132;01m}\u001b[39;00m\u001b[38;5;124m\"\u001b[39m, \u001b[38;5;124m\"\u001b[39m\u001b[38;5;124mtransformers.models\u001b[39m\u001b[38;5;124m\"\u001b[39m)\n\u001b[0;32m--> 777\u001b[0m \u001b[38;5;28;01mreturn\u001b[39;00m \u001b[43mgetattribute_from_module\u001b[49m\u001b[43m(\u001b[49m\u001b[38;5;28;43mself\u001b[39;49m\u001b[38;5;241;43m.\u001b[39;49m\u001b[43m_modules\u001b[49m\u001b[43m[\u001b[49m\u001b[43mmodule_name\u001b[49m\u001b[43m]\u001b[49m\u001b[43m,\u001b[49m\u001b[43m \u001b[49m\u001b[43mattr\u001b[49m\u001b[43m)\u001b[49m\n",
      "File \u001b[0;32m~/.pyenv/versions/3.10.6/envs/detect_ai_content/lib/python3.10/site-packages/transformers/models/auto/auto_factory.py:693\u001b[0m, in \u001b[0;36mgetattribute_from_module\u001b[0;34m(module, attr)\u001b[0m\n\u001b[1;32m    691\u001b[0m \u001b[38;5;28;01mif\u001b[39;00m \u001b[38;5;28misinstance\u001b[39m(attr, \u001b[38;5;28mtuple\u001b[39m):\n\u001b[1;32m    692\u001b[0m     \u001b[38;5;28;01mreturn\u001b[39;00m \u001b[38;5;28mtuple\u001b[39m(getattribute_from_module(module, a) \u001b[38;5;28;01mfor\u001b[39;00m a \u001b[38;5;129;01min\u001b[39;00m attr)\n\u001b[0;32m--> 693\u001b[0m \u001b[38;5;28;01mif\u001b[39;00m \u001b[38;5;28;43mhasattr\u001b[39;49m\u001b[43m(\u001b[49m\u001b[43mmodule\u001b[49m\u001b[43m,\u001b[49m\u001b[43m \u001b[49m\u001b[43mattr\u001b[49m\u001b[43m)\u001b[49m:\n\u001b[1;32m    694\u001b[0m     \u001b[38;5;28;01mreturn\u001b[39;00m \u001b[38;5;28mgetattr\u001b[39m(module, attr)\n\u001b[1;32m    695\u001b[0m \u001b[38;5;66;03m# Some of the mappings have entries model_type -> object of another model type. In that case we try to grab the\u001b[39;00m\n\u001b[1;32m    696\u001b[0m \u001b[38;5;66;03m# object at the top level.\u001b[39;00m\n",
      "File \u001b[0;32m~/.pyenv/versions/3.10.6/envs/detect_ai_content/lib/python3.10/site-packages/transformers/utils/import_utils.py:1766\u001b[0m, in \u001b[0;36m_LazyModule.__getattr__\u001b[0;34m(self, name)\u001b[0m\n\u001b[1;32m   1764\u001b[0m     value \u001b[38;5;241m=\u001b[39m Placeholder\n\u001b[1;32m   1765\u001b[0m \u001b[38;5;28;01melif\u001b[39;00m name \u001b[38;5;129;01min\u001b[39;00m \u001b[38;5;28mself\u001b[39m\u001b[38;5;241m.\u001b[39m_class_to_module\u001b[38;5;241m.\u001b[39mkeys():\n\u001b[0;32m-> 1766\u001b[0m     module \u001b[38;5;241m=\u001b[39m \u001b[38;5;28;43mself\u001b[39;49m\u001b[38;5;241;43m.\u001b[39;49m\u001b[43m_get_module\u001b[49m\u001b[43m(\u001b[49m\u001b[38;5;28;43mself\u001b[39;49m\u001b[38;5;241;43m.\u001b[39;49m\u001b[43m_class_to_module\u001b[49m\u001b[43m[\u001b[49m\u001b[43mname\u001b[49m\u001b[43m]\u001b[49m\u001b[43m)\u001b[49m\n\u001b[1;32m   1767\u001b[0m     value \u001b[38;5;241m=\u001b[39m \u001b[38;5;28mgetattr\u001b[39m(module, name)\n\u001b[1;32m   1768\u001b[0m \u001b[38;5;28;01melif\u001b[39;00m name \u001b[38;5;129;01min\u001b[39;00m \u001b[38;5;28mself\u001b[39m\u001b[38;5;241m.\u001b[39m_modules:\n",
      "File \u001b[0;32m~/.pyenv/versions/3.10.6/envs/detect_ai_content/lib/python3.10/site-packages/transformers/utils/import_utils.py:1778\u001b[0m, in \u001b[0;36m_LazyModule._get_module\u001b[0;34m(self, module_name)\u001b[0m\n\u001b[1;32m   1776\u001b[0m \u001b[38;5;28;01mdef\u001b[39;00m \u001b[38;5;21m_get_module\u001b[39m(\u001b[38;5;28mself\u001b[39m, module_name: \u001b[38;5;28mstr\u001b[39m):\n\u001b[1;32m   1777\u001b[0m     \u001b[38;5;28;01mtry\u001b[39;00m:\n\u001b[0;32m-> 1778\u001b[0m         \u001b[38;5;28;01mreturn\u001b[39;00m \u001b[43mimportlib\u001b[49m\u001b[38;5;241;43m.\u001b[39;49m\u001b[43mimport_module\u001b[49m\u001b[43m(\u001b[49m\u001b[38;5;124;43m\"\u001b[39;49m\u001b[38;5;124;43m.\u001b[39;49m\u001b[38;5;124;43m\"\u001b[39;49m\u001b[43m \u001b[49m\u001b[38;5;241;43m+\u001b[39;49m\u001b[43m \u001b[49m\u001b[43mmodule_name\u001b[49m\u001b[43m,\u001b[49m\u001b[43m \u001b[49m\u001b[38;5;28;43mself\u001b[39;49m\u001b[38;5;241;43m.\u001b[39;49m\u001b[38;5;18;43m__name__\u001b[39;49m\u001b[43m)\u001b[49m\n\u001b[1;32m   1779\u001b[0m     \u001b[38;5;28;01mexcept\u001b[39;00m \u001b[38;5;167;01mException\u001b[39;00m \u001b[38;5;28;01mas\u001b[39;00m e:\n\u001b[1;32m   1780\u001b[0m         \u001b[38;5;28;01mraise\u001b[39;00m \u001b[38;5;167;01mRuntimeError\u001b[39;00m(\n\u001b[1;32m   1781\u001b[0m             \u001b[38;5;124mf\u001b[39m\u001b[38;5;124m\"\u001b[39m\u001b[38;5;124mFailed to import \u001b[39m\u001b[38;5;132;01m{\u001b[39;00m\u001b[38;5;28mself\u001b[39m\u001b[38;5;241m.\u001b[39m\u001b[38;5;18m__name__\u001b[39m\u001b[38;5;132;01m}\u001b[39;00m\u001b[38;5;124m.\u001b[39m\u001b[38;5;132;01m{\u001b[39;00mmodule_name\u001b[38;5;132;01m}\u001b[39;00m\u001b[38;5;124m because of the following error (look up to see its\u001b[39m\u001b[38;5;124m\"\u001b[39m\n\u001b[1;32m   1782\u001b[0m             \u001b[38;5;124mf\u001b[39m\u001b[38;5;124m\"\u001b[39m\u001b[38;5;124m traceback):\u001b[39m\u001b[38;5;130;01m\\n\u001b[39;00m\u001b[38;5;132;01m{\u001b[39;00me\u001b[38;5;132;01m}\u001b[39;00m\u001b[38;5;124m\"\u001b[39m\n\u001b[1;32m   1783\u001b[0m         ) \u001b[38;5;28;01mfrom\u001b[39;00m \u001b[38;5;21;01me\u001b[39;00m\n",
      "File \u001b[0;32m~/.pyenv/versions/3.10.6/lib/python3.10/importlib/__init__.py:126\u001b[0m, in \u001b[0;36mimport_module\u001b[0;34m(name, package)\u001b[0m\n\u001b[1;32m    124\u001b[0m             \u001b[38;5;28;01mbreak\u001b[39;00m\n\u001b[1;32m    125\u001b[0m         level \u001b[38;5;241m+\u001b[39m\u001b[38;5;241m=\u001b[39m \u001b[38;5;241m1\u001b[39m\n\u001b[0;32m--> 126\u001b[0m \u001b[38;5;28;01mreturn\u001b[39;00m \u001b[43m_bootstrap\u001b[49m\u001b[38;5;241;43m.\u001b[39;49m\u001b[43m_gcd_import\u001b[49m\u001b[43m(\u001b[49m\u001b[43mname\u001b[49m\u001b[43m[\u001b[49m\u001b[43mlevel\u001b[49m\u001b[43m:\u001b[49m\u001b[43m]\u001b[49m\u001b[43m,\u001b[49m\u001b[43m \u001b[49m\u001b[43mpackage\u001b[49m\u001b[43m,\u001b[49m\u001b[43m \u001b[49m\u001b[43mlevel\u001b[49m\u001b[43m)\u001b[49m\n",
      "File \u001b[0;32m~/.pyenv/versions/3.10.6/envs/detect_ai_content/lib/python3.10/site-packages/transformers/models/bert/modeling_bert.py:47\u001b[0m\n\u001b[1;32m     32\u001b[0m \u001b[38;5;28;01mfrom\u001b[39;00m \u001b[38;5;21;01m.\u001b[39;00m\u001b[38;5;21;01m.\u001b[39;00m\u001b[38;5;21;01m.\u001b[39;00m\u001b[38;5;21;01mmodeling_attn_mask_utils\u001b[39;00m \u001b[38;5;28;01mimport\u001b[39;00m (\n\u001b[1;32m     33\u001b[0m     _prepare_4d_attention_mask_for_sdpa,\n\u001b[1;32m     34\u001b[0m     _prepare_4d_causal_attention_mask_for_sdpa,\n\u001b[1;32m     35\u001b[0m )\n\u001b[1;32m     36\u001b[0m \u001b[38;5;28;01mfrom\u001b[39;00m \u001b[38;5;21;01m.\u001b[39;00m\u001b[38;5;21;01m.\u001b[39;00m\u001b[38;5;21;01m.\u001b[39;00m\u001b[38;5;21;01mmodeling_outputs\u001b[39;00m \u001b[38;5;28;01mimport\u001b[39;00m (\n\u001b[1;32m     37\u001b[0m     BaseModelOutputWithPastAndCrossAttentions,\n\u001b[1;32m     38\u001b[0m     BaseModelOutputWithPoolingAndCrossAttentions,\n\u001b[0;32m   (...)\u001b[0m\n\u001b[1;32m     45\u001b[0m     TokenClassifierOutput,\n\u001b[1;32m     46\u001b[0m )\n\u001b[0;32m---> 47\u001b[0m \u001b[38;5;28;01mfrom\u001b[39;00m \u001b[38;5;21;01m.\u001b[39;00m\u001b[38;5;21;01m.\u001b[39;00m\u001b[38;5;21;01m.\u001b[39;00m\u001b[38;5;21;01mmodeling_utils\u001b[39;00m \u001b[38;5;28;01mimport\u001b[39;00m PreTrainedModel\n\u001b[1;32m     48\u001b[0m \u001b[38;5;28;01mfrom\u001b[39;00m \u001b[38;5;21;01m.\u001b[39;00m\u001b[38;5;21;01m.\u001b[39;00m\u001b[38;5;21;01m.\u001b[39;00m\u001b[38;5;21;01mpytorch_utils\u001b[39;00m \u001b[38;5;28;01mimport\u001b[39;00m apply_chunking_to_forward, find_pruneable_heads_and_indices, prune_linear_layer\n\u001b[1;32m     49\u001b[0m \u001b[38;5;28;01mfrom\u001b[39;00m \u001b[38;5;21;01m.\u001b[39;00m\u001b[38;5;21;01m.\u001b[39;00m\u001b[38;5;21;01m.\u001b[39;00m\u001b[38;5;21;01mutils\u001b[39;00m \u001b[38;5;28;01mimport\u001b[39;00m (\n\u001b[1;32m     50\u001b[0m     ModelOutput,\n\u001b[1;32m     51\u001b[0m     add_code_sample_docstrings,\n\u001b[0;32m   (...)\u001b[0m\n\u001b[1;32m     56\u001b[0m     replace_return_docstrings,\n\u001b[1;32m     57\u001b[0m )\n",
      "File \u001b[0;32m~/.pyenv/versions/3.10.6/envs/detect_ai_content/lib/python3.10/site-packages/transformers/modeling_utils.py:48\u001b[0m\n\u001b[1;32m     46\u001b[0m \u001b[38;5;28;01mfrom\u001b[39;00m \u001b[38;5;21;01m.\u001b[39;00m\u001b[38;5;21;01mgeneration\u001b[39;00m \u001b[38;5;28;01mimport\u001b[39;00m GenerationConfig, GenerationMixin\n\u001b[1;32m     47\u001b[0m \u001b[38;5;28;01mfrom\u001b[39;00m \u001b[38;5;21;01m.\u001b[39;00m\u001b[38;5;21;01mintegrations\u001b[39;00m \u001b[38;5;28;01mimport\u001b[39;00m PeftAdapterMixin, deepspeed_config, is_deepspeed_zero3_enabled\n\u001b[0;32m---> 48\u001b[0m \u001b[38;5;28;01mfrom\u001b[39;00m \u001b[38;5;21;01m.\u001b[39;00m\u001b[38;5;21;01mloss\u001b[39;00m\u001b[38;5;21;01m.\u001b[39;00m\u001b[38;5;21;01mloss_utils\u001b[39;00m \u001b[38;5;28;01mimport\u001b[39;00m LOSS_MAPPING\n\u001b[1;32m     49\u001b[0m \u001b[38;5;28;01mfrom\u001b[39;00m \u001b[38;5;21;01m.\u001b[39;00m\u001b[38;5;21;01mpytorch_utils\u001b[39;00m \u001b[38;5;28;01mimport\u001b[39;00m (  \u001b[38;5;66;03m# noqa: F401\u001b[39;00m\n\u001b[1;32m     50\u001b[0m     Conv1D,\n\u001b[1;32m     51\u001b[0m     apply_chunking_to_forward,\n\u001b[0;32m   (...)\u001b[0m\n\u001b[1;32m     57\u001b[0m     prune_linear_layer,\n\u001b[1;32m     58\u001b[0m )\n\u001b[1;32m     59\u001b[0m \u001b[38;5;28;01mfrom\u001b[39;00m \u001b[38;5;21;01m.\u001b[39;00m\u001b[38;5;21;01mquantizers\u001b[39;00m \u001b[38;5;28;01mimport\u001b[39;00m AutoHfQuantizer, HfQuantizer\n",
      "File \u001b[0;32m~/.pyenv/versions/3.10.6/envs/detect_ai_content/lib/python3.10/site-packages/transformers/loss/loss_utils.py:19\u001b[0m\n\u001b[1;32m     16\u001b[0m \u001b[38;5;28;01mimport\u001b[39;00m \u001b[38;5;21;01mtorch\u001b[39;00m\u001b[38;5;21;01m.\u001b[39;00m\u001b[38;5;21;01mnn\u001b[39;00m \u001b[38;5;28;01mas\u001b[39;00m \u001b[38;5;21;01mnn\u001b[39;00m\n\u001b[1;32m     17\u001b[0m \u001b[38;5;28;01mfrom\u001b[39;00m \u001b[38;5;21;01mtorch\u001b[39;00m\u001b[38;5;21;01m.\u001b[39;00m\u001b[38;5;21;01mnn\u001b[39;00m \u001b[38;5;28;01mimport\u001b[39;00m BCEWithLogitsLoss, MSELoss\n\u001b[0;32m---> 19\u001b[0m \u001b[38;5;28;01mfrom\u001b[39;00m \u001b[38;5;21;01m.\u001b[39;00m\u001b[38;5;21;01mloss_deformable_detr\u001b[39;00m \u001b[38;5;28;01mimport\u001b[39;00m DeformableDetrForObjectDetectionLoss, DeformableDetrForSegmentationLoss\n\u001b[1;32m     20\u001b[0m \u001b[38;5;28;01mfrom\u001b[39;00m \u001b[38;5;21;01m.\u001b[39;00m\u001b[38;5;21;01mloss_for_object_detection\u001b[39;00m \u001b[38;5;28;01mimport\u001b[39;00m ForObjectDetectionLoss, ForSegmentationLoss\n\u001b[1;32m     21\u001b[0m \u001b[38;5;28;01mfrom\u001b[39;00m \u001b[38;5;21;01m.\u001b[39;00m\u001b[38;5;21;01mloss_rt_detr\u001b[39;00m \u001b[38;5;28;01mimport\u001b[39;00m RTDetrForObjectDetectionLoss\n",
      "File \u001b[0;32m~/.pyenv/versions/3.10.6/envs/detect_ai_content/lib/python3.10/site-packages/transformers/loss/loss_deformable_detr.py:4\u001b[0m\n\u001b[1;32m      1\u001b[0m \u001b[38;5;28;01mimport\u001b[39;00m \u001b[38;5;21;01mtorch\u001b[39;00m\n\u001b[1;32m      2\u001b[0m \u001b[38;5;28;01mimport\u001b[39;00m \u001b[38;5;21;01mtorch\u001b[39;00m\u001b[38;5;21;01m.\u001b[39;00m\u001b[38;5;21;01mnn\u001b[39;00m \u001b[38;5;28;01mas\u001b[39;00m \u001b[38;5;21;01mnn\u001b[39;00m\n\u001b[0;32m----> 4\u001b[0m \u001b[38;5;28;01mfrom\u001b[39;00m \u001b[38;5;21;01m.\u001b[39;00m\u001b[38;5;21;01m.\u001b[39;00m\u001b[38;5;21;01mimage_transforms\u001b[39;00m \u001b[38;5;28;01mimport\u001b[39;00m center_to_corners_format\n\u001b[1;32m      5\u001b[0m \u001b[38;5;28;01mfrom\u001b[39;00m \u001b[38;5;21;01m.\u001b[39;00m\u001b[38;5;21;01m.\u001b[39;00m\u001b[38;5;21;01mutils\u001b[39;00m \u001b[38;5;28;01mimport\u001b[39;00m is_scipy_available\n\u001b[1;32m      6\u001b[0m \u001b[38;5;28;01mfrom\u001b[39;00m \u001b[38;5;21;01m.\u001b[39;00m\u001b[38;5;21;01mloss_for_object_detection\u001b[39;00m \u001b[38;5;28;01mimport\u001b[39;00m (\n\u001b[1;32m      7\u001b[0m     HungarianMatcher,\n\u001b[1;32m      8\u001b[0m     ImageLoss,\n\u001b[0;32m   (...)\u001b[0m\n\u001b[1;32m     11\u001b[0m     sigmoid_focal_loss,\n\u001b[1;32m     12\u001b[0m )\n",
      "File \u001b[0;32m~/.pyenv/versions/3.10.6/envs/detect_ai_content/lib/python3.10/site-packages/transformers/image_transforms.py:50\u001b[0m\n\u001b[1;32m     47\u001b[0m     \u001b[38;5;28;01mimport\u001b[39;00m \u001b[38;5;21;01mtorch\u001b[39;00m\n\u001b[1;32m     49\u001b[0m \u001b[38;5;28;01mif\u001b[39;00m is_tf_available():\n\u001b[0;32m---> 50\u001b[0m     \u001b[38;5;28;01mimport\u001b[39;00m \u001b[38;5;21;01mtensorflow\u001b[39;00m \u001b[38;5;28;01mas\u001b[39;00m \u001b[38;5;21;01mtf\u001b[39;00m\n\u001b[1;32m     52\u001b[0m \u001b[38;5;28;01mif\u001b[39;00m is_flax_available():\n\u001b[1;32m     53\u001b[0m     \u001b[38;5;28;01mimport\u001b[39;00m \u001b[38;5;21;01mjax\u001b[39;00m\u001b[38;5;21;01m.\u001b[39;00m\u001b[38;5;21;01mnumpy\u001b[39;00m \u001b[38;5;28;01mas\u001b[39;00m \u001b[38;5;21;01mjnp\u001b[39;00m\n",
      "File \u001b[0;32m~/.pyenv/versions/3.10.6/envs/detect_ai_content/lib/python3.10/site-packages/tensorflow/__init__.py:40\u001b[0m\n\u001b[1;32m     37\u001b[0m _os\u001b[38;5;241m.\u001b[39menviron\u001b[38;5;241m.\u001b[39msetdefault(\u001b[38;5;124m\"\u001b[39m\u001b[38;5;124mENABLE_RUNTIME_UPTIME_TELEMETRY\u001b[39m\u001b[38;5;124m\"\u001b[39m, \u001b[38;5;124m\"\u001b[39m\u001b[38;5;124m1\u001b[39m\u001b[38;5;124m\"\u001b[39m)\n\u001b[1;32m     39\u001b[0m \u001b[38;5;66;03m# Do not remove this line; See https://github.com/tensorflow/tensorflow/issues/42596\u001b[39;00m\n\u001b[0;32m---> 40\u001b[0m \u001b[38;5;28;01mfrom\u001b[39;00m \u001b[38;5;21;01mtensorflow\u001b[39;00m\u001b[38;5;21;01m.\u001b[39;00m\u001b[38;5;21;01mpython\u001b[39;00m \u001b[38;5;28;01mimport\u001b[39;00m pywrap_tensorflow \u001b[38;5;28;01mas\u001b[39;00m _pywrap_tensorflow  \u001b[38;5;66;03m# pylint: disable=unused-import\u001b[39;00m\n\u001b[1;32m     41\u001b[0m \u001b[38;5;28;01mfrom\u001b[39;00m \u001b[38;5;21;01mtensorflow\u001b[39;00m\u001b[38;5;21;01m.\u001b[39;00m\u001b[38;5;21;01mpython\u001b[39;00m\u001b[38;5;21;01m.\u001b[39;00m\u001b[38;5;21;01mtools\u001b[39;00m \u001b[38;5;28;01mimport\u001b[39;00m module_util \u001b[38;5;28;01mas\u001b[39;00m _module_util\n\u001b[1;32m     42\u001b[0m \u001b[38;5;28;01mfrom\u001b[39;00m \u001b[38;5;21;01mtensorflow\u001b[39;00m\u001b[38;5;21;01m.\u001b[39;00m\u001b[38;5;21;01mpython\u001b[39;00m\u001b[38;5;21;01m.\u001b[39;00m\u001b[38;5;21;01mutil\u001b[39;00m\u001b[38;5;21;01m.\u001b[39;00m\u001b[38;5;21;01mlazy_loader\u001b[39;00m \u001b[38;5;28;01mimport\u001b[39;00m KerasLazyLoader \u001b[38;5;28;01mas\u001b[39;00m _KerasLazyLoader\n",
      "File \u001b[0;32m~/.pyenv/versions/3.10.6/envs/detect_ai_content/lib/python3.10/site-packages/tensorflow/python/pywrap_tensorflow.py:34\u001b[0m\n\u001b[1;32m     29\u001b[0m \u001b[38;5;28;01mfrom\u001b[39;00m \u001b[38;5;21;01mtensorflow\u001b[39;00m\u001b[38;5;21;01m.\u001b[39;00m\u001b[38;5;21;01mpython\u001b[39;00m\u001b[38;5;21;01m.\u001b[39;00m\u001b[38;5;21;01mplatform\u001b[39;00m \u001b[38;5;28;01mimport\u001b[39;00m self_check\n\u001b[1;32m     31\u001b[0m \u001b[38;5;66;03m# TODO(mdan): Cleanup antipattern: import for side effects.\u001b[39;00m\n\u001b[1;32m     32\u001b[0m \n\u001b[1;32m     33\u001b[0m \u001b[38;5;66;03m# Perform pre-load sanity checks in order to produce a more actionable error.\u001b[39;00m\n\u001b[0;32m---> 34\u001b[0m \u001b[43mself_check\u001b[49m\u001b[38;5;241;43m.\u001b[39;49m\u001b[43mpreload_check\u001b[49m\u001b[43m(\u001b[49m\u001b[43m)\u001b[49m\n\u001b[1;32m     36\u001b[0m \u001b[38;5;66;03m# pylint: disable=wildcard-import,g-import-not-at-top,unused-import,line-too-long\u001b[39;00m\n\u001b[1;32m     38\u001b[0m \u001b[38;5;28;01mtry\u001b[39;00m:\n\u001b[1;32m     39\u001b[0m   \u001b[38;5;66;03m# This import is expected to fail if there is an explicit shared object\u001b[39;00m\n\u001b[1;32m     40\u001b[0m   \u001b[38;5;66;03m# dependency (with_framework_lib=true), since we do not need RTLD_GLOBAL.\u001b[39;00m\n",
      "File \u001b[0;32m~/.pyenv/versions/3.10.6/envs/detect_ai_content/lib/python3.10/site-packages/tensorflow/python/platform/self_check.py:63\u001b[0m, in \u001b[0;36mpreload_check\u001b[0;34m()\u001b[0m\n\u001b[1;32m     50\u001b[0m       \u001b[38;5;28;01mraise\u001b[39;00m \u001b[38;5;167;01mImportError\u001b[39;00m(\n\u001b[1;32m     51\u001b[0m           \u001b[38;5;124m\"\u001b[39m\u001b[38;5;124mCould not find the DLL(s) \u001b[39m\u001b[38;5;132;01m%r\u001b[39;00m\u001b[38;5;124m. TensorFlow requires that these DLLs \u001b[39m\u001b[38;5;124m\"\u001b[39m\n\u001b[1;32m     52\u001b[0m           \u001b[38;5;124m\"\u001b[39m\u001b[38;5;124mbe installed in a directory that is named in your \u001b[39m\u001b[38;5;132;01m%%\u001b[39;00m\u001b[38;5;124mPATH\u001b[39m\u001b[38;5;132;01m%%\u001b[39;00m\u001b[38;5;124m \u001b[39m\u001b[38;5;124m\"\u001b[39m\n\u001b[0;32m   (...)\u001b[0m\n\u001b[1;32m     56\u001b[0m           \u001b[38;5;124m\"\u001b[39m\u001b[38;5;124mhttps://support.microsoft.com/help/2977003/the-latest-supported-visual-c-downloads\u001b[39m\u001b[38;5;124m\"\u001b[39m\n\u001b[1;32m     57\u001b[0m           \u001b[38;5;241m%\u001b[39m \u001b[38;5;124m\"\u001b[39m\u001b[38;5;124m or \u001b[39m\u001b[38;5;124m\"\u001b[39m\u001b[38;5;241m.\u001b[39mjoin(missing))\n\u001b[1;32m     58\u001b[0m \u001b[38;5;28;01melse\u001b[39;00m:\n\u001b[1;32m     59\u001b[0m   \u001b[38;5;66;03m# Load a library that performs CPU feature guard checking.  Doing this here\u001b[39;00m\n\u001b[1;32m     60\u001b[0m   \u001b[38;5;66;03m# as a preload check makes it more likely that we detect any CPU feature\u001b[39;00m\n\u001b[1;32m     61\u001b[0m   \u001b[38;5;66;03m# incompatibilities before we trigger them (which would typically result in\u001b[39;00m\n\u001b[1;32m     62\u001b[0m   \u001b[38;5;66;03m# SIGILL).\u001b[39;00m\n\u001b[0;32m---> 63\u001b[0m   \u001b[38;5;28;01mfrom\u001b[39;00m \u001b[38;5;21;01mtensorflow\u001b[39;00m\u001b[38;5;21;01m.\u001b[39;00m\u001b[38;5;21;01mpython\u001b[39;00m\u001b[38;5;21;01m.\u001b[39;00m\u001b[38;5;21;01mplatform\u001b[39;00m \u001b[38;5;28;01mimport\u001b[39;00m _pywrap_cpu_feature_guard\n\u001b[1;32m     64\u001b[0m   _pywrap_cpu_feature_guard\u001b[38;5;241m.\u001b[39mInfoAboutUnusedCPUFeatures()\n",
      "\u001b[0;31mKeyboardInterrupt\u001b[0m: "
     ]
    }
   ],
   "source": [
    "from detect_ai_content.ml_logic.for_texts.using_ml_features.using_sentences_decomposition import *\n",
    "\n",
    "df_preprocessed = preprocess(data=df, execute_enrich=False)\n",
    "df_preprocessed.shape"
   ]
  },
  {
   "cell_type": "code",
   "execution_count": 34,
   "metadata": {},
   "outputs": [
    {
     "data": {
      "text/plain": [
       "array([[-0.5       ,  0.        ,  0.95230769,  0.        , -0.97333333],\n",
       "       [-0.5       , -0.08      , -0.39769231,  1.        , -0.21333333],\n",
       "       [-0.5       ,  0.        , -0.39769231,  2.        ,  0.24      ],\n",
       "       ...,\n",
       "       [ 0.        , -0.1       , -0.39769231,  0.        , -0.53333333],\n",
       "       [ 1.5       ,  0.        ,  0.64412587,  0.        ,  0.57333333],\n",
       "       [-0.5       ,  0.        ,  1.40230769,  1.        , -0.69333333]])"
      ]
     },
     "execution_count": 34,
     "metadata": {},
     "output_type": "execute_result"
    }
   ],
   "source": [
    "df_preprocessed"
   ]
  },
  {
   "cell_type": "code",
   "execution_count": 35,
   "metadata": {},
   "outputs": [],
   "source": [
    "model = train_LogisticRegression_model(X_train_processed=df_preprocessed, y_train=df['generated'])\n",
    "\n",
    "# model_path = '../../detect_ai_content/models/leverdewagon/sequences_logit.pickle'\n",
    "# pickle.dump(model, open(model_path, 'wb'))"
   ]
  },
  {
   "cell_type": "code",
   "execution_count": 36,
   "metadata": {},
   "outputs": [
    {
     "name": "stdout",
     "output_type": "stream",
     "text": [
      "START:The youngers student needs the olders student like the olders student need a adult to they can say dont do this is the same the younger.:END\n",
      "START:student need the olders student they can help each others.:END\n",
      "START:If the youngers studetn have a promble or a question they can ask the olders student.:END\n",
      "START:To do right this some student of the youngers schools they dont know english the olders studen.:END\n",
      "START:Can help them some times the olders student needs the youngerts students to do somenthing like if the olders sstudent dont know somenthing they can.:END\n",
      "_number_of_corrections_using_Spacy: The youngers student needs the olders student like the olders student need a adult to they can say dont do this is the same the younger.\n",
      "_number_of_corrections_using_Spacy: student need the olders student they can help each others.\n",
      "_number_of_corrections_using_Spacy: If the youngers studetn have a promble or a question they can ask the olders student.\n",
      "_number_of_corrections_using_Spacy: To do right this some student of the youngers schools they dont know english the olders studen.\n",
      "_number_of_corrections_using_Spacy: Can help them some times the olders student needs the youngerts students to do somenthing like if the olders sstudent dont know somenthing they can.\n"
     ]
    }
   ],
   "source": [
    "text = \"The youngers student needs the olders student like the olders student need a adult to they can say dont do this is the same the younger. student need the olders student they can help each others. If the youngers studetn have a promble or a question they can ask the olders student. To do right this some student of the youngers schools they dont know english the olders studen. Can help them some times the olders student needs the youngerts students to do somenthing like if the olders sstudent dont know somenthing they can.\"\n",
    "sentences_df = to_sentences(pd.DataFrame(data={'text':[text]}), include_generated=False)\n",
    "sentences_preprocessed_df = preprocess(sentences_df)\n",
    "preds = model.predict(X=sentences_preprocessed_df)"
   ]
  },
  {
   "cell_type": "code",
   "execution_count": 37,
   "metadata": {},
   "outputs": [
    {
     "data": {
      "text/plain": [
       "array([0, 0, 0, 0, 0])"
      ]
     },
     "execution_count": 37,
     "metadata": {},
     "output_type": "execute_result"
    }
   ],
   "source": [
    "preds"
   ]
  },
  {
   "cell_type": "code",
   "execution_count": 251,
   "metadata": {},
   "outputs": [
    {
     "data": {
      "text/plain": [
       "generated\n",
       "1.0    25625\n",
       "0.0    16095\n",
       "Name: count, dtype: int64"
      ]
     },
     "execution_count": 251,
     "metadata": {},
     "output_type": "execute_result"
    }
   ],
   "source": [
    "AI_Human_enriched_df = pd.read_csv('../../raw_data/kaggle-ai-generated-vs-human-text/AI_Human_enriched.csv')\n",
    "AI_Human_enriched_df.generated.value_counts()"
   ]
  },
  {
   "cell_type": "code",
   "execution_count": 252,
   "metadata": {},
   "outputs": [
    {
     "data": {
      "text/plain": [
       "Index(['Unnamed: 0', 'text', 'generated', 'punctuations_nb',\n",
       "       'neg_sentiment_polarity', 'pos_sentiment_polarity',\n",
       "       'text_corrections_nb', 'text_repetitions_nb', 'number_of_sentences',\n",
       "       'text_lenght'],\n",
       "      dtype='object')"
      ]
     },
     "execution_count": 252,
     "metadata": {},
     "output_type": "execute_result"
    }
   ],
   "source": [
    "AI_Human_enriched_df.columns"
   ]
  },
  {
   "cell_type": "code",
   "execution_count": 253,
   "metadata": {},
   "outputs": [],
   "source": [
    "AI_Human_enriched_df['repetitions_ratio'] = AI_Human_enriched_df['text_repetitions_nb']/AI_Human_enriched_df['text_lenght']\n",
    "AI_Human_enriched_df['punctuations_ratio'] = AI_Human_enriched_df['punctuations_nb']/AI_Human_enriched_df['text_lenght']\n",
    "AI_Human_enriched_df['text_corrections_ratio'] = AI_Human_enriched_df['text_corrections_nb']/AI_Human_enriched_df['text_lenght']\n",
    "AI_Human_enriched_df['text_corrections_set_ratio'] = AI_Human_enriched_df['text_corrections_nb']/AI_Human_enriched_df['number_of_sentences']\n",
    "AI_Human_enriched_df['average_sentence_lenght'] = AI_Human_enriched_df['text_lenght']/AI_Human_enriched_df['number_of_sentences']\n",
    "AI_Human_enriched_df['average_neg_sentiment_polarity'] = AI_Human_enriched_df['neg_sentiment_polarity']/AI_Human_enriched_df['text_lenght']"
   ]
  },
  {
   "cell_type": "code",
   "execution_count": 254,
   "metadata": {},
   "outputs": [
    {
     "data": {
      "text/plain": [
       "<Axes: xlabel='generated', ylabel='average_neg_sentiment_polarity'>"
      ]
     },
     "execution_count": 254,
     "metadata": {},
     "output_type": "execute_result"
    },
    {
     "data": {
      "image/png": "[encoded data removed]",
      "text/plain": [
       "<Figure size 640x480 with 1 Axes>"
      ]
     },
     "metadata": {},
     "output_type": "display_data"
    }
   ],
   "source": [
    "sns.barplot(data=AI_Human_enriched_df, x=\"generated\", y=\"average_neg_sentiment_polarity\")"
   ]
  },
  {
   "cell_type": "code",
   "execution_count": 255,
   "metadata": {},
   "outputs": [
    {
     "data": {
      "text/plain": [
       "np.float64(0.053504115447872404)"
      ]
     },
     "execution_count": 255,
     "metadata": {},
     "output_type": "execute_result"
    }
   ],
   "source": [
    "daigt_v2_enriched_df = pd.read_csv('../../raw_data/daigt-v2-train-dataset/train_v2_drcat_02_enriched.csv')\n",
    "daigt_v2_enriched_df['repetitions_ratio'] = daigt_v2_enriched_df['text_repetitions_nb']/daigt_v2_enriched_df['text_lenght']\n",
    "daigt_v2_enriched_df['punctuations_ratio'] = daigt_v2_enriched_df['punctuations_nb']/daigt_v2_enriched_df['text_lenght']\n",
    "daigt_v2_enriched_df['text_corrections_ratio'] = daigt_v2_enriched_df['text_corrections_nb']/daigt_v2_enriched_df['text_lenght']\n",
    "daigt_v2_enriched_df['text_corrections_set_ratio'] = daigt_v2_enriched_df['text_corrections_nb']/daigt_v2_enriched_df['number_of_sentences']\n",
    "daigt_v2_enriched_df['average_neg_sentiment_polarity'] = daigt_v2_enriched_df['neg_sentiment_polarity']/daigt_v2_enriched_df['text_lenght']\n",
    "daigt_v2_enriched_df['repetitions_ratio'].mean()"
   ]
  },
  {
   "cell_type": "code",
   "execution_count": 270,
   "metadata": {},
   "outputs": [],
   "source": [
    "# big_df = pd.concat(objs=[df, daigt_v2_enriched_df, AI_Human_enriched_df])\n",
    "big_df = pd.concat(objs=[df, AI_Human_enriched_df, daigt_v2_enriched_df])"
   ]
  },
  {
   "cell_type": "code",
   "execution_count": 160,
   "metadata": {},
   "outputs": [
    {
     "data": {
      "text/plain": [
       "generated\n",
       "1.0    91065\n",
       "0.0    49225\n",
       "Name: count, dtype: int64"
      ]
     },
     "execution_count": 160,
     "metadata": {},
     "output_type": "execute_result"
    }
   ],
   "source": [
    "big_df.generated.value_counts()"
   ]
  },
  {
   "cell_type": "code",
   "execution_count": 147,
   "metadata": {},
   "outputs": [],
   "source": [
    "from sklearn.pipeline import make_pipeline\n",
    "from sklearn.feature_extraction.text import TfidfVectorizer\n",
    "from sklearn.naive_bayes import MultinomialNB\n",
    "from sklearn.metrics import accuracy_score, f1_score, precision_score, recall_score\n",
    "from sklearn.model_selection import train_test_split, cross_validate\n",
    "from sklearn.metrics import classification_report\n"
   ]
  },
  {
   "cell_type": "code",
   "execution_count": 257,
   "metadata": {},
   "outputs": [
    {
     "name": "stdout",
     "output_type": "stream",
     "text": [
      "0.7992027538183043\n"
     ]
    }
   ],
   "source": [
    "pipeline_naive_bayes = make_pipeline(\n",
    "    TfidfVectorizer(),\n",
    "    MultinomialNB()\n",
    ")\n",
    "\n",
    "X = big_df['text']\n",
    "y = big_df['generated']\n",
    "\n",
    "X_train, X_test, y_train, y_test = train_test_split(X, y, test_size=0.2)\n",
    "\n",
    "results = cross_validate(estimator=pipeline_naive_bayes, X=X, y=y, cv=5)\n",
    "print(results['test_score'].mean())\n",
    "\n",
    "# print(classification_report(y_test,y_pred))"
   ]
  },
  {
   "cell_type": "code",
   "execution_count": 273,
   "metadata": {},
   "outputs": [
    {
     "name": "stdout",
     "output_type": "stream",
     "text": [
      "(139048, 5)\n",
      "0.7354422486083572\n"
     ]
    }
   ],
   "source": [
    "from sklearn.linear_model import LogisticRegression\n",
    "from sklearn.preprocessing import RobustScaler\n",
    "\n",
    "pipeline_linear_regression = make_pipeline(\n",
    "    RobustScaler(),\n",
    "    LogisticRegression()\n",
    ")\n",
    "\n",
    "big_df['repetitions_ratio'] = big_df['text_repetitions_nb']/big_df['text_lenght']\n",
    "big_df['punctuations_ratio'] = big_df['punctuations_nb']/big_df['text_lenght']\n",
    "big_df['text_corrections_ratio'] = big_df['text_corrections_nb']/big_df['text_lenght']\n",
    "big_df['average_sentence_lenght'] = big_df['text_lenght']/big_df['number_of_sentences']\n",
    "big_df['average_neg_sentiment_polarity'] = big_df['neg_sentiment_polarity']/big_df['text_lenght']\n",
    "\n",
    "X = big_df[[\n",
    "    'repetitions_ratio',\n",
    "    'punctuations_ratio',\n",
    "    'text_corrections_ratio',\n",
    "    'average_sentence_lenght',\n",
    "    'average_neg_sentiment_polarity',\n",
    "]]\n",
    "print(X.shape)\n",
    "y = big_df['generated']\n",
    "\n",
    "X_train, X_test, y_train, y_test = train_test_split(X, y, test_size=0.2)\n",
    "\n",
    "results = cross_validate(estimator=pipeline_linear_regression, X=X, y=y, cv=5)\n",
    "print(results['test_score'].mean())"
   ]
  },
  {
   "cell_type": "code",
   "execution_count": 259,
   "metadata": {},
   "outputs": [
    {
     "data": {
      "text/html": [
       "<div>\n",
       "<style scoped>\n",
       "    .dataframe tbody tr th:only-of-type {\n",
       "        vertical-align: middle;\n",
       "    }\n",
       "\n",
       "    .dataframe tbody tr th {\n",
       "        vertical-align: top;\n",
       "    }\n",
       "\n",
       "    .dataframe thead th {\n",
       "        text-align: right;\n",
       "    }\n",
       "</style>\n",
       "<table border=\"1\" class=\"dataframe\">\n",
       "  <thead>\n",
       "    <tr style=\"text-align: right;\">\n",
       "      <th></th>\n",
       "      <th>generated</th>\n",
       "      <th>punctuations_nb</th>\n",
       "      <th>neg_sentiment_polarity</th>\n",
       "      <th>pos_sentiment_polarity</th>\n",
       "      <th>text_corrections_nb</th>\n",
       "      <th>text_repetitions_nb</th>\n",
       "      <th>number_of_sentences</th>\n",
       "      <th>text_lenght</th>\n",
       "      <th>repetitions_ratio</th>\n",
       "      <th>punctuations_ratio</th>\n",
       "      <th>text_corrections_ratio</th>\n",
       "      <th>text_corrections_set_ratio</th>\n",
       "      <th>average_neg_sentiment_polarity</th>\n",
       "      <th>average_sentence_lenght</th>\n",
       "    </tr>\n",
       "  </thead>\n",
       "  <tbody>\n",
       "    <tr>\n",
       "      <th>generated</th>\n",
       "      <td>1.000000</td>\n",
       "      <td>-0.088503</td>\n",
       "      <td>0.188044</td>\n",
       "      <td>-0.205674</td>\n",
       "      <td>-0.247763</td>\n",
       "      <td>-0.341117</td>\n",
       "      <td>-0.173756</td>\n",
       "      <td>-0.230693</td>\n",
       "      <td>-0.423831</td>\n",
       "      <td>0.128489</td>\n",
       "      <td>-0.215961</td>\n",
       "      <td>-0.204748</td>\n",
       "      <td>0.125051</td>\n",
       "      <td>-0.118654</td>\n",
       "    </tr>\n",
       "    <tr>\n",
       "      <th>punctuations_nb</th>\n",
       "      <td>-0.088503</td>\n",
       "      <td>1.000000</td>\n",
       "      <td>-0.405242</td>\n",
       "      <td>0.534757</td>\n",
       "      <td>0.521038</td>\n",
       "      <td>0.728464</td>\n",
       "      <td>0.812903</td>\n",
       "      <td>0.777696</td>\n",
       "      <td>0.398635</td>\n",
       "      <td>0.544887</td>\n",
       "      <td>0.201195</td>\n",
       "      <td>0.008654</td>\n",
       "      <td>-0.131355</td>\n",
       "      <td>-0.150357</td>\n",
       "    </tr>\n",
       "    <tr>\n",
       "      <th>neg_sentiment_polarity</th>\n",
       "      <td>0.188044</td>\n",
       "      <td>-0.405242</td>\n",
       "      <td>1.000000</td>\n",
       "      <td>-0.217903</td>\n",
       "      <td>-0.271814</td>\n",
       "      <td>-0.403803</td>\n",
       "      <td>-0.545572</td>\n",
       "      <td>-0.372813</td>\n",
       "      <td>-0.309147</td>\n",
       "      <td>-0.171821</td>\n",
       "      <td>-0.136490</td>\n",
       "      <td>0.036388</td>\n",
       "      <td>0.857965</td>\n",
       "      <td>0.189010</td>\n",
       "    </tr>\n",
       "    <tr>\n",
       "      <th>pos_sentiment_polarity</th>\n",
       "      <td>-0.205674</td>\n",
       "      <td>0.534757</td>\n",
       "      <td>-0.217903</td>\n",
       "      <td>1.000000</td>\n",
       "      <td>0.244505</td>\n",
       "      <td>0.621327</td>\n",
       "      <td>0.715968</td>\n",
       "      <td>0.581323</td>\n",
       "      <td>0.446096</td>\n",
       "      <td>0.134036</td>\n",
       "      <td>0.015978</td>\n",
       "      <td>-0.118340</td>\n",
       "      <td>-0.005858</td>\n",
       "      <td>-0.233024</td>\n",
       "    </tr>\n",
       "    <tr>\n",
       "      <th>text_corrections_nb</th>\n",
       "      <td>-0.247763</td>\n",
       "      <td>0.521038</td>\n",
       "      <td>-0.271814</td>\n",
       "      <td>0.244505</td>\n",
       "      <td>1.000000</td>\n",
       "      <td>0.454690</td>\n",
       "      <td>0.411738</td>\n",
       "      <td>0.471582</td>\n",
       "      <td>0.280088</td>\n",
       "      <td>0.225090</td>\n",
       "      <td>0.814804</td>\n",
       "      <td>0.526937</td>\n",
       "      <td>-0.116500</td>\n",
       "      <td>0.063099</td>\n",
       "    </tr>\n",
       "    <tr>\n",
       "      <th>text_repetitions_nb</th>\n",
       "      <td>-0.341117</td>\n",
       "      <td>0.728464</td>\n",
       "      <td>-0.403803</td>\n",
       "      <td>0.621327</td>\n",
       "      <td>0.454690</td>\n",
       "      <td>1.000000</td>\n",
       "      <td>0.774497</td>\n",
       "      <td>0.911819</td>\n",
       "      <td>0.719688</td>\n",
       "      <td>0.052412</td>\n",
       "      <td>0.082980</td>\n",
       "      <td>0.074302</td>\n",
       "      <td>-0.091358</td>\n",
       "      <td>0.025737</td>\n",
       "    </tr>\n",
       "    <tr>\n",
       "      <th>number_of_sentences</th>\n",
       "      <td>-0.173756</td>\n",
       "      <td>0.812903</td>\n",
       "      <td>-0.545572</td>\n",
       "      <td>0.715968</td>\n",
       "      <td>0.411738</td>\n",
       "      <td>0.774497</td>\n",
       "      <td>1.000000</td>\n",
       "      <td>0.775252</td>\n",
       "      <td>0.503574</td>\n",
       "      <td>0.296628</td>\n",
       "      <td>0.107349</td>\n",
       "      <td>-0.128366</td>\n",
       "      <td>-0.260179</td>\n",
       "      <td>-0.323884</td>\n",
       "    </tr>\n",
       "    <tr>\n",
       "      <th>text_lenght</th>\n",
       "      <td>-0.230693</td>\n",
       "      <td>0.777696</td>\n",
       "      <td>-0.372813</td>\n",
       "      <td>0.581323</td>\n",
       "      <td>0.471582</td>\n",
       "      <td>0.911819</td>\n",
       "      <td>0.775252</td>\n",
       "      <td>1.000000</td>\n",
       "      <td>0.438700</td>\n",
       "      <td>0.022393</td>\n",
       "      <td>0.052447</td>\n",
       "      <td>0.073616</td>\n",
       "      <td>-0.031658</td>\n",
       "      <td>0.079297</td>\n",
       "    </tr>\n",
       "    <tr>\n",
       "      <th>repetitions_ratio</th>\n",
       "      <td>-0.423831</td>\n",
       "      <td>0.398635</td>\n",
       "      <td>-0.309147</td>\n",
       "      <td>0.446096</td>\n",
       "      <td>0.280088</td>\n",
       "      <td>0.719688</td>\n",
       "      <td>0.503574</td>\n",
       "      <td>0.438700</td>\n",
       "      <td>1.000000</td>\n",
       "      <td>0.107060</td>\n",
       "      <td>0.157606</td>\n",
       "      <td>0.071756</td>\n",
       "      <td>-0.190250</td>\n",
       "      <td>-0.065630</td>\n",
       "    </tr>\n",
       "    <tr>\n",
       "      <th>punctuations_ratio</th>\n",
       "      <td>0.128489</td>\n",
       "      <td>0.544887</td>\n",
       "      <td>-0.171821</td>\n",
       "      <td>0.134036</td>\n",
       "      <td>0.225090</td>\n",
       "      <td>0.052412</td>\n",
       "      <td>0.296628</td>\n",
       "      <td>0.022393</td>\n",
       "      <td>0.107060</td>\n",
       "      <td>1.000000</td>\n",
       "      <td>0.270104</td>\n",
       "      <td>-0.051620</td>\n",
       "      <td>-0.183252</td>\n",
       "      <td>-0.288985</td>\n",
       "    </tr>\n",
       "    <tr>\n",
       "      <th>text_corrections_ratio</th>\n",
       "      <td>-0.215961</td>\n",
       "      <td>0.201195</td>\n",
       "      <td>-0.136490</td>\n",
       "      <td>0.015978</td>\n",
       "      <td>0.814804</td>\n",
       "      <td>0.082980</td>\n",
       "      <td>0.107349</td>\n",
       "      <td>0.052447</td>\n",
       "      <td>0.157606</td>\n",
       "      <td>0.270104</td>\n",
       "      <td>1.000000</td>\n",
       "      <td>0.596788</td>\n",
       "      <td>-0.150852</td>\n",
       "      <td>0.020554</td>\n",
       "    </tr>\n",
       "    <tr>\n",
       "      <th>text_corrections_set_ratio</th>\n",
       "      <td>-0.204748</td>\n",
       "      <td>0.008654</td>\n",
       "      <td>0.036388</td>\n",
       "      <td>-0.118340</td>\n",
       "      <td>0.526937</td>\n",
       "      <td>0.074302</td>\n",
       "      <td>-0.128366</td>\n",
       "      <td>0.073616</td>\n",
       "      <td>0.071756</td>\n",
       "      <td>-0.051620</td>\n",
       "      <td>0.596788</td>\n",
       "      <td>1.000000</td>\n",
       "      <td>0.043334</td>\n",
       "      <td>0.651843</td>\n",
       "    </tr>\n",
       "    <tr>\n",
       "      <th>average_neg_sentiment_polarity</th>\n",
       "      <td>0.125051</td>\n",
       "      <td>-0.131355</td>\n",
       "      <td>0.857965</td>\n",
       "      <td>-0.005858</td>\n",
       "      <td>-0.116500</td>\n",
       "      <td>-0.091358</td>\n",
       "      <td>-0.260179</td>\n",
       "      <td>-0.031658</td>\n",
       "      <td>-0.190250</td>\n",
       "      <td>-0.183252</td>\n",
       "      <td>-0.150852</td>\n",
       "      <td>0.043334</td>\n",
       "      <td>1.000000</td>\n",
       "      <td>0.208828</td>\n",
       "    </tr>\n",
       "    <tr>\n",
       "      <th>average_sentence_lenght</th>\n",
       "      <td>-0.118654</td>\n",
       "      <td>-0.150357</td>\n",
       "      <td>0.189010</td>\n",
       "      <td>-0.233024</td>\n",
       "      <td>0.063099</td>\n",
       "      <td>0.025737</td>\n",
       "      <td>-0.323884</td>\n",
       "      <td>0.079297</td>\n",
       "      <td>-0.065630</td>\n",
       "      <td>-0.288985</td>\n",
       "      <td>0.020554</td>\n",
       "      <td>0.651843</td>\n",
       "      <td>0.208828</td>\n",
       "      <td>1.000000</td>\n",
       "    </tr>\n",
       "  </tbody>\n",
       "</table>\n",
       "</div>"
      ],
      "text/plain": [
       "                                generated  punctuations_nb  \\\n",
       "generated                        1.000000        -0.088503   \n",
       "punctuations_nb                 -0.088503         1.000000   \n",
       "neg_sentiment_polarity           0.188044        -0.405242   \n",
       "pos_sentiment_polarity          -0.205674         0.534757   \n",
       "text_corrections_nb             -0.247763         0.521038   \n",
       "text_repetitions_nb             -0.341117         0.728464   \n",
       "number_of_sentences             -0.173756         0.812903   \n",
       "text_lenght                     -0.230693         0.777696   \n",
       "repetitions_ratio               -0.423831         0.398635   \n",
       "punctuations_ratio               0.128489         0.544887   \n",
       "text_corrections_ratio          -0.215961         0.201195   \n",
       "text_corrections_set_ratio      -0.204748         0.008654   \n",
       "average_neg_sentiment_polarity   0.125051        -0.131355   \n",
       "average_sentence_lenght         -0.118654        -0.150357   \n",
       "\n",
       "                                neg_sentiment_polarity  \\\n",
       "generated                                     0.188044   \n",
       "punctuations_nb                              -0.405242   \n",
       "neg_sentiment_polarity                        1.000000   \n",
       "pos_sentiment_polarity                       -0.217903   \n",
       "text_corrections_nb                          -0.271814   \n",
       "text_repetitions_nb                          -0.403803   \n",
       "number_of_sentences                          -0.545572   \n",
       "text_lenght                                  -0.372813   \n",
       "repetitions_ratio                            -0.309147   \n",
       "punctuations_ratio                           -0.171821   \n",
       "text_corrections_ratio                       -0.136490   \n",
       "text_corrections_set_ratio                    0.036388   \n",
       "average_neg_sentiment_polarity                0.857965   \n",
       "average_sentence_lenght                       0.189010   \n",
       "\n",
       "                                pos_sentiment_polarity  text_corrections_nb  \\\n",
       "generated                                    -0.205674            -0.247763   \n",
       "punctuations_nb                               0.534757             0.521038   \n",
       "neg_sentiment_polarity                       -0.217903            -0.271814   \n",
       "pos_sentiment_polarity                        1.000000             0.244505   \n",
       "text_corrections_nb                           0.244505             1.000000   \n",
       "text_repetitions_nb                           0.621327             0.454690   \n",
       "number_of_sentences                           0.715968             0.411738   \n",
       "text_lenght                                   0.581323             0.471582   \n",
       "repetitions_ratio                             0.446096             0.280088   \n",
       "punctuations_ratio                            0.134036             0.225090   \n",
       "text_corrections_ratio                        0.015978             0.814804   \n",
       "text_corrections_set_ratio                   -0.118340             0.526937   \n",
       "average_neg_sentiment_polarity               -0.005858            -0.116500   \n",
       "average_sentence_lenght                      -0.233024             0.063099   \n",
       "\n",
       "                                text_repetitions_nb  number_of_sentences  \\\n",
       "generated                                 -0.341117            -0.173756   \n",
       "punctuations_nb                            0.728464             0.812903   \n",
       "neg_sentiment_polarity                    -0.403803            -0.545572   \n",
       "pos_sentiment_polarity                     0.621327             0.715968   \n",
       "text_corrections_nb                        0.454690             0.411738   \n",
       "text_repetitions_nb                        1.000000             0.774497   \n",
       "number_of_sentences                        0.774497             1.000000   \n",
       "text_lenght                                0.911819             0.775252   \n",
       "repetitions_ratio                          0.719688             0.503574   \n",
       "punctuations_ratio                         0.052412             0.296628   \n",
       "text_corrections_ratio                     0.082980             0.107349   \n",
       "text_corrections_set_ratio                 0.074302            -0.128366   \n",
       "average_neg_sentiment_polarity            -0.091358            -0.260179   \n",
       "average_sentence_lenght                    0.025737            -0.323884   \n",
       "\n",
       "                                text_lenght  repetitions_ratio  \\\n",
       "generated                         -0.230693          -0.423831   \n",
       "punctuations_nb                    0.777696           0.398635   \n",
       "neg_sentiment_polarity            -0.372813          -0.309147   \n",
       "pos_sentiment_polarity             0.581323           0.446096   \n",
       "text_corrections_nb                0.471582           0.280088   \n",
       "text_repetitions_nb                0.911819           0.719688   \n",
       "number_of_sentences                0.775252           0.503574   \n",
       "text_lenght                        1.000000           0.438700   \n",
       "repetitions_ratio                  0.438700           1.000000   \n",
       "punctuations_ratio                 0.022393           0.107060   \n",
       "text_corrections_ratio             0.052447           0.157606   \n",
       "text_corrections_set_ratio         0.073616           0.071756   \n",
       "average_neg_sentiment_polarity    -0.031658          -0.190250   \n",
       "average_sentence_lenght            0.079297          -0.065630   \n",
       "\n",
       "                                punctuations_ratio  text_corrections_ratio  \\\n",
       "generated                                 0.128489               -0.215961   \n",
       "punctuations_nb                           0.544887                0.201195   \n",
       "neg_sentiment_polarity                   -0.171821               -0.136490   \n",
       "pos_sentiment_polarity                    0.134036                0.015978   \n",
       "text_corrections_nb                       0.225090                0.814804   \n",
       "text_repetitions_nb                       0.052412                0.082980   \n",
       "number_of_sentences                       0.296628                0.107349   \n",
       "text_lenght                               0.022393                0.052447   \n",
       "repetitions_ratio                         0.107060                0.157606   \n",
       "punctuations_ratio                        1.000000                0.270104   \n",
       "text_corrections_ratio                    0.270104                1.000000   \n",
       "text_corrections_set_ratio               -0.051620                0.596788   \n",
       "average_neg_sentiment_polarity           -0.183252               -0.150852   \n",
       "average_sentence_lenght                  -0.288985                0.020554   \n",
       "\n",
       "                                text_corrections_set_ratio  \\\n",
       "generated                                        -0.204748   \n",
       "punctuations_nb                                   0.008654   \n",
       "neg_sentiment_polarity                            0.036388   \n",
       "pos_sentiment_polarity                           -0.118340   \n",
       "text_corrections_nb                               0.526937   \n",
       "text_repetitions_nb                               0.074302   \n",
       "number_of_sentences                              -0.128366   \n",
       "text_lenght                                       0.073616   \n",
       "repetitions_ratio                                 0.071756   \n",
       "punctuations_ratio                               -0.051620   \n",
       "text_corrections_ratio                            0.596788   \n",
       "text_corrections_set_ratio                        1.000000   \n",
       "average_neg_sentiment_polarity                    0.043334   \n",
       "average_sentence_lenght                           0.651843   \n",
       "\n",
       "                                average_neg_sentiment_polarity  \\\n",
       "generated                                             0.125051   \n",
       "punctuations_nb                                      -0.131355   \n",
       "neg_sentiment_polarity                                0.857965   \n",
       "pos_sentiment_polarity                               -0.005858   \n",
       "text_corrections_nb                                  -0.116500   \n",
       "text_repetitions_nb                                  -0.091358   \n",
       "number_of_sentences                                  -0.260179   \n",
       "text_lenght                                          -0.031658   \n",
       "repetitions_ratio                                    -0.190250   \n",
       "punctuations_ratio                                   -0.183252   \n",
       "text_corrections_ratio                               -0.150852   \n",
       "text_corrections_set_ratio                            0.043334   \n",
       "average_neg_sentiment_polarity                        1.000000   \n",
       "average_sentence_lenght                               0.208828   \n",
       "\n",
       "                                average_sentence_lenght  \n",
       "generated                                     -0.118654  \n",
       "punctuations_nb                               -0.150357  \n",
       "neg_sentiment_polarity                         0.189010  \n",
       "pos_sentiment_polarity                        -0.233024  \n",
       "text_corrections_nb                            0.063099  \n",
       "text_repetitions_nb                            0.025737  \n",
       "number_of_sentences                           -0.323884  \n",
       "text_lenght                                    0.079297  \n",
       "repetitions_ratio                             -0.065630  \n",
       "punctuations_ratio                            -0.288985  \n",
       "text_corrections_ratio                         0.020554  \n",
       "text_corrections_set_ratio                     0.651843  \n",
       "average_neg_sentiment_polarity                 0.208828  \n",
       "average_sentence_lenght                        1.000000  "
      ]
     },
     "execution_count": 259,
     "metadata": {},
     "output_type": "execute_result"
    }
   ],
   "source": [
    "big_df.drop(columns=['id', 'text', 'Unnamed: 0']).corr()"
   ]
  },
  {
   "cell_type": "code",
   "execution_count": 302,
   "metadata": {},
   "outputs": [
    {
     "name": "stderr",
     "output_type": "stream",
     "text": [
      "[nltk_data] Downloading package wordnet to\n",
      "[nltk_data]     /Users/jeromemorissard/nltk_data...\n",
      "[nltk_data]   Package wordnet is already up-to-date!\n"
     ]
    },
    {
     "name": "stdout",
     "output_type": "stream",
     "text": [
      "['.22-caliber', '.22-calibre', '.22_caliber', '.22_calibre', '.38-caliber', '.38-calibre', '.38_caliber', '.38_calibre', '.45-caliber', '.45-calibre']\n",
      "CPU times: user 377 ms, sys: 60.7 ms, total: 438 ms\n",
      "Wall time: 471 ms\n"
     ]
    }
   ],
   "source": [
    "%%time\n",
    "\n",
    "# TExt cleaning\n",
    "# https://www.kaggle.com/code/sudalairajkumar/getting-started-with-text-preprocessing\n",
    "\n",
    "# algo to detect spelling mistakes\n",
    "#\n",
    "\n",
    "from nltk.corpus import words\n",
    "from nltk.corpus import wordnet\n",
    "import nltk\n",
    "nltk.download('wordnet')\n",
    "\n",
    "from nltk.corpus import wordnet\n",
    "wordnet_words = list(wordnet.words())\n",
    "print(wordnet_words[:10])  # Affiche les 10 premiers mots de WordNet\n",
    "\n",
    "from nltk.stem import *\n",
    "# stemmer = PorterStemmer()\n",
    "stemmer = SnowballStemmer(\"english\")\n",
    "\n",
    "from textblob import TextBlob\n",
    "\n",
    "text = \"\"\"\n",
    "        Also they feel more comfortable at home. Some school have decreased bullying and high and middle school because some students get bullied. Some Schools offter distance learning as an option for students to attend classes from home by way of online or video conferencing. Students can ncreased to learn at home. Also is more hard to students understand by online. students get distract at home. Some schools in United States ofter classes from home because is good option to students . Also students can stay more relaxing from home. Students don't want to go more at school and they want to get classes at home. Students get fall in environment learning. But students can get relaxing at home.\n",
    "\n",
    "Students can get distract at home because they have easy to use phones. If students sleep in class they want to sleep at home too. They feel more bored at home because they need stay at home more time. Also students don't do anything at home because if they stay at home is esay to get more distract. Students can get fall in environment learning and is hard they learn at home. Students have more time to do homework. Also they don't want to learn by online. Also many students have hard time in class to understand that teacher explain in more hard they learn at home.\n",
    "\n",
    "Some schools affter classes from home because they think is good option to students. If they get classes at home they don't learning. Many students work and they would tired and they don't want to learn.\n",
    "\n",
    "Students don't pay attention in class they too don't pay attention at home because is more hard. But students get more distract stay near the family and they don't want to pay attention.\n",
    "\n",
    "Conclude if students get classes from home by online they don't want to pay attention because is more easy they get distract. Students feel more pressure at home. Also they want to play or use phone and not is good option to students get class at home they get distration and decrease to learning. Also students get frustration in class because they don't understand but if they get classes in online they don't learning too because is more hard they learning from home.. Also they want to listening to music or play.\n",
    "\n",
    "Students fall in environment learning because they learn at class when the teacher explain if students attend classes from home by online is hard they learn. Also student sleep more and stay with more energy to receive the class by online. Also they feel safe at home with their family\"\n",
    "\"\"\"\n",
    "\n",
    "text_ai = \"\"\"\n",
    "Therefore, when it comes to allowing students the option to attend classes from home, there are intricacies that need to be taken into consideration in order to ensure that the best decision is made. Ultimately, this decision will depend on the individual student and their ability to take advantage of the opportunities available to them..\n",
    "\n",
    "However, in the end, the effect that home-based classes will have on learning is largely dependent on the situation of the student. On the other hand, there could be a lack of social interaction with classmates, a lack of guidance from instructors, and potential technical issues as well. For example, those who are already motivated to learn and are self-disciplined may reap the full benefits of studying in the comfort of their own home. Conversely, for those who require more interaction and guidance that comes with physical classrooms, a home-based learning style may not be as effective. On the one hand, it eliminates the need for physical attendance to classrooms, reduces the psychology of peer pressure, and eliminates potential health risks resulting from attending crowded places. In addition, students have the opportunity to arrange their learning environment according to their preferences and better manage their own time.\n",
    "When considering the pros and cons of attending classes from home, there is no doubt that there are a variety of advantages and disadvantages\n",
    "\"\"\"\n",
    "words_dict = {}\n",
    "for w in words.words():\n",
    "    words_dict[w]=w\n",
    "\n",
    "for w in list(wordnet_words):\n",
    "    words_dict[w]=w\n",
    "\n",
    "words_set = set(words_dict.values())\n"
   ]
  },
  {
   "cell_type": "code",
   "execution_count": 309,
   "metadata": {},
   "outputs": [
    {
     "name": "stdout",
     "output_type": "stream",
     "text": [
      "❌ .. - sing(..)\n",
      "❌ home-based - sing(home-based)\n",
      "❌ home-based - sing(home-based)\n",
      "3\n",
      "CPU times: user 6.54 ms, sys: 2.8 ms, total: 9.34 ms\n",
      "Wall time: 8.59 ms\n"
     ]
    }
   ],
   "source": [
    "%%time\n",
    "\n",
    "from nltk.tokenize import TweetTokenizer, sent_tokenize\n",
    "from textblob import Word\n",
    "\n",
    "tokenizer_words = TweetTokenizer()\n",
    "tokens_sentences = []\n",
    "tokens_sentences = [tokenizer_words.tokenize(t) for t in nltk.sent_tokenize(text_ai)]\n",
    "# print(tokens_sentences)\n",
    "corrections = 0\n",
    "for sentence in tokens_sentences:\n",
    "    for word in sentence:\n",
    "        word_lower = str.lower(word)\n",
    "        if word_lower not in words_dict:\n",
    "            if len(word) > 1:\n",
    "                if stemmer.stem(word_lower) not in words_dict:\n",
    "                    singular_form = Word(word_lower).singularize()\n",
    "                    if singular_form not in words_dict:\n",
    "                        print(f'❌ {word_lower} - sing({singular_form})')\n",
    "                        corrections+= 1\n",
    "                # if stemmer.stem(word_lower) not in words_dict:\n",
    "                    # print(f'❌ {word_lower} - stem({stemmer.stem(word_lower)})')\n",
    "                    # corrections+= 1\n",
    "\n",
    "print(corrections)"
   ]
  },
  {
   "cell_type": "code",
   "execution_count": 316,
   "metadata": {},
   "outputs": [
    {
     "name": "stdout",
     "output_type": "stream",
     "text": [
      "❌ bullied - sing(bullied)\n",
      "❌ offter - sing(offter)\n",
      "❌ conferencing - sing(conferencing)\n",
      "❌ ncreased - sing(ncreased)\n",
      "❌ esay - sing(esay)\n",
      "❌ affter - sing(affter)\n",
      "❌ distration - sing(distration)\n",
      "7\n",
      "CPU times: user 21.8 ms, sys: 815 μs, total: 22.7 ms\n",
      "Wall time: 24.3 ms\n"
     ]
    }
   ],
   "source": [
    "%%time\n",
    "\n",
    "text_blob = TextBlob(text)\n",
    "corrections = 0\n",
    "ignore_words = [\n",
    "    'n\\'t'\n",
    "]\n",
    "for sentence in text_blob.sentences:\n",
    "    for word in sentence.words:\n",
    "        if len(word) > 2 and word not in ignore_words:\n",
    "            word_lower = str.lower(word)\n",
    "            if stemmer.stem(word_lower) not in words_dict:\n",
    "                singular_form = Word(word_lower).singularize()\n",
    "                if singular_form not in words_dict:\n",
    "                    print(f'❌ {word_lower} - sing({singular_form})')\n",
    "                    corrections+= 1\n",
    "#         else:\n",
    "#            print(f'✅ {word_lower}')\n",
    "\n",
    "print(corrections)"
   ]
  },
  {
   "cell_type": "code",
   "execution_count": null,
   "metadata": {},
   "outputs": [],
   "source": []
  },
  {
   "cell_type": "code",
   "execution_count": 283,
   "metadata": {},
   "outputs": [],
   "source": [
    "from spellchecker import SpellChecker\n",
    "spell = SpellChecker()\n",
    "\n",
    "def compute_number_of_text_corrections_using_pyspellchecker(text):\n",
    "    text_blob = TextBlob(text)\n",
    "    corrections = 0\n",
    "    for sentence in text_blob.sentences:\n",
    "        for word in sentence.words:\n",
    "            correction = spell.correction(word)\n",
    "            if correction != word:\n",
    "                print(f'❌ {word} -> {correction}')\n",
    "                corrections += 1\n",
    "\n",
    "    return corrections"
   ]
  },
  {
   "cell_type": "code",
   "execution_count": 284,
   "metadata": {},
   "outputs": [
    {
     "name": "stdout",
     "output_type": "stream",
     "text": [
      "❌ offter -> offer\n",
      "❌ ncreased -> increased\n",
      "❌ ofter -> after\n",
      "❌ n't -> not\n",
      "❌ n't -> not\n",
      "❌ esay -> say\n",
      "❌ n't -> not\n",
      "❌ affter -> after\n",
      "❌ n't -> not\n",
      "❌ n't -> not\n",
      "❌ n't -> not\n",
      "❌ n't -> not\n",
      "❌ n't -> not\n",
      "❌ n't -> not\n",
      "❌ distration -> distraction\n",
      "❌ n't -> not\n",
      "❌ n't -> not\n",
      "17\n",
      "CPU times: user 28.6 ms, sys: 3.86 ms, total: 32.5 ms\n",
      "Wall time: 35.8 ms\n"
     ]
    }
   ],
   "source": [
    "%%time\n",
    "\n",
    "corrections = compute_number_of_text_corrections_using_pyspellchecker(text)\n",
    "print(corrections)"
   ]
  },
  {
   "cell_type": "code",
   "execution_count": 336,
   "metadata": {},
   "outputs": [
    {
     "name": "stdout",
     "output_type": "stream",
     "text": [
      "Index(['Unnamed: 0', 'id', 'text', 'generated', 'punctuations_nb',\n",
      "       'neg_sentiment_polarity', 'pos_sentiment_polarity',\n",
      "       'text_corrections_nb', 'text_repetitions_nb', 'number_of_sentences',\n",
      "       'text_lenght', 'repetitions_ratio', 'punctuations_ratio',\n",
      "       'text_corrections_ratio', 'text_corrections_set_ratio',\n",
      "       'average_neg_sentiment_polarity'],\n",
      "      dtype='object')\n"
     ]
    }
   ],
   "source": [
    "enriched_df = pd.read_csv('../../raw_data/huggingface.co_human_ai_generated_text/model_training_dataset_enriched.csv')\n",
    "print(df.columns)\n",
    "\n",
    "enriched_v2_df = pd.read_csv('../../raw_data/huggingface.co_human_ai_generated_text/model_training_dataset_enriched_v2.csv')\n"
   ]
  },
  {
   "cell_type": "code",
   "execution_count": 337,
   "metadata": {},
   "outputs": [],
   "source": [
    "reduced_enriched_v2_df = enriched_v2_df[['id', 'text_corrections_nb']]\n",
    "reduced_enriched_v2_df = reduced_enriched_v2_df.rename(columns={'text_corrections_nb':'text_corrections_nb_v2'})"
   ]
  },
  {
   "cell_type": "code",
   "execution_count": 338,
   "metadata": {},
   "outputs": [
    {
     "data": {
      "text/html": [
       "<div>\n",
       "<style scoped>\n",
       "    .dataframe tbody tr th:only-of-type {\n",
       "        vertical-align: middle;\n",
       "    }\n",
       "\n",
       "    .dataframe tbody tr th {\n",
       "        vertical-align: top;\n",
       "    }\n",
       "\n",
       "    .dataframe thead th {\n",
       "        text-align: right;\n",
       "    }\n",
       "</style>\n",
       "<table border=\"1\" class=\"dataframe\">\n",
       "  <thead>\n",
       "    <tr style=\"text-align: right;\">\n",
       "      <th></th>\n",
       "      <th>Unnamed: 0</th>\n",
       "      <th>id</th>\n",
       "      <th>text</th>\n",
       "      <th>generated</th>\n",
       "      <th>punctuations_nb</th>\n",
       "      <th>neg_sentiment_polarity</th>\n",
       "      <th>pos_sentiment_polarity</th>\n",
       "      <th>text_corrections_nb</th>\n",
       "      <th>text_repetitions_nb</th>\n",
       "      <th>number_of_sentences</th>\n",
       "      <th>text_lenght</th>\n",
       "      <th>text_corrections_nb_v2</th>\n",
       "    </tr>\n",
       "  </thead>\n",
       "  <tbody>\n",
       "    <tr>\n",
       "      <th>20</th>\n",
       "      <td>0</td>\n",
       "      <td>cc902a20-27c4-4c18-8012-048a328206d1</td>\n",
       "      <td>\\n\\nTherefore, when it comes to allowing stude...</td>\n",
       "      <td>1</td>\n",
       "      <td>28</td>\n",
       "      <td>-0.022917</td>\n",
       "      <td>2.739286</td>\n",
       "      <td>3</td>\n",
       "      <td>43</td>\n",
       "      <td>9</td>\n",
       "      <td>1427</td>\n",
       "      <td>7</td>\n",
       "    </tr>\n",
       "    <tr>\n",
       "      <th>21</th>\n",
       "      <td>0</td>\n",
       "      <td>cc902a20-27c4-4c18-8012-048a328206d1</td>\n",
       "      <td>\\n\\nTherefore, when it comes to allowing stude...</td>\n",
       "      <td>1</td>\n",
       "      <td>28</td>\n",
       "      <td>-0.022917</td>\n",
       "      <td>2.739286</td>\n",
       "      <td>3</td>\n",
       "      <td>43</td>\n",
       "      <td>9</td>\n",
       "      <td>1427</td>\n",
       "      <td>3</td>\n",
       "    </tr>\n",
       "    <tr>\n",
       "      <th>22</th>\n",
       "      <td>1</td>\n",
       "      <td>c4d2fbe3-e966-479d-89c4-62e1729b6255</td>\n",
       "      <td>It is important to weigh both the potential co...</td>\n",
       "      <td>1</td>\n",
       "      <td>26</td>\n",
       "      <td>-0.023214</td>\n",
       "      <td>0.333333</td>\n",
       "      <td>5</td>\n",
       "      <td>37</td>\n",
       "      <td>8</td>\n",
       "      <td>1168</td>\n",
       "      <td>21</td>\n",
       "    </tr>\n",
       "    <tr>\n",
       "      <th>23</th>\n",
       "      <td>1</td>\n",
       "      <td>c4d2fbe3-e966-479d-89c4-62e1729b6255</td>\n",
       "      <td>It is important to weigh both the potential co...</td>\n",
       "      <td>1</td>\n",
       "      <td>26</td>\n",
       "      <td>-0.023214</td>\n",
       "      <td>0.333333</td>\n",
       "      <td>5</td>\n",
       "      <td>37</td>\n",
       "      <td>8</td>\n",
       "      <td>1168</td>\n",
       "      <td>5</td>\n",
       "    </tr>\n",
       "  </tbody>\n",
       "</table>\n",
       "</div>"
      ],
      "text/plain": [
       "    Unnamed: 0                                    id  \\\n",
       "20           0  cc902a20-27c4-4c18-8012-048a328206d1   \n",
       "21           0  cc902a20-27c4-4c18-8012-048a328206d1   \n",
       "22           1  c4d2fbe3-e966-479d-89c4-62e1729b6255   \n",
       "23           1  c4d2fbe3-e966-479d-89c4-62e1729b6255   \n",
       "\n",
       "                                                 text  generated  \\\n",
       "20  \\n\\nTherefore, when it comes to allowing stude...          1   \n",
       "21  \\n\\nTherefore, when it comes to allowing stude...          1   \n",
       "22  It is important to weigh both the potential co...          1   \n",
       "23  It is important to weigh both the potential co...          1   \n",
       "\n",
       "    punctuations_nb  neg_sentiment_polarity  pos_sentiment_polarity  \\\n",
       "20               28               -0.022917                2.739286   \n",
       "21               28               -0.022917                2.739286   \n",
       "22               26               -0.023214                0.333333   \n",
       "23               26               -0.023214                0.333333   \n",
       "\n",
       "    text_corrections_nb  text_repetitions_nb  number_of_sentences  \\\n",
       "20                    3                   43                    9   \n",
       "21                    3                   43                    9   \n",
       "22                    5                   37                    8   \n",
       "23                    5                   37                    8   \n",
       "\n",
       "    text_lenght  text_corrections_nb_v2  \n",
       "20         1427                       7  \n",
       "21         1427                       3  \n",
       "22         1168                      21  \n",
       "23         1168                       5  "
      ]
     },
     "execution_count": 338,
     "metadata": {},
     "output_type": "execute_result"
    }
   ],
   "source": [
    "merge_enriched_df = pd.merge(left=enriched_df, right=reduced_enriched_v2_df, left_on=\"id\", right_on=\"id\")\n",
    "print(merge_enriched_df.shape)\n",
    "merge_enriched_df[merge_enriched_df[\"generated\"] == 1].head(4)"
   ]
  },
  {
   "cell_type": "code",
   "execution_count": 296,
   "metadata": {},
   "outputs": [],
   "source": [
    "merge_enriched_df[merge_enriched_df['id'] == 'cc902a20-27c4-4c18-8012-048a328206d1'].to_csv('temp.csv')"
   ]
  }
 ],
 "metadata": {
  "kernelspec": {
   "display_name": "detect_ai_content",
   "language": "python",
   "name": "python3"
  },
  "language_info": {
   "codemirror_mode": {
    "name": "ipython",
    "version": 3
   },
   "file_extension": ".py",
   "mimetype": "text/x-python",
   "name": "python",
   "nbconvert_exporter": "python",
   "pygments_lexer": "ipython3",
   "version": "3.10.6"
  }
 },
 "nbformat": 4,
 "nbformat_minor": 2
}
