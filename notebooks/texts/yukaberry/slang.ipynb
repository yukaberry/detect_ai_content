{
 "cells": [
  {
   "cell_type": "markdown",
   "metadata": {},
   "source": [
    "# 1. Slang detection \n",
    "\n",
    "## 1.1 urban dictonary api \n",
    "did not work. so I requested to access data to urban dictoanry website. not sure when i get a reply or even access..\n",
    "\n",
    "## 1.2 kaggle data\n",
    " https://www.kaggle.com/code/nmaguette/up-to-date-list-of-slangs-for-text-preprocessing/notebook\n"
   ]
  },
  {
   "cell_type": "markdown",
   "metadata": {},
   "source": [
    "##1.1 urban dict api"
   ]
  },
  {
   "cell_type": "code",
   "execution_count": 9,
   "metadata": {},
   "outputs": [],
   "source": [
    "import requests\n",
    "import json\n",
    "\n",
    "def randomword():\n",
    "    response = requests.get(\"https://api.urbandictionary.com/v0/random\")\n",
    "\n",
    "    return response.text"
   ]
  },
  {
   "cell_type": "code",
   "execution_count": 10,
   "metadata": {},
   "outputs": [],
   "source": [
    "data = json.loads(randomword()) #gets random and converts to JSON\n",
    "firstdef = data[\"list\"][0] #gets first definition\n",
    "author = firstdef[\"author\"] #author of definition\n",
    "definition = firstdef[\"definition\"] #definition of word\n",
    "word = firstdef[\"word\"]  #word"
   ]
  },
  {
   "cell_type": "code",
   "execution_count": 11,
   "metadata": {},
   "outputs": [
    {
     "data": {
      "text/plain": [
       "5"
      ]
     },
     "execution_count": 11,
     "metadata": {},
     "output_type": "execute_result"
    }
   ],
   "source": [
    "len(data['list'])"
   ]
  },
  {
   "cell_type": "code",
   "execution_count": 12,
   "metadata": {},
   "outputs": [
    {
     "data": {
      "text/plain": [
       "[{'definition': 'something or someone so painful it would be like sticking oneself in the dick with a [picket fence].\\n\\n*note this can be used by anyone, regardless of their [anatomy]. you don’t need [firsthand] experience of a pain in your dick',\n",
       "  'permalink': 'http://dick-picket.urbanup.com/17547101',\n",
       "  'thumbs_up': 0,\n",
       "  'author': 'LX ‘84',\n",
       "  'word': 'dick-picket',\n",
       "  'defid': 17547101,\n",
       "  'current_vote': '',\n",
       "  'written_on': '2022-11-16T09:30:15.604Z',\n",
       "  'example': '“all [jeremiah] does is talk about his [upcoming] sporting tournaments, he’s such a dick-picket”\\n\\n“the teacher caught me with hentai open on my [laptop], that conversation was a serious dick-picket”',\n",
       "  'thumbs_down': 0},\n",
       " {'definition': \"(in korean 원우) is the name of one of [seventeen's] k-pop boy group visual. Also know as [Jeon Wonwoo] or just [Wonwoo]\",\n",
       "  'permalink': 'http://wonu.urbanup.com/11909716',\n",
       "  'thumbs_up': 0,\n",
       "  'author': 'fiodlcruz',\n",
       "  'word': 'wonu',\n",
       "  'defid': 11909716,\n",
       "  'current_vote': '',\n",
       "  'written_on': '2017-08-27T18:00:40.880Z',\n",
       "  'example': '\"[who is] your [bias] in [seventeen]\"\\r\\n\"wonu !\"',\n",
       "  'thumbs_down': 0},\n",
       " {'definition': '[By far] [the best at everything] one does, incredibly charming, popular, funny, and attractive. As soon as one walks in the room, the room immediately becomes [brighter] and all eyes are on this person',\n",
       "  'permalink': 'http://macaria.urbanup.com/12194973',\n",
       "  'thumbs_up': 0,\n",
       "  'author': 'Macaria ',\n",
       "  'word': 'macaria',\n",
       "  'defid': 12194973,\n",
       "  'current_vote': '',\n",
       "  'written_on': '2017-11-21T19:41:29.988Z',\n",
       "  'example': '\"wow you just won [best person] in the [school you] sure pulled a [Macaria]\"',\n",
       "  'thumbs_down': 0},\n",
       " {'definition': '1. a chicken with [no head]\\r\\n2. [running around] [all over the place] with seemingly no aim or purpose',\n",
       "  'permalink': 'http://headless-chicken.urbanup.com/352154',\n",
       "  'thumbs_up': 40,\n",
       "  'author': 'theWestHamfan',\n",
       "  'word': 'headless chicken',\n",
       "  'defid': 352154,\n",
       "  'current_vote': '',\n",
       "  'written_on': '2003-11-16T09:33:24.000Z',\n",
       "  'example': '1. we ordered [murghi] masalam but all we got was a headless chicken stuffed with [minced meat].\\r\\n2. \"look at that twat Savage\" exclaimed [Fredo] \"he\\'s worse than a headless chicken.\"',\n",
       "  'thumbs_down': 13},\n",
       " {'definition': 'When a woman uses her pussy as [leverage] during a(n) [conflict]/[argument].',\n",
       "  'permalink': 'http://jedi-mind-clit.urbanup.com/6148580',\n",
       "  'thumbs_up': 20,\n",
       "  'author': 'M1ND V1RUS',\n",
       "  'word': 'Jedi mind clit',\n",
       "  'defid': 6148580,\n",
       "  'current_vote': '',\n",
       "  'written_on': '2011-10-19T09:30:53.000Z',\n",
       "  'example': '[Ricky]: \"I\\'m not smoking weed anymore bro.\"\\n\\n[Ant]: \"Why?\"\\n\\nRicky: \"[Linzy], says it\\'s a turn off and makes my dick soft.\"\\n\\nAnt: Dude, she\\'s playing Jedi mind clit on you!\"',\n",
       "  'thumbs_down': 4}]"
      ]
     },
     "execution_count": 12,
     "metadata": {},
     "output_type": "execute_result"
    }
   ],
   "source": [
    "data['list']"
   ]
  },
  {
   "cell_type": "markdown",
   "metadata": {},
   "source": [
    "## 1.2 Kaggle "
   ]
  },
  {
   "cell_type": "code",
   "execution_count": 1,
   "metadata": {},
   "outputs": [],
   "source": [
    "slang_dict = {\n",
    "    \"$\" : \" dollar \",\n",
    "    \"€\" : \" euro \",\n",
    "    \"4ao\" : \"for adults only\",\n",
    "    \"a.m\" : \"before midday\",\n",
    "    \"a3\" : \"anytime anywhere anyplace\",\n",
    "    \"aamof\" : \"as a matter of fact\",\n",
    "    \"acct\" : \"account\",\n",
    "    \"adih\" : \"another day in hell\",\n",
    "    \"afaic\" : \"as far as i am concerned\",\n",
    "    \"afaict\" : \"as far as i can tell\",\n",
    "    \"afaik\" : \"as far as i know\",\n",
    "    \"afair\" : \"as far as i remember\",\n",
    "    \"afk\" : \"away from keyboard\",\n",
    "    \"app\" : \"application\",\n",
    "    \"approx\" : \"approximately\",\n",
    "    \"apps\" : \"applications\",\n",
    "    \"asap\" : \"as soon as possible\",\n",
    "    \"asl\" : \"age, sex, location\",\n",
    "    \"atk\" : \"at the keyboard\",\n",
    "    \"ave.\" : \"avenue\",\n",
    "    \"aymm\" : \"are you my mother\",\n",
    "    \"ayor\" : \"at your own risk\", \n",
    "    \"b&b\" : \"bed and breakfast\",\n",
    "    \"b+b\" : \"bed and breakfast\",\n",
    "    \"b.c\" : \"before christ\",\n",
    "    \"b2b\" : \"business to business\",\n",
    "    \"b2c\" : \"business to customer\",\n",
    "    \"b4\" : \"before\",\n",
    "    \"b4n\" : \"bye for now\",\n",
    "    \"b@u\" : \"back at you\",\n",
    "    \"bae\" : \"before anyone else\",\n",
    "    \"bak\" : \"back at keyboard\",\n",
    "    \"bbbg\" : \"bye bye be good\",\n",
    "    \"bbc\" : \"british broadcasting corporation\",\n",
    "    \"bbias\" : \"be back in a second\",\n",
    "    \"bbl\" : \"be back later\",\n",
    "    \"bbs\" : \"be back soon\",\n",
    "    \"be4\" : \"before\",\n",
    "    \"bfn\" : \"bye for now\",\n",
    "    \"blvd\" : \"boulevard\",\n",
    "    \"bout\" : \"about\",\n",
    "    \"brb\" : \"be right back\",\n",
    "    \"bros\" : \"brothers\",\n",
    "    \"brt\" : \"be right there\",\n",
    "    \"bsaaw\" : \"big smile and a wink\",\n",
    "    \"btw\" : \"by the way\",\n",
    "    \"bwl\" : \"bursting with laughter\",\n",
    "    \"c/o\" : \"care of\",\n",
    "    \"cet\" : \"central european time\",\n",
    "    \"cf\" : \"compare\",\n",
    "    \"cia\" : \"central intelligence agency\",\n",
    "    \"csl\" : \"can not stop laughing\",\n",
    "    \"cu\" : \"see you\",\n",
    "    \"cul8r\" : \"see you later\",\n",
    "    \"cv\" : \"curriculum vitae\",\n",
    "    \"cwot\" : \"complete waste of time\",\n",
    "    \"cya\" : \"see you\",\n",
    "    \"cyt\" : \"see you tomorrow\",\n",
    "    \"dae\" : \"does anyone else\",\n",
    "    \"dbmib\" : \"do not bother me i am busy\",\n",
    "    \"diy\" : \"do it yourself\",\n",
    "    \"dm\" : \"direct message\",\n",
    "    \"dwh\" : \"during work hours\",\n",
    "    \"e123\" : \"easy as one two three\",\n",
    "    \"eet\" : \"eastern european time\",\n",
    "    \"eg\" : \"example\",\n",
    "    \"embm\" : \"early morning business meeting\",\n",
    "    \"encl\" : \"enclosed\",\n",
    "    \"encl.\" : \"enclosed\",\n",
    "    \"etc\" : \"and so on\",\n",
    "    \"faq\" : \"frequently asked questions\",\n",
    "    \"fawc\" : \"for anyone who cares\",\n",
    "    \"fb\" : \"facebook\",\n",
    "    \"fc\" : \"fingers crossed\",\n",
    "    \"fig\" : \"figure\",\n",
    "    \"fimh\" : \"forever in my heart\", \n",
    "    \"ft.\" : \"feet\",\n",
    "    \"ft\" : \"featuring\",\n",
    "    \"ftl\" : \"for the loss\",\n",
    "    \"ftw\" : \"for the win\",\n",
    "    \"fwiw\" : \"for what it is worth\",\n",
    "    \"fyi\" : \"for your information\",\n",
    "    \"g9\" : \"genius\",\n",
    "    \"gahoy\" : \"get a hold of yourself\",\n",
    "    \"gal\" : \"get a life\",\n",
    "    \"gcse\" : \"general certificate of secondary education\",\n",
    "    \"gfn\" : \"gone for now\",\n",
    "    \"gg\" : \"good game\",\n",
    "    \"gl\" : \"good luck\",\n",
    "    \"glhf\" : \"good luck have fun\",\n",
    "    \"gmt\" : \"greenwich mean time\",\n",
    "    \"gmta\" : \"great minds think alike\",\n",
    "    \"gn\" : \"good night\",\n",
    "    \"g.o.a.t\" : \"greatest of all time\",\n",
    "    \"goat\" : \"greatest of all time\",\n",
    "    \"goi\" : \"get over it\",\n",
    "    \"gps\" : \"global positioning system\",\n",
    "    \"gr8\" : \"great\",\n",
    "    \"gratz\" : \"congratulations\",\n",
    "    \"gyal\" : \"girl\",\n",
    "    \"h&c\" : \"hot and cold\",\n",
    "    \"hp\" : \"horsepower\",\n",
    "    \"hr\" : \"hour\",\n",
    "    \"hrh\" : \"his royal highness\",\n",
    "    \"ht\" : \"height\",\n",
    "    \"ibrb\" : \"i will be right back\",\n",
    "    \"ic\" : \"i see\",\n",
    "    \"icq\" : \"i seek you\",\n",
    "    \"icymi\" : \"in case you missed it\",\n",
    "    \"idc\" : \"i do not care\",\n",
    "    \"idgadf\" : \"i do not give a damn fuck\",\n",
    "    \"idgaf\" : \"i do not give a fuck\",\n",
    "    \"idk\" : \"i do not know\",\n",
    "    \"ie\" : \"that is\",\n",
    "    \"i.e\" : \"that is\",\n",
    "    \"ifyp\" : \"i feel your pain\",\n",
    "    \"IG\" : \"instagram\",\n",
    "    \"iirc\" : \"if i remember correctly\",\n",
    "    \"ilu\" : \"i love you\",\n",
    "    \"ily\" : \"i love you\",\n",
    "    \"imho\" : \"in my humble opinion\",\n",
    "    \"imo\" : \"in my opinion\",\n",
    "    \"imu\" : \"i miss you\",\n",
    "    \"iow\" : \"in other words\",\n",
    "    \"irl\" : \"in real life\",\n",
    "    \"j4f\" : \"just for fun\",\n",
    "    \"jic\" : \"just in case\",\n",
    "    \"jk\" : \"just kidding\",\n",
    "    \"jsyk\" : \"just so you know\",\n",
    "    \"l8r\" : \"later\",\n",
    "    \"lb\" : \"pound\",\n",
    "    \"lbs\" : \"pounds\",\n",
    "    \"ldr\" : \"long distance relationship\",\n",
    "    \"lmao\" : \"laugh my ass off\",\n",
    "    \"lmfao\" : \"laugh my fucking ass off\",\n",
    "    \"lol\" : \"laughing out loud\",\n",
    "    \"ltd\" : \"limited\",\n",
    "    \"ltns\" : \"long time no see\",\n",
    "    \"m8\" : \"mate\",\n",
    "    \"mf\" : \"motherfucker\",\n",
    "    \"mfs\" : \"motherfuckers\",\n",
    "    \"mfw\" : \"my face when\",\n",
    "    \"mofo\" : \"motherfucker\",\n",
    "    \"mph\" : \"miles per hour\",\n",
    "    \"mr\" : \"mister\",\n",
    "    \"mrw\" : \"my reaction when\",\n",
    "    \"ms\" : \"miss\",\n",
    "    \"mte\" : \"my thoughts exactly\",\n",
    "    \"nagi\" : \"not a good idea\",\n",
    "    \"nbc\" : \"national broadcasting company\",\n",
    "    \"nbd\" : \"not big deal\",\n",
    "    \"nfs\" : \"not for sale\",\n",
    "    \"ngl\" : \"not going to lie\",\n",
    "    \"nhs\" : \"national health service\",\n",
    "    \"nrn\" : \"no reply necessary\",\n",
    "    \"nsfl\" : \"not safe for life\",\n",
    "    \"nsfw\" : \"not safe for work\",\n",
    "    \"nth\" : \"nice to have\",\n",
    "    \"nvr\" : \"never\",\n",
    "    \"nyc\" : \"new york city\",\n",
    "    \"oc\" : \"original content\",\n",
    "    \"og\" : \"original\",\n",
    "    \"ohp\" : \"overhead projector\",\n",
    "    \"oic\" : \"oh i see\",\n",
    "    \"omdb\" : \"over my dead body\",\n",
    "    \"omg\" : \"oh my god\",\n",
    "    \"omw\" : \"on my way\",\n",
    "    \"p.a\" : \"per annum\",\n",
    "    \"p.m\" : \"after midday\",\n",
    "    \"pm\" : \"prime minister\",\n",
    "    \"poc\" : \"people of color\",\n",
    "    \"pov\" : \"point of view\",\n",
    "    \"pp\" : \"pages\",\n",
    "    \"ppl\" : \"people\",\n",
    "    \"prw\" : \"parents are watching\",\n",
    "    \"ps\" : \"postscript\",\n",
    "    \"pt\" : \"point\",\n",
    "    \"ptb\" : \"please text back\",\n",
    "    \"pto\" : \"please turn over\",\n",
    "    \"qpsa\" : \"what happens\", #\"que pasa\",\n",
    "    \"ratchet\" : \"rude\",\n",
    "    \"rbtl\" : \"read between the lines\",\n",
    "    \"rlrt\" : \"real life retweet\", \n",
    "    \"rofl\" : \"rolling on the floor laughing\",\n",
    "    \"roflol\" : \"rolling on the floor laughing out loud\",\n",
    "    \"rotflmao\" : \"rolling on the floor laughing my ass off\",\n",
    "    \"rt\" : \"retweet\",\n",
    "    \"ruok\" : \"are you ok\",\n",
    "    \"sfw\" : \"safe for work\",\n",
    "    \"sk8\" : \"skate\",\n",
    "    \"smh\" : \"shake my head\",\n",
    "    \"sq\" : \"square\",\n",
    "    \"srsly\" : \"seriously\", \n",
    "    \"ssdd\" : \"same stuff different day\",\n",
    "    \"tbh\" : \"to be honest\",\n",
    "    \"tbs\" : \"tablespooful\",\n",
    "    \"tbsp\" : \"tablespooful\",\n",
    "    \"tfw\" : \"that feeling when\",\n",
    "    \"thks\" : \"thank you\",\n",
    "    \"tho\" : \"though\",\n",
    "    \"thx\" : \"thank you\",\n",
    "    \"tia\" : \"thanks in advance\",\n",
    "    \"til\" : \"today i learned\",\n",
    "    \"tl;dr\" : \"too long i did not read\",\n",
    "    \"tldr\" : \"too long i did not read\",\n",
    "    \"tmb\" : \"tweet me back\",\n",
    "    \"tntl\" : \"trying not to laugh\",\n",
    "    \"ttyl\" : \"talk to you later\",\n",
    "    \"u\" : \"you\",\n",
    "    \"u2\" : \"you too\",\n",
    "    \"u4e\" : \"yours for ever\",\n",
    "    \"utc\" : \"coordinated universal time\",\n",
    "    \"w/\" : \"with\",\n",
    "    \"w/o\" : \"without\",\n",
    "    \"w8\" : \"wait\",\n",
    "    \"wassup\" : \"what is up\",\n",
    "    \"wb\" : \"welcome back\",\n",
    "    \"wtf\" : \"what the fuck\",\n",
    "    \"wtg\" : \"way to go\",\n",
    "    \"wtpa\" : \"where the party at\",\n",
    "    \"wuf\" : \"where are you from\",\n",
    "    \"wuzup\" : \"what is up\",\n",
    "    \"wywh\" : \"wish you were here\",\n",
    "    \"yd\" : \"yard\",\n",
    "    \"ygtr\" : \"you got that right\",\n",
    "    \"ynk\" : \"you never know\",\n",
    "    \"zzz\" : \"sleeping bored and tired\"\n",
    "}"
   ]
  },
  {
   "cell_type": "code",
   "execution_count": 2,
   "metadata": {},
   "outputs": [],
   "source": [
    "# TODO Lina\n",
    "# I made funciton below so you can integrate this in your notebook \n",
    "# to compare features \n",
    "\n",
    "\n",
    "def count_slang(text, slang_dict):\n",
    "    \n",
    "    # maybe you need to add cleaning test function here below \n",
    "    # it will depend on txt dataset \n",
    "    # ex) text = clean_txt(text)\n",
    "    \n",
    "    slang_count = sum(1 for word in text if word in slang_dict)\n",
    "    return slang_count"
   ]
  },
  {
   "cell_type": "code",
   "execution_count": 5,
   "metadata": {},
   "outputs": [
    {
     "name": "stdout",
     "output_type": "stream",
     "text": [
      "                   text\n",
      "0  lol this is so funny\n",
      "1     idk what you mean\n"
     ]
    }
   ],
   "source": [
    "# exmaple  how to use my function above \n",
    "\n",
    "import pandas as pd\n",
    "\n",
    "data = [\n",
    "    {\"text\": \"lol this is so funny\"},\n",
    "    {\"text\": \"idk what you mean\"}\n",
    "]\n",
    "\n",
    "df = pd.DataFrame(data)\n",
    "print(df)"
   ]
  },
  {
   "cell_type": "code",
   "execution_count": 8,
   "metadata": {},
   "outputs": [
    {
     "data": {
      "text/plain": [
       "0    1\n",
       "1    1\n",
       "Name: slang_count, dtype: int64"
      ]
     },
     "execution_count": 8,
     "metadata": {},
     "output_type": "execute_result"
    }
   ],
   "source": [
    "df['slang_count'] = df['text'].apply(lambda x: count_slang(x, slang_dict))\n",
    "df['slang_count']"
   ]
  },
  {
   "cell_type": "code",
   "execution_count": null,
   "metadata": {},
   "outputs": [],
   "source": []
  },
  {
   "cell_type": "markdown",
   "metadata": {},
   "source": [
    "## 1.3 TTR "
   ]
  },
  {
   "cell_type": "code",
   "execution_count": 14,
   "metadata": {},
   "outputs": [],
   "source": [
    "from nltk.tokenize import word_tokenize\n",
    "\n",
    "def type_token_ratio(text):\n",
    "    \n",
    "    \"\"\"Calculate the Type-Token Ratio (TTR) for the text.\"\"\"\n",
    "    tokens = word_tokenize(text.lower())\n",
    "    # Remove punctuation from tokens\n",
    "    words = [word for word in tokens if word.isalpha()]\n",
    "    types = set(words)  # Unique words\n",
    "    ttr = len(types) / len(words)\n",
    "    return ttr\n",
    "\n"
   ]
  },
  {
   "cell_type": "code",
   "execution_count": 15,
   "metadata": {},
   "outputs": [
    {
     "data": {
      "text/plain": [
       "(0.6111111111111112, 0.8571428571428571)"
      ]
     },
     "execution_count": 15,
     "metadata": {},
     "output_type": "execute_result"
    }
   ],
   "source": [
    "# Example texts\n",
    "simple_text = \"\"\"The dog chased the ball.\\n\n",
    "It was a big, red ball. The dog liked the ball a lot.\"\"\"\n",
    "\n",
    "rich_text = \"\"\"The playful canine darted across the field \\n\n",
    "in pursuit of the vibrant, crimson sphere, an object of\\n\n",
    "endless fascination that seemed to\\n\n",
    "captivate the dog’s boundless energy.\"\"\"\n",
    "\n",
    "# Calculate TTR for both texts\n",
    "simple_ttr = type_token_ratio(simple_text)\n",
    "rich_ttr = type_token_ratio(rich_text)\n",
    "\n",
    "simple_ttr, rich_ttr\n"
   ]
  },
  {
   "cell_type": "markdown",
   "metadata": {},
   "source": [
    "Explanation:\n",
    "Simple Text: This uses a lot of repetition and common words. The TTR for this text should be lower since the vocabulary is less diverse.\n",
    "Rich Text: This version uses more varied, descriptive words. The TTR for this text should be higher as it introduces a broader range of unique words.\n",
    "\n",
    "Expected Outcome:\n",
    "TTR for simple_text should be relatively low, as it has fewer unique words (e.g., \"ball\" is repeated multiple times).\n",
    "TTR for rich_text should be higher, due to the broader and more descriptive vocabulary (e.g., \"canine,\" \"darted,\" \"crimson\")."
   ]
  },
  {
   "cell_type": "markdown",
   "metadata": {},
   "source": []
  },
  {
   "cell_type": "markdown",
   "metadata": {},
   "source": [
    "## 1.4 ngram (Bigram and trigram) analysis "
   ]
  },
  {
   "cell_type": "markdown",
   "metadata": {},
   "source": [
    "Bigram and trigram analysis is a way of examining patterns in text to detect common word pairs (bigrams) or triplets (trigrams).\n",
    "\n",
    "These analyses reveal whether the text contains **overly common** or **predictable word sequences**, which are often a sign of AI-generated language. Human writers are more likely to produce unique or less frequent word combinations, while **AI may repeat typical patterns.**"
   ]
  },
  {
   "cell_type": "code",
   "execution_count": 17,
   "metadata": {},
   "outputs": [],
   "source": [
    "from nltk.tokenize import word_tokenize\n",
    "from nltk.util import ngrams\n",
    "from collections import Counter\n",
    "\n",
    "def ngram_analysis(text, n=2):\n",
    "    \n",
    "    \"\"\"\n",
    "    - calculate the frequency of n-grams in the text \n",
    "    - n=2 (bigrams) n=3 (trigrams)\n",
    "    \n",
    "    \"\"\"\n",
    "    \n",
    "    tokens = word_tokenize(text.lower())\n",
    "    # Remove punctuation\n",
    "    words = [word for word in tokens if word.isalpha()]  \n",
    "    n_grams = ngrams(words, n)\n",
    "    ngram_freq = Counter(n_grams)\n",
    "    \n",
    "    return ngram_freq\n"
   ]
  },
  {
   "cell_type": "code",
   "execution_count": 18,
   "metadata": {},
   "outputs": [
    {
     "name": "stdout",
     "output_type": "stream",
     "text": [
      "Bigram Frequencies:\n",
      "('the', 'cat') 3\n",
      "('the', 'mat') 2\n",
      "('cat', 'sat') 1\n",
      "('sat', 'on') 1\n",
      "('on', 'the') 1\n",
      "\n",
      "Trigram Frequencies:\n",
      "('the', 'cat', 'sat') 1\n",
      "('cat', 'sat', 'on') 1\n",
      "('sat', 'on', 'the') 1\n",
      "('on', 'the', 'mat') 1\n",
      "('the', 'mat', 'the') 1\n"
     ]
    }
   ],
   "source": [
    "# Example texts\n",
    "example_text = \"\"\"The cat sat on the mat.\\n\n",
    "The cat was very lazy. The mat was soft, and \\n\n",
    "the cat seemed to enjoy it.\"\"\"\n",
    "\n",
    "# Analyze bigrams (n=2) and trigrams (n=3)\n",
    "bigram_freq = ngram_analysis(example_text, n=2)\n",
    "trigram_freq = ngram_analysis(example_text, n=3)\n",
    "\n",
    "# Output results\n",
    "print(\"Bigram Frequencies:\")\n",
    "for bigram, freq in bigram_freq.most_common(5):  # Show top 5 bigrams\n",
    "    print(bigram, freq)\n",
    "\n",
    "print(\"\\nTrigram Frequencies:\")\n",
    "for trigram, freq in trigram_freq.most_common(5):  # Show top 5 trigrams\n",
    "    print(trigram, freq)"
   ]
  },
  {
   "cell_type": "markdown",
   "metadata": {},
   "source": [
    "#### interpret the result \n",
    "\n",
    "#### Bigram Analysis (n=2):\n",
    "Shows that the most frequent bigram is ('the', 'cat'), which appears three times in the text. Frequent, predictable bigrams like these are common in AI-generated text, especially in simplistic or repetitive outputs.\n",
    "\n",
    "#### Trigram Analysis (n=3):\n",
    "Reveals the most frequent trigrams, which in this case each appear only once. If AI text generators repeat similar phrases, trigrams can become more predictable and frequent, which can distinguish it from more creative human writing that introduces unique word combinations."
   ]
  },
  {
   "cell_type": "code",
   "execution_count": null,
   "metadata": {},
   "outputs": [],
   "source": []
  },
  {
   "cell_type": "markdown",
   "metadata": {},
   "source": [
    "## 1.5 Sentence Variation Index"
   ]
  },
  {
   "cell_type": "code",
   "execution_count": 28,
   "metadata": {},
   "outputs": [],
   "source": [
    "from nltk import word_tokenize, sent_tokenize\n",
    "import numpy as np\n",
    "import string\n",
    "\n",
    "def sentence_variation_index(text):\n",
    "    \n",
    "    \"\"\"\n",
    "    - calculate the Sentence Variation Index based on \n",
    "       sentence lengths and punctuation diversity.\n",
    "       \n",
    "    \"\"\"\n",
    "    \n",
    "    sentences = sent_tokenize(text)\n",
    "    \n",
    "    # Calculate average sentence length variation\n",
    "    sentence_lengths = [len(word_tokenize(sentence)) for sentence in sentences]\n",
    "    # Standard deviation of sentence lengths\n",
    "    avg_length_variation = np.std(sentence_lengths)  \n",
    "    \n",
    "    # Count punctuation diversity in each sentence\n",
    "    punctuation_diversity = [len(set(char for char in sentence if char in string.punctuation)) for sentence in sentences]\n",
    "    avg_punctuation_variation = np.std(punctuation_diversity)\n",
    "    \n",
    "    # Combine these as a Sentence Variation Index\n",
    "    variation_index = avg_length_variation + avg_punctuation_variation\n",
    "    \n",
    "    return variation_index\n"
   ]
  },
  {
   "cell_type": "code",
   "execution_count": 36,
   "metadata": {},
   "outputs": [
    {
     "name": "stdout",
     "output_type": "stream",
     "text": [
      "0.0\n",
      "1.0\n"
     ]
    }
   ],
   "source": [
    "# Example texts\n",
    "simple_text = \"\"\" The cat sleeps on the mat.The mat is soft and warm.The dog watches the cat.The room is quiet.It is a peaceful scene. \"\"\"\n",
    "\n",
    "# varied_text = \"\"\"The cat, an old and wise creature,\\n\n",
    "# sat comfortably on the mat,\\n\n",
    "# watching the world go by.\\n\n",
    "# Occasionally, it would stretch, flick its tail,\\n\n",
    "# or yawn—a simple pleasure in a complex world.\"\"\"\n",
    "\n",
    "varied_text = \"\"\" The cat, a creature of comfort, sleeps on the mat beside the fire. Meanwhile, the dog—restless and alert—keeps a watchful eye on its feline friend.  \"\"\"\n",
    "\n",
    "# Calculate Sentence Variation Index for both texts\n",
    "simple_variation_index = sentence_variation_index(simple_text)\n",
    "varied_variation_index = sentence_variation_index(varied_text)\n",
    "\n",
    "print(simple_variation_index)\n",
    "print(varied_variation_index)"
   ]
  },
  {
   "cell_type": "markdown",
   "metadata": {},
   "source": [
    "Simple Text should have a lower Sentence Variation Index since the sentences are uniform in length and have minimal punctuation.\n",
    "\n",
    "\n",
    "Complex Text should yield a higher Sentence Variation Index due to its varied sentence lengths, punctuation diversity, and structure complexity.\n",
    "\n",
    "\n",
    "The Sentence Variation Index as calculated here is more **sensitive to sentence length variation than punctuation diversity**. Adjustments, such as giving more weight to punctuation variation or refining length calculations, could make the index better align with human intuitions about sentence complexity."
   ]
  },
  {
   "cell_type": "code",
   "execution_count": null,
   "metadata": {},
   "outputs": [],
   "source": []
  },
  {
   "cell_type": "code",
   "execution_count": null,
   "metadata": {},
   "outputs": [],
   "source": []
  },
  {
   "cell_type": "code",
   "execution_count": null,
   "metadata": {},
   "outputs": [],
   "source": []
  },
  {
   "cell_type": "code",
   "execution_count": null,
   "metadata": {},
   "outputs": [],
   "source": []
  },
  {
   "cell_type": "code",
   "execution_count": null,
   "metadata": {},
   "outputs": [],
   "source": []
  },
  {
   "cell_type": "code",
   "execution_count": null,
   "metadata": {},
   "outputs": [],
   "source": []
  },
  {
   "cell_type": "code",
   "execution_count": null,
   "metadata": {},
   "outputs": [],
   "source": []
  }
 ],
 "metadata": {
  "kernelspec": {
   "display_name": "Python 3.10.6 64-bit ('shims')",
   "language": "python",
   "name": "python3"
  },
  "language_info": {
   "codemirror_mode": {
    "name": "ipython",
    "version": 3
   },
   "file_extension": ".py",
   "mimetype": "text/x-python",
   "name": "python",
   "nbconvert_exporter": "python",
   "pygments_lexer": "ipython3",
   "version": "3.10.6"
  },
  "orig_nbformat": 4,
  "vscode": {
   "interpreter": {
    "hash": "8764c6808ed96d2736f47875bfcd7b4e4bf38b212bb1fe2028409af633673231"
   }
  }
 },
 "nbformat": 4,
 "nbformat_minor": 2
}
