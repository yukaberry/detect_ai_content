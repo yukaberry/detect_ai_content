{
 "cells": [
  {
   "cell_type": "code",
   "execution_count": 1,
   "metadata": {},
   "outputs": [],
   "source": [
    "import requests\n",
    "import json\n",
    "\n",
    "def randomword():\n",
    "    response = requests.get(\"https://api.urbandictionary.com/v0/random\")\n",
    "\n",
    "    return response.text"
   ]
  },
  {
   "cell_type": "code",
   "execution_count": 2,
   "metadata": {},
   "outputs": [],
   "source": [
    "data = json.loads(randomword()) #gets random and converts to JSON\n",
    "firstdef = data[\"list\"][0] #gets first definition\n",
    "author = firstdef[\"author\"] #author of definition\n",
    "definition = firstdef[\"definition\"] #definition of word\n",
    "word = firstdef[\"word\"]  #word"
   ]
  },
  {
   "cell_type": "code",
   "execution_count": 11,
   "metadata": {},
   "outputs": [
    {
     "data": {
      "text/plain": [
       "7"
      ]
     },
     "execution_count": 11,
     "metadata": {},
     "output_type": "execute_result"
    }
   ],
   "source": [
    "len(data['list'])"
   ]
  },
  {
   "cell_type": "code",
   "execution_count": 9,
   "metadata": {},
   "outputs": [],
   "source": [
    "slang =  {'u': 'you', '4' :'for' }\n",
    "diarect_australia = {'brekky': 'breakfast'}\n",
    "\n",
    "txt = 'Did U have a brekky today?' \n",
    "\n"
   ]
  },
  {
   "cell_type": "code",
   "execution_count": 14,
   "metadata": {},
   "outputs": [
    {
     "name": "stdout",
     "output_type": "stream",
     "text": [
      "1 1\n"
     ]
    }
   ],
   "source": [
    "slang_count = 0\n",
    "diarect_aus_count = 0\n",
    "for i in txt.split(\" \"):\n",
    "    if i.lower() in slang.keys():\n",
    "        slang_count+=1\n",
    "    if i.lower() in diarect_australia.keys():\n",
    "        diarect_aus_count +=1\n",
    "print(slang_count, diarect_aus_count)"
   ]
  },
  {
   "cell_type": "code",
   "execution_count": null,
   "metadata": {},
   "outputs": [],
   "source": []
  }
 ],
 "metadata": {
  "kernelspec": {
   "display_name": "Python 3.10.6 64-bit ('shims')",
   "language": "python",
   "name": "python3"
  },
  "language_info": {
   "codemirror_mode": {
    "name": "ipython",
    "version": 3
   },
   "file_extension": ".py",
   "mimetype": "text/x-python",
   "name": "python",
   "nbconvert_exporter": "python",
   "pygments_lexer": "ipython3",
   "version": "3.10.6"
  },
  "orig_nbformat": 4,
  "vscode": {
   "interpreter": {
    "hash": "8764c6808ed96d2736f47875bfcd7b4e4bf38b212bb1fe2028409af633673231"
   }
  }
 },
 "nbformat": 4,
 "nbformat_minor": 2
}
