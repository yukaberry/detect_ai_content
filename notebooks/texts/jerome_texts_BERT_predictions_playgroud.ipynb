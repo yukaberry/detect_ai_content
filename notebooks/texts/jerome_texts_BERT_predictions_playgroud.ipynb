{
 "cells": [
  {
   "cell_type": "code",
   "execution_count": 1,
   "metadata": {},
   "outputs": [],
   "source": [
    "import matplotlib.pyplot as plt\n",
    "import numpy as np\n",
    "import pandas as pd\n",
    "import seaborn as sns\n",
    "from pathlib import Path\n",
    "import pickle\n",
    "\n",
    "from sklearn.compose import ColumnTransformer, make_column_transformer\n",
    "from sklearn.pipeline import make_pipeline\n",
    "from sklearn.preprocessing import FunctionTransformer, OneHotEncoder\n",
    "\n",
    "from sklearn import set_config; set_config(display='diagram')\n"
   ]
  },
  {
   "cell_type": "code",
   "execution_count": 6,
   "metadata": {},
   "outputs": [
    {
     "data": {
      "text/plain": [
       "Index(['Unnamed: 0', 'text', 'generated', 'number_of_test',\n",
       "       'number_of_correct_prediction', 'pourcentage_of_correct_prediction'],\n",
       "      dtype='object')"
      ]
     },
     "execution_count": 6,
     "metadata": {},
     "output_type": "execute_result"
    }
   ],
   "source": [
    "path = \"../../raw_data/bert_prediction_tests.csv\"\n",
    "df = pd.read_csv(path)\n",
    "df.columns"
   ]
  },
  {
   "cell_type": "code",
   "execution_count": 11,
   "metadata": {},
   "outputs": [
    {
     "data": {
      "text/plain": [
       "<Axes: xlabel='generated', ylabel='pourcentage_of_correct_prediction'>"
      ]
     },
     "execution_count": 11,
     "metadata": {},
     "output_type": "execute_result"
    },
    {
     "data": {
      "image/png": "[encoded data removed]",
      "text/plain": [
       "<Figure size 640x480 with 1 Axes>"
      ]
     },
     "metadata": {},
     "output_type": "display_data"
    }
   ],
   "source": [
    "sns.barplot(data=df, x=\"generated\", y=\"pourcentage_of_correct_prediction\")"
   ]
  },
  {
   "cell_type": "code",
   "execution_count": 14,
   "metadata": {},
   "outputs": [
    {
     "data": {
      "text/html": [
       "<div>\n",
       "<style scoped>\n",
       "    .dataframe tbody tr th:only-of-type {\n",
       "        vertical-align: middle;\n",
       "    }\n",
       "\n",
       "    .dataframe tbody tr th {\n",
       "        vertical-align: top;\n",
       "    }\n",
       "\n",
       "    .dataframe thead th {\n",
       "        text-align: right;\n",
       "    }\n",
       "</style>\n",
       "<table border=\"1\" class=\"dataframe\">\n",
       "  <thead>\n",
       "    <tr style=\"text-align: right;\">\n",
       "      <th></th>\n",
       "      <th>generated</th>\n",
       "      <th>pourcentage_of_correct_prediction</th>\n",
       "      <th>number_of_test</th>\n",
       "    </tr>\n",
       "  </thead>\n",
       "  <tbody>\n",
       "    <tr>\n",
       "      <th>generated</th>\n",
       "      <td>1.000000</td>\n",
       "      <td>0.468354</td>\n",
       "      <td>-0.149839</td>\n",
       "    </tr>\n",
       "    <tr>\n",
       "      <th>pourcentage_of_correct_prediction</th>\n",
       "      <td>0.468354</td>\n",
       "      <td>1.000000</td>\n",
       "      <td>-0.106117</td>\n",
       "    </tr>\n",
       "    <tr>\n",
       "      <th>number_of_test</th>\n",
       "      <td>-0.149839</td>\n",
       "      <td>-0.106117</td>\n",
       "      <td>1.000000</td>\n",
       "    </tr>\n",
       "  </tbody>\n",
       "</table>\n",
       "</div>"
      ],
      "text/plain": [
       "                                   generated  \\\n",
       "generated                           1.000000   \n",
       "pourcentage_of_correct_prediction   0.468354   \n",
       "number_of_test                     -0.149839   \n",
       "\n",
       "                                   pourcentage_of_correct_prediction  \\\n",
       "generated                                                   0.468354   \n",
       "pourcentage_of_correct_prediction                           1.000000   \n",
       "number_of_test                                             -0.106117   \n",
       "\n",
       "                                   number_of_test  \n",
       "generated                               -0.149839  \n",
       "pourcentage_of_correct_prediction       -0.106117  \n",
       "number_of_test                           1.000000  "
      ]
     },
     "execution_count": 14,
     "metadata": {},
     "output_type": "execute_result"
    }
   ],
   "source": [
    "df[['generated', 'pourcentage_of_correct_prediction', 'number_of_test']].corr()\n"
   ]
  }
 ],
 "metadata": {
  "kernelspec": {
   "display_name": "detect_ai_content",
   "language": "python",
   "name": "python3"
  },
  "language_info": {
   "codemirror_mode": {
    "name": "ipython",
    "version": 3
   },
   "file_extension": ".py",
   "mimetype": "text/x-python",
   "name": "python",
   "nbconvert_exporter": "python",
   "pygments_lexer": "ipython3",
   "version": "3.10.6"
  }
 },
 "nbformat": 4,
 "nbformat_minor": 2
}
