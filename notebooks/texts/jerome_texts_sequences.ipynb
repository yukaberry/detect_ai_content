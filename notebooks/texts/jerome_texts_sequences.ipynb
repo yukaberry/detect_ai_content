{
 "cells": [
  {
   "cell_type": "code",
   "execution_count": 30,
   "metadata": {},
   "outputs": [],
   "source": [
    "import matplotlib.pyplot as plt\n",
    "import numpy as np\n",
    "import pandas as pd\n",
    "import seaborn as sns\n",
    "from pathlib import Path\n",
    "import pickle\n",
    "\n",
    "from sklearn.compose import ColumnTransformer, make_column_transformer\n",
    "from sklearn.pipeline import make_pipeline\n",
    "from sklearn.preprocessing import FunctionTransformer, OneHotEncoder\n",
    "\n",
    "from sklearn import set_config; set_config(display='diagram')\n"
   ]
  },
  {
   "cell_type": "code",
   "execution_count": 72,
   "metadata": {},
   "outputs": [
    {
     "name": "stdout",
     "output_type": "stream",
     "text": [
      "(29207, 7)\n",
      "Index(['text', 'generated', 'punctuations', 'neg_sentiment_polarity',\n",
      "       'pos_sentiment_polarity', 'corrections', 'text_lenght'],\n",
      "      dtype='object')\n"
     ]
    }
   ],
   "source": [
    "df = pd.read_csv('../../raw_data/huggingface.co_human_ai_generated_text/model_training_dataset_sequences_enriched.csv')\n",
    "print(df.shape)\n",
    "print(df.columns)"
   ]
  },
  {
   "cell_type": "code",
   "execution_count": 73,
   "metadata": {},
   "outputs": [
    {
     "data": {
      "text/plain": [
       "<Axes: xlabel='generated', ylabel='corrections'>"
      ]
     },
     "execution_count": 73,
     "metadata": {},
     "output_type": "execute_result"
    },
    {
     "data": {
      "image/png": "[encoded data removed]",
      "text/plain": [
       "<Figure size 640x480 with 1 Axes>"
      ]
     },
     "metadata": {},
     "output_type": "display_data"
    }
   ],
   "source": [
    "sns.barplot(data=df, x=\"generated\", y=\"corrections\")"
   ]
  },
  {
   "cell_type": "code",
   "execution_count": 74,
   "metadata": {},
   "outputs": [
    {
     "data": {
      "text/plain": [
       "(29207, 5)"
      ]
     },
     "execution_count": 74,
     "metadata": {},
     "output_type": "execute_result"
    }
   ],
   "source": [
    "from detect_ai_content.ml_logic.for_texts.using_ml_features.using_sentences_decomposition import *\n",
    "\n",
    "df_preprocessed = preprocess(data=df, execute_enrich=False)\n",
    "df_preprocessed.shape"
   ]
  },
  {
   "cell_type": "code",
   "execution_count": 75,
   "metadata": {},
   "outputs": [
    {
     "data": {
      "text/plain": [
       "array([[-0.5       ,  0.        ,  1.05652174,  0.        , -0.8974359 ],\n",
       "       [-0.5       , -0.08      , -0.35217391,  0.        , -0.16666667],\n",
       "       [-0.5       ,  0.        , -0.35217391,  1.        ,  0.26923077],\n",
       "       ...,\n",
       "       [ 0.        , -0.053125  , -0.35217391,  0.        ,  0.70512821],\n",
       "       [ 0.5       , -0.07222222, -0.35217391,  1.        ,  0.23076923],\n",
       "       [ 0.        ,  0.        , -0.35217391,  0.        , -0.75641026]])"
      ]
     },
     "execution_count": 75,
     "metadata": {},
     "output_type": "execute_result"
    }
   ],
   "source": [
    "df_preprocessed"
   ]
  },
  {
   "cell_type": "code",
   "execution_count": 76,
   "metadata": {},
   "outputs": [],
   "source": [
    "model = train_LogisticRegression_model(X_train_processed=df_preprocessed, y_train=df['generated'])\n",
    "\n",
    "# model_path = '../../detect_ai_content/models/leverdewagon/sequences_logit.pickle'\n",
    "# pickle.dump(model, open(model_path, 'wb'))"
   ]
  },
  {
   "cell_type": "code",
   "execution_count": 77,
   "metadata": {},
   "outputs": [
    {
     "name": "stdout",
     "output_type": "stream",
     "text": [
      "START:The youngers student needs the olders student like the olders student need a adult to they can say dont do this is the same the younger.:END\n",
      "START:student need the olders student they can help each others.:END\n",
      "START:If the youngers studetn have a promble or a question they can ask the olders student.:END\n",
      "START:To do right this some student of the youngers schools they dont know english the olders studen.:END\n",
      "START:Can help them some times the olders student needs the youngerts students to do somenthing like if the olders sstudent dont know somenthing they can.:END\n",
      "_number_of_corrections_using_Spacy: The youngers student needs the olders student like the olders student need a adult to they can say dont do this is the same the younger.\n",
      "_number_of_corrections_using_Spacy: student need the olders student they can help each others.\n",
      "_number_of_corrections_using_Spacy: If the youngers studetn have a promble or a question they can ask the olders student.\n",
      "_number_of_corrections_using_Spacy: To do right this some student of the youngers schools they dont know english the olders studen.\n",
      "_number_of_corrections_using_Spacy: Can help them some times the olders student needs the youngerts students to do somenthing like if the olders sstudent dont know somenthing they can.\n"
     ]
    }
   ],
   "source": [
    "text = \"The youngers student needs the olders student like the olders student need a adult to they can say dont do this is the same the younger. student need the olders student they can help each others. If the youngers studetn have a promble or a question they can ask the olders student. To do right this some student of the youngers schools they dont know english the olders studen. Can help them some times the olders student needs the youngerts students to do somenthing like if the olders sstudent dont know somenthing they can.\"\n",
    "sentences_df = to_sentences(pd.DataFrame(data={'text':[text]}), include_generated=False)\n",
    "sentences_preprocessed_df = preprocess(sentences_df)\n",
    "preds = model.predict(X=sentences_preprocessed_df)"
   ]
  },
  {
   "cell_type": "code",
   "execution_count": 78,
   "metadata": {},
   "outputs": [
    {
     "data": {
      "text/plain": [
       "array([0, 1, 0, 0, 0])"
      ]
     },
     "execution_count": 78,
     "metadata": {},
     "output_type": "execute_result"
    }
   ],
   "source": [
    "preds"
   ]
  }
 ],
 "metadata": {
  "kernelspec": {
   "display_name": "detect_ai_content",
   "language": "python",
   "name": "python3"
  },
  "language_info": {
   "codemirror_mode": {
    "name": "ipython",
    "version": 3
   },
   "file_extension": ".py",
   "mimetype": "text/x-python",
   "name": "python",
   "nbconvert_exporter": "python",
   "pygments_lexer": "ipython3",
   "version": "3.10.6"
  }
 },
 "nbformat": 4,
 "nbformat_minor": 2
}
